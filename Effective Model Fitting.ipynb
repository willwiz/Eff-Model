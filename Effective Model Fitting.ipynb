{
 "cells": [
  {
   "cell_type": "markdown",
   "metadata": {},
   "source": [
    "#           Fitting Effective Model parameters"
   ]
  },
  {
   "cell_type": "markdown",
   "metadata": {},
   "source": [
    "## Initialization "
   ]
  },
  {
   "cell_type": "code",
   "execution_count": 3,
   "metadata": {
    "collapsed": true
   },
   "outputs": [],
   "source": [
    "from model import form as md"
   ]
  },
  {
   "cell_type": "code",
   "execution_count": 4,
   "metadata": {
    "collapsed": true
   },
   "outputs": [],
   "source": [
    "import numpy as np\n",
    "from numpy.linalg import inv"
   ]
  },
  {
   "cell_type": "code",
   "execution_count": 5,
   "metadata": {
    "collapsed": true
   },
   "outputs": [],
   "source": [
    "%matplotlib inline\n",
    "# %matplotlib notebook\n",
    "import matplotlib\n",
    "import matplotlib.cm as cm\n",
    "import matplotlib.mlab as mlab\n",
    "import matplotlib.pyplot as plt\n",
    "import matplotlib.ticker as ticker\n",
    "from mpl_toolkits.mplot3d import Axes3D"
   ]
  },
  {
   "cell_type": "code",
   "execution_count": 6,
   "metadata": {
    "collapsed": true
   },
   "outputs": [],
   "source": [
    "import timeit\n",
    "import time"
   ]
  },
  {
   "cell_type": "code",
   "execution_count": 7,
   "metadata": {
    "collapsed": true
   },
   "outputs": [],
   "source": [
    "import os"
   ]
  },
  {
   "cell_type": "code",
   "execution_count": 8,
   "metadata": {
    "collapsed": true
   },
   "outputs": [],
   "source": [
    "from scipy.optimize import lsq_linear\n",
    "from scipy.optimize import minimize"
   ]
  },
  {
   "cell_type": "code",
   "execution_count": 9,
   "metadata": {
    "collapsed": false
   },
   "outputs": [],
   "source": [
    "import nlopt"
   ]
  },
  {
   "cell_type": "code",
   "execution_count": 10,
   "metadata": {
    "collapsed": true
   },
   "outputs": [],
   "source": [
    "from tkinter import*\n",
    "# Create Tk root\n",
    "root = Tk()\n",
    "# Hide the main window\n",
    "root.withdraw()\n",
    "root.call('wm', 'attributes', '.', '-topmost', True)\n",
    "\n",
    "from tkinter import filedialog"
   ]
  },
  {
   "cell_type": "markdown",
   "metadata": {},
   "source": [
    "## Import required data"
   ]
  },
  {
   "cell_type": "markdown",
   "metadata": {},
   "source": [
    "### Import GUI"
   ]
  },
  {
   "cell_type": "code",
   "execution_count": 11,
   "metadata": {
    "collapsed": true
   },
   "outputs": [],
   "source": [
    "#   Open the import file GUI\n",
    "##  Remember to look at your list of Apps\n",
    "infiles = filedialog.askopenfilename(multiple=True)\n",
    "%gui tk"
   ]
  },
  {
   "cell_type": "code",
   "execution_count": 12,
   "metadata": {
    "collapsed": false
   },
   "outputs": [
    {
     "data": {
      "text/plain": [
       "'/Users/willwiz/Downloads/Will-Rana-selected/specimen1/iso_wc/iso1data.txt'"
      ]
     },
     "execution_count": 12,
     "metadata": {},
     "output_type": "execute_result"
    }
   ],
   "source": [
    "# The file that gets imported\n",
    "infiles[0]"
   ]
  },
  {
   "cell_type": "code",
   "execution_count": 13,
   "metadata": {
    "collapsed": true
   },
   "outputs": [],
   "source": [
    "importeddata = np.loadtxt(infiles[0])"
   ]
  },
  {
   "cell_type": "code",
   "execution_count": 14,
   "metadata": {
    "collapsed": true
   },
   "outputs": [],
   "source": [
    "importedconsdata = np.loadtxt(os.path.join(os.path.dirname(os.path.realpath(infiles[0])), 'consdata.txt'))"
   ]
  },
  {
   "cell_type": "markdown",
   "metadata": {},
   "source": [
    "### Data processing"
   ]
  },
  {
   "cell_type": "code",
   "execution_count": 15,
   "metadata": {
    "collapsed": false
   },
   "outputs": [
    {
     "name": "stdout",
     "output_type": "stream",
     "text": [
      "1113\n"
     ]
    }
   ],
   "source": [
    "data_size = importeddata[:,1].size\n",
    "print(data_size)"
   ]
  },
  {
   "cell_type": "code",
   "execution_count": 16,
   "metadata": {
    "collapsed": false
   },
   "outputs": [],
   "source": [
    "Fdata = importeddata[:,[0,1,2,3]]"
   ]
  },
  {
   "cell_type": "code",
   "execution_count": 17,
   "metadata": {
    "collapsed": true
   },
   "outputs": [],
   "source": [
    "# Import the deformation gradient tensor from the data\n",
    "ftensor = np.zeros((data_size,2,2))\n",
    "ftensor[:,0,0] = importeddata[:,0]\n",
    "ftensor[:,0,1] = importeddata[:,1]\n",
    "ftensor[:,1,0] = importeddata[:,2]\n",
    "ftensor[:,1,1] = importeddata[:,3]\n",
    "# Import the 2nd PK tensor from the data\n",
    "Stensor = np.zeros((data_size,2,2))\n",
    "Stensor[:,0,0] = importeddata[:,4]\n",
    "Stensor[:,0,1] = importeddata[:,5]\n",
    "Stensor[:,1,0] = importeddata[:,5]\n",
    "Stensor[:,1,1] = importeddata[:,6]"
   ]
  },
  {
   "cell_type": "code",
   "execution_count": 18,
   "metadata": {
    "collapsed": true
   },
   "outputs": [],
   "source": [
    "# Compute the Cauchy stress the deformation gradient tensor from the data\n",
    "Ttensor = np.zeros((data_size,2,2))\n",
    "for i in range(data_size):\n",
    "    Ttensor[i] = ftensor[i].dot(Stensor[i]).dot(ftensor[i].T)"
   ]
  },
  {
   "cell_type": "code",
   "execution_count": 19,
   "metadata": {
    "collapsed": true
   },
   "outputs": [],
   "source": [
    "## Low stress region points\n",
    "ls_datapoints = np.array([ n for n,i in enumerate(Stensor) if i[0,0] < 50 and i[0,1] < 50 and i[1,1] < 50])"
   ]
  },
  {
   "cell_type": "markdown",
   "metadata": {},
   "source": [
    "#### Compute the preferred direction"
   ]
  },
  {
   "cell_type": "code",
   "execution_count": 20,
   "metadata": {
    "collapsed": true
   },
   "outputs": [],
   "source": [
    "M = np.array([1,0])"
   ]
  },
  {
   "cell_type": "code",
   "execution_count": 21,
   "metadata": {
    "collapsed": false
   },
   "outputs": [],
   "source": [
    "S = np.array([-M[1], M[0]])"
   ]
  },
  {
   "cell_type": "code",
   "execution_count": 22,
   "metadata": {
    "collapsed": false
   },
   "outputs": [
    {
     "data": {
      "text/plain": [
       "array([[ 0.9       , -0.20069602],\n",
       "       [ 0.        ,  1.        ]])"
      ]
     },
     "execution_count": 22,
     "metadata": {},
     "output_type": "execute_result"
    }
   ],
   "source": [
    "ftensor[1]"
   ]
  },
  {
   "cell_type": "code",
   "execution_count": 23,
   "metadata": {
    "collapsed": false,
    "scrolled": true
   },
   "outputs": [],
   "source": [
    "m = np.zeros((data_size,2))\n",
    "for i in range(data_size):\n",
    "    m[i] = md.calc_m(Fdata[i], M)"
   ]
  },
  {
   "cell_type": "code",
   "execution_count": 24,
   "metadata": {
    "collapsed": true
   },
   "outputs": [],
   "source": [
    "s = np.zeros((data_size,2))\n",
    "for i in range(data_size):\n",
    "    s[i] = md.cross_2D(m[i])"
   ]
  },
  {
   "cell_type": "markdown",
   "metadata": {},
   "source": [
    "#### Compute the kinematic variables"
   ]
  },
  {
   "cell_type": "code",
   "execution_count": 25,
   "metadata": {
    "collapsed": true
   },
   "outputs": [],
   "source": [
    "dat_lambdaM = np.zeros(data_size)\n",
    "dat_lambdaS = np.zeros(data_size)\n",
    "dat_phi = np.zeros(data_size)"
   ]
  },
  {
   "cell_type": "code",
   "execution_count": 26,
   "metadata": {
    "collapsed": false
   },
   "outputs": [],
   "source": [
    "## for lambda_M \n",
    "for i in range(data_size):\n",
    "    dat_lambdaM[i] = md.lambda_M(Fdata[i], M) #m[i].dot(ftensor[i]).dot(M)\n",
    "    \n",
    "## for lambda_S\n",
    "for i in range(data_size):\n",
    "    dat_lambdaS[i] = md.lambda_S(Fdata[i], M) #s[i].dot(ftensor[i]).dot(S)\n",
    "\n",
    "## for phi_M\n",
    "for i in range(data_size):\n",
    "    dat_phi[i] = md.phi(Fdata[i], M) #m[i].dot(ftensor[i]).dot(S)/dat_lambdaM[i]"
   ]
  },
  {
   "cell_type": "code",
   "execution_count": 27,
   "metadata": {
    "collapsed": false
   },
   "outputs": [],
   "source": [
    "dat_gamma1 = np.log(dat_lambdaM)\n",
    "dat_gamma2 = np.log(dat_lambdaS)\n",
    "dat_gamma3 = dat_phi"
   ]
  },
  {
   "cell_type": "code",
   "execution_count": 28,
   "metadata": {
    "collapsed": true
   },
   "outputs": [],
   "source": [
    "gamma1 = dat_gamma1\n",
    "gamma2 = dat_gamma2\n",
    "gamma3 = dat_gamma3"
   ]
  },
  {
   "cell_type": "markdown",
   "metadata": {
    "collapsed": true
   },
   "source": [
    "#### Compute the response function variables"
   ]
  },
  {
   "cell_type": "code",
   "execution_count": 29,
   "metadata": {
    "collapsed": false
   },
   "outputs": [],
   "source": [
    "W1 = np.zeros(data_size)\n",
    "W2 = np.zeros(data_size)\n",
    "W3 = np.zeros(data_size)"
   ]
  },
  {
   "cell_type": "code",
   "execution_count": 30,
   "metadata": {
    "collapsed": false
   },
   "outputs": [],
   "source": [
    "for i in range(data_size):\n",
    "    W1[i] = m[i].dot(Ttensor[i]).dot(m[i])"
   ]
  },
  {
   "cell_type": "code",
   "execution_count": 31,
   "metadata": {
    "collapsed": false
   },
   "outputs": [],
   "source": [
    "for i in range(data_size):\n",
    "    W2[i] = s[i].dot(Ttensor[i]).dot(s[i])"
   ]
  },
  {
   "cell_type": "code",
   "execution_count": 32,
   "metadata": {
    "collapsed": false
   },
   "outputs": [],
   "source": [
    "for i in range(data_size):\n",
    "    W3[i] = m[i].dot(Ttensor[i]).dot(s[i]) * dat_lambdaM[i] / dat_lambdaS[i]"
   ]
  },
  {
   "cell_type": "code",
   "execution_count": 33,
   "metadata": {
    "collapsed": true
   },
   "outputs": [],
   "source": [
    "Wvector = np.concatenate((W1,W2,W3))"
   ]
  },
  {
   "cell_type": "markdown",
   "metadata": {
    "collapsed": true
   },
   "source": [
    "## Define the model "
   ]
  },
  {
   "cell_type": "markdown",
   "metadata": {
    "collapsed": true
   },
   "source": [
    "### Define the model form"
   ]
  },
  {
   "cell_type": "markdown",
   "metadata": {
    "collapsed": true
   },
   "source": [
    "### Define the response functions"
   ]
  },
  {
   "cell_type": "markdown",
   "metadata": {},
   "source": [
    "### Define the stiffness functions"
   ]
  },
  {
   "cell_type": "code",
   "execution_count": 34,
   "metadata": {
    "collapsed": true
   },
   "outputs": [],
   "source": [
    "def rW1(g1, g2, g3, degrees):\n",
    "    x = g1, g2, g3, degrees\n",
    "    lm2 = np.exp(g1)**2\n",
    "    ls2 = np.exp(g2)**2\n",
    "    phi = g3\n",
    "    return -(phi**2 /lm2/ls2 + .5 * phi**4 /ls2/ls2)*dW2(*x) \\\n",
    "            +(2*phi*dW3(*x) - 0.5*dW1(*x) + 0.25*dW11(*x) + phi**2 * dW33(*x) - phi*dW13(*x))/lm2/lm2 \\\n",
    "            +phi**2 /lm2/ls2 * (.5*dW12(*x) - phi*dW23(*x)) + 0.25 * phi**4 /ls2/ls2 * dW22(*x)"
   ]
  },
  {
   "cell_type": "code",
   "execution_count": 35,
   "metadata": {
    "collapsed": true
   },
   "outputs": [],
   "source": [
    "def rW2(g1, g2, g3, degrees):\n",
    "    x = g1, g2, g3, degrees\n",
    "    lm2 = np.exp(g1)**2\n",
    "    ls2 = np.exp(g2)**2\n",
    "    phi = g3\n",
    "    return 0.5*(phi/lm2/ls2 + phi**3/ls2/ls2) * dW2(*x) \\\n",
    "            +0.5/lm2/lm2*(0.5*dW13(*x) - dW3(*x) - phi*dW33(*x)) \\\n",
    "            +0.25*phi/lm2/ls2*(3*phi*dW23(*x) - dW12(*x)) - 0.25 * phi**3 /ls2/ls2 * dW22(*x)"
   ]
  },
  {
   "cell_type": "code",
   "execution_count": 36,
   "metadata": {
    "collapsed": true
   },
   "outputs": [],
   "source": [
    "def rW3(g1, g2, g3, degrees):\n",
    "    x = g1, g2, g3, degrees\n",
    "    lm2 = np.exp(g1)**2\n",
    "    ls2 = np.exp(g2)**2\n",
    "    phi = g3\n",
    "    return 0.25 * phi**2/ls2/ls2 *(dW22(*x) - 2*dW2(*x)) + 0.25/lm2/ls2*(dW12(*x) - 2*phi*dW23(*x))"
   ]
  },
  {
   "cell_type": "code",
   "execution_count": 37,
   "metadata": {
    "collapsed": true
   },
   "outputs": [],
   "source": [
    "def rW4(g1, g2, g3, degrees):\n",
    "    x = g1, g2, g3, degrees\n",
    "    lm2 = np.exp(g1)**2\n",
    "    ls2 = np.exp(g2)**2\n",
    "    phi = g3\n",
    "    return -(0.25/lm2 + 0.5*phi**2/ls2)/ls2*dW2(*x) + 0.25 * phi**2 /ls2/ls2*dW22(*x) \\\n",
    "            +0.25/lm2/lm2*dW33(*x) - 0.5*phi/lm2/ls2 * dW23(*x)"
   ]
  },
  {
   "cell_type": "code",
   "execution_count": 38,
   "metadata": {
    "collapsed": true
   },
   "outputs": [],
   "source": [
    "def rW5(g1, g2, g3, degrees):\n",
    "    x = g1, g2, g3, degrees\n",
    "    lm2 = np.exp(g1)**2\n",
    "    ls2 = np.exp(g2)**2\n",
    "    phi = g3\n",
    "    return 0.25*phi/ls2/ls2*(2*dW2(*x) - dW22(*x)) + 0.25/lm2/ls2*dW23(*x)"
   ]
  },
  {
   "cell_type": "code",
   "execution_count": 39,
   "metadata": {
    "collapsed": true
   },
   "outputs": [],
   "source": [
    "def rW6(g1, g2, g3, degrees):\n",
    "    x = g1, g2, g3, degrees\n",
    "    ls2 = np.exp(g2)**2\n",
    "    return 0.25/ls2/ls2*(dW22(*x) - 2*dW2(*x))"
   ]
  },
  {
   "cell_type": "markdown",
   "metadata": {},
   "source": [
    "### Define the stress"
   ]
  },
  {
   "cell_type": "markdown",
   "metadata": {},
   "source": [
    "## Precompute the problem"
   ]
  },
  {
   "cell_type": "markdown",
   "metadata": {},
   "source": [
    "### Define the response matrix"
   ]
  },
  {
   "cell_type": "markdown",
   "metadata": {},
   "source": [
    "### Define the elasticity matrix"
   ]
  },
  {
   "cell_type": "markdown",
   "metadata": {},
   "source": [
    "### Precompute the response matrix"
   ]
  },
  {
   "cell_type": "code",
   "execution_count": 41,
   "metadata": {
    "collapsed": false
   },
   "outputs": [],
   "source": [
    "\n",
    "Wvector = np.concatenate((W1,W2,W3))"
   ]
  },
  {
   "cell_type": "markdown",
   "metadata": {},
   "source": [
    "### Precompute the elasticity matrix"
   ]
  },
  {
   "cell_type": "markdown",
   "metadata": {},
   "source": [
    "## Fit the low stress region"
   ]
  },
  {
   "cell_type": "markdown",
   "metadata": {},
   "source": [
    "### Data processing"
   ]
  },
  {
   "cell_type": "markdown",
   "metadata": {},
   "source": [
    "### Functions"
   ]
  },
  {
   "cell_type": "markdown",
   "metadata": {},
   "source": [
    "### Parameter optimization"
   ]
  },
  {
   "cell_type": "markdown",
   "metadata": {},
   "source": [
    "### Plot the results"
   ]
  },
  {
   "cell_type": "markdown",
   "metadata": {},
   "source": [
    "##### Plot for W1"
   ]
  },
  {
   "cell_type": "markdown",
   "metadata": {},
   "source": [
    "### Post processing to remove the toe region"
   ]
  },
  {
   "cell_type": "markdown",
   "metadata": {},
   "source": [
    "## Define the optimization problem"
   ]
  },
  {
   "cell_type": "markdown",
   "metadata": {},
   "source": [
    "### Define the objective function"
   ]
  },
  {
   "cell_type": "markdown",
   "metadata": {},
   "source": [
    "### Define the constraint functions"
   ]
  },
  {
   "cell_type": "markdown",
   "metadata": {},
   "source": [
    "## Forward Selection: Model enhancement"
   ]
  },
  {
   "cell_type": "markdown",
   "metadata": {},
   "source": [
    "## Model parameter covariance"
   ]
  },
  {
   "cell_type": "markdown",
   "metadata": {},
   "source": [
    "### Compute the covariance matrix "
   ]
  },
  {
   "cell_type": "markdown",
   "metadata": {},
   "source": [
    "### Parameter fitness"
   ]
  },
  {
   "cell_type": "markdown",
   "metadata": {},
   "source": [
    "## Backwards Elimination: Model refinement"
   ]
  },
  {
   "cell_type": "code",
   "execution_count": 42,
   "metadata": {
    "collapsed": true
   },
   "outputs": [],
   "source": [
    "def obj_f(const):\n",
    "    sse = 0.0\n",
    "    for i in range(data_size):\n",
    "        e1 = md.model_W1(const, Fdata[i], M) - W1[i]\n",
    "        sse += e1 * e1\n",
    "        e2 = md.model_W2(const, Fdata[i], M) - W2[i]\n",
    "        sse += e2 * e2\n",
    "        e3 = md.model_W3(const, Fdata[i], M) - W3[i]\n",
    "        sse += e3 * e3\n",
    "    return sse"
   ]
  },
  {
   "cell_type": "code",
   "execution_count": 45,
   "metadata": {
    "collapsed": false
   },
   "outputs": [],
   "source": [
    "ymax = [gamma1.max(), gamma2.max(), gamma3.max()]"
   ]
  },
  {
   "cell_type": "code",
   "execution_count": 46,
   "metadata": {
    "collapsed": true
   },
   "outputs": [],
   "source": [
    "def obj_f_s(const):\n",
    "    sse = 0.0\n",
    "    for i in range(data_size):\n",
    "        e1 = md.model_W1_s(const, Fdata[i], M, ymax) - W1[i]\n",
    "        sse += e1 * e1\n",
    "        e2 = md.model_W2_s(const, Fdata[i], M, ymax) - W2[i]\n",
    "        sse += e2 * e2\n",
    "        e3 = md.model_W3_s(const, Fdata[i], M, ymax) - W3[i]\n",
    "        sse += e3 * e3\n",
    "    return sse"
   ]
  },
  {
   "cell_type": "code",
   "execution_count": 45,
   "metadata": {
    "collapsed": false
   },
   "outputs": [
    {
     "data": {
      "text/plain": [
       "286897716.53311962"
      ]
     },
     "execution_count": 45,
     "metadata": {},
     "output_type": "execute_result"
    }
   ],
   "source": [
    "obj_f([1,0,0,0,0,0,0])"
   ]
  },
  {
   "cell_type": "code",
   "execution_count": 47,
   "metadata": {
    "collapsed": false
   },
   "outputs": [
    {
     "data": {
      "text/plain": [
       "286897716.53311962"
      ]
     },
     "execution_count": 47,
     "metadata": {},
     "output_type": "execute_result"
    }
   ],
   "source": [
    "obj_f_s([1,0,0,0,0,0,0])"
   ]
  },
  {
   "cell_type": "code",
   "execution_count": 1078,
   "metadata": {
    "collapsed": false
   },
   "outputs": [],
   "source": [
    "# def f(x, grad):\n",
    "#     if grad.size > 0:\n",
    "#         global model_exp\n",
    "#         grad[:] = obj_f_jac(x, index[model_exp])\n",
    "#         return obj_f(x, index[model_exp])\n",
    "\n",
    "    \n",
    "# def c(result, x, grad):\n",
    "#     if grad.size > 0:\n",
    "#         global model_exp\n",
    "#         for i in range(ncons):\n",
    "#             result[3*i] = -constraint1(i, index[model_exp], x)\n",
    "#             result[3*i + 1] = -constraint4(i, index[model_exp], x)\n",
    "#             result[3*i + 2] = -constraint7(i, index[model_exp], x)\n",
    "#             grad[3*i,:] = -cons1_jac(i, index[model_exp], x)\n",
    "#             grad[3*i + 1,:] = -cons4_jac(i, index[model_exp], x)\n",
    "#             grad[3*i + 2,:] = -cons7_jac(i, index[model_exp], x)\n",
    "#     return 0\n",
    "                 \n",
    "            "
   ]
  },
  {
   "cell_type": "code",
   "execution_count": 1156,
   "metadata": {
    "collapsed": true
   },
   "outputs": [],
   "source": [
    "# del opt"
   ]
  },
  {
   "cell_type": "code",
   "execution_count": 1157,
   "metadata": {
    "collapsed": true
   },
   "outputs": [],
   "source": [
    "# lb = np.full(index.size, -10.0e-10)\n",
    "# ub = np.full(index.size, -10.0e-10)\n",
    "\n",
    "# for i in cons_positions:\n",
    "#     lb[i] = 0"
   ]
  },
  {
   "cell_type": "code",
   "execution_count": 1158,
   "metadata": {
    "collapsed": false
   },
   "outputs": [],
   "source": [
    "# opt = nlopt.opt(nlopt.LD_MMA, model_exp.size)\n",
    "# # opt = nlopt.opt(nlopt.GN_ISRES, model_exp.size)\n",
    "# opt.set_min_objective(f)\n",
    "\n",
    "# opt.set_lower_bounds(lb[index[model_exp]])\n",
    "# opt.set_upper_bounds(ub[index[model_exp]])\n",
    "\n",
    "# opt.set_ftol_rel(1.0e-6)\n",
    "# opt.set_ftol_abs(0)\n",
    "# opt.set_xtol_rel(0)\n",
    "# opt.set_xtol_abs(0)\n",
    "\n",
    "# opt.set_maxeval(100)\n",
    "# opt.set_maxtime(900)\n",
    "\n",
    "# # opt.add_inequality_mconstraint(c, np.full(3*ncons, 1.0e-14))\n",
    "# # opt.remove_inequality_mconstraint()"
   ]
  },
  {
   "cell_type": "code",
   "execution_count": 1159,
   "metadata": {
    "collapsed": true
   },
   "outputs": [],
   "source": [
    "# # ig = np.zeros(model_exp.size)\n",
    "# temp_sol = inv((Wtensor[:,index[model_exp]].T).dot(Wtensor[:,index[model_exp]])).dot(Wtensor[:,index[model_exp]].T).dot(hs_vec_b)\n",
    "# # ig = np.sqrt(temp_sol.clip(min=0, max = 1000))\n",
    "# ig = temp_sol.clip(min=0)\n",
    "# # ig = np.zeros(model_exp.size)"
   ]
  },
  {
   "cell_type": "code",
   "execution_count": 1160,
   "metadata": {
    "collapsed": false
   },
   "outputs": [],
   "source": [
    "# testgrad = np.zeros(model_exp.size)"
   ]
  },
  {
   "cell_type": "code",
   "execution_count": 1163,
   "metadata": {
    "collapsed": false,
    "scrolled": true
   },
   "outputs": [
    {
     "ename": "ValueError",
     "evalue": "nlopt invalid argument",
     "output_type": "error",
     "traceback": [
      "\u001b[0;31m---------------------------------------------------------------------------\u001b[0m",
      "\u001b[0;31mValueError\u001b[0m                                Traceback (most recent call last)",
      "\u001b[0;32m<ipython-input-1163-bd6daed9739f>\u001b[0m in \u001b[0;36m<module>\u001b[0;34m()\u001b[0m\n\u001b[0;32m----> 1\u001b[0;31m \u001b[0mxopt\u001b[0m \u001b[0;34m=\u001b[0m \u001b[0mopt\u001b[0m\u001b[0;34m.\u001b[0m\u001b[0moptimize\u001b[0m\u001b[0;34m(\u001b[0m\u001b[0mig\u001b[0m\u001b[0;34m)\u001b[0m\u001b[0;34m\u001b[0m\u001b[0m\n\u001b[0m",
      "\u001b[0;32m/Users/willwiz/anaconda/lib/python3.5/site-packages/nlopt.py\u001b[0m in \u001b[0;36moptimize\u001b[0;34m(self, *args)\u001b[0m\n\u001b[1;32m    258\u001b[0m         \u001b[0;32mtry\u001b[0m\u001b[0;34m:\u001b[0m \u001b[0mself\u001b[0m\u001b[0;34m.\u001b[0m\u001b[0mthis\u001b[0m\u001b[0;34m.\u001b[0m\u001b[0mappend\u001b[0m\u001b[0;34m(\u001b[0m\u001b[0mthis\u001b[0m\u001b[0;34m)\u001b[0m\u001b[0;34m\u001b[0m\u001b[0m\n\u001b[1;32m    259\u001b[0m         \u001b[0;32mexcept\u001b[0m\u001b[0;34m:\u001b[0m \u001b[0mself\u001b[0m\u001b[0;34m.\u001b[0m\u001b[0mthis\u001b[0m \u001b[0;34m=\u001b[0m \u001b[0mthis\u001b[0m\u001b[0;34m\u001b[0m\u001b[0m\n\u001b[0;32m--> 260\u001b[0;31m     \u001b[0;32mdef\u001b[0m \u001b[0moptimize\u001b[0m\u001b[0;34m(\u001b[0m\u001b[0mself\u001b[0m\u001b[0;34m,\u001b[0m \u001b[0;34m*\u001b[0m\u001b[0margs\u001b[0m\u001b[0;34m)\u001b[0m\u001b[0;34m:\u001b[0m \u001b[0;32mreturn\u001b[0m \u001b[0m_nlopt\u001b[0m\u001b[0;34m.\u001b[0m\u001b[0mopt_optimize\u001b[0m\u001b[0;34m(\u001b[0m\u001b[0mself\u001b[0m\u001b[0;34m,\u001b[0m \u001b[0;34m*\u001b[0m\u001b[0margs\u001b[0m\u001b[0;34m)\u001b[0m\u001b[0;34m\u001b[0m\u001b[0m\n\u001b[0m\u001b[1;32m    261\u001b[0m     \u001b[0;32mdef\u001b[0m \u001b[0mlast_optimize_result\u001b[0m\u001b[0;34m(\u001b[0m\u001b[0mself\u001b[0m\u001b[0;34m)\u001b[0m\u001b[0;34m:\u001b[0m \u001b[0;32mreturn\u001b[0m \u001b[0m_nlopt\u001b[0m\u001b[0;34m.\u001b[0m\u001b[0mopt_last_optimize_result\u001b[0m\u001b[0;34m(\u001b[0m\u001b[0mself\u001b[0m\u001b[0;34m)\u001b[0m\u001b[0;34m\u001b[0m\u001b[0m\n\u001b[1;32m    262\u001b[0m     \u001b[0;32mdef\u001b[0m \u001b[0mlast_optimum_value\u001b[0m\u001b[0;34m(\u001b[0m\u001b[0mself\u001b[0m\u001b[0;34m)\u001b[0m\u001b[0;34m:\u001b[0m \u001b[0;32mreturn\u001b[0m \u001b[0m_nlopt\u001b[0m\u001b[0;34m.\u001b[0m\u001b[0mopt_last_optimum_value\u001b[0m\u001b[0;34m(\u001b[0m\u001b[0mself\u001b[0m\u001b[0;34m)\u001b[0m\u001b[0;34m\u001b[0m\u001b[0m\n",
      "\u001b[0;31mValueError\u001b[0m: nlopt invalid argument"
     ]
    }
   ],
   "source": [
    "# xopt = opt.optimize(ig)"
   ]
  },
  {
   "cell_type": "code",
   "execution_count": 1133,
   "metadata": {
    "collapsed": false,
    "scrolled": false
   },
   "outputs": [
    {
     "name": "stdout",
     "output_type": "stream",
     "text": [
      "[  7.91392027e+03   4.17906958e+03   3.27872515e+03   3.84676221e+04\n",
      "   1.01877503e+04   3.42494254e+06   1.02468203e+08   1.38919290e+04\n",
      "  -6.98021047e+04  -2.06720362e+04   4.09144970e+05  -6.19456514e+04\n",
      "   1.39481524e+06   8.59242975e+05   4.21965471e+06   3.52828784e+07\n",
      "   7.18181268e+07  -1.89925818e+05  -1.32978370e+05   5.94249977e+08\n",
      "   7.62955477e+05   6.43961698e+09   2.72233037e+09   2.37984605e+16]\n",
      "5\n",
      "137611796.03163126\n"
     ]
    }
   ],
   "source": [
    "# print(xopt)\n",
    "# print(opt.last_optimize_result())\n",
    "# print(opt.last_optimum_value())"
   ]
  },
  {
   "cell_type": "code",
   "execution_count": 50,
   "metadata": {
    "collapsed": true
   },
   "outputs": [],
   "source": [
    "ig = np.array([100,20,20,20,20,20,20])"
   ]
  },
  {
   "cell_type": "code",
   "execution_count": 58,
   "metadata": {
    "collapsed": false
   },
   "outputs": [
    {
     "data": {
      "text/plain": [
       "286897716.53311962"
      ]
     },
     "execution_count": 58,
     "metadata": {},
     "output_type": "execute_result"
    }
   ],
   "source": [
    "obj_f(np.array([0,0,0,0,0,0,0]))"
   ]
  },
  {
   "cell_type": "code",
   "execution_count": 57,
   "metadata": {
    "collapsed": false
   },
   "outputs": [
    {
     "data": {
      "text/plain": [
       "273908599.98248428"
      ]
     },
     "execution_count": 57,
     "metadata": {},
     "output_type": "execute_result"
    }
   ],
   "source": [
    "obj_f(ig)"
   ]
  },
  {
   "cell_type": "code",
   "execution_count": null,
   "metadata": {
    "collapsed": true
   },
   "outputs": [],
   "source": []
  },
  {
   "cell_type": "code",
   "execution_count": 55,
   "metadata": {
    "collapsed": false,
    "scrolled": false
   },
   "outputs": [
    {
     "name": "stdout",
     "output_type": "stream",
     "text": [
      "  NIT    FC           OBJFUN            GNORM\n",
      "    1     9     1.900606E+09     2.214794E+08\n"
     ]
    },
    {
     "name": "stderr",
     "output_type": "stream",
     "text": [
      "/Users/willwiz/Documents/S3-Python/eff-model-parameter-estimation/model/form.py:153: RuntimeWarning: overflow encountered in exp\n",
      "  ans = c[0] * (Q1 * np.exp(Q)).sum()\n",
      "/Users/willwiz/Documents/S3-Python/eff-model-parameter-estimation/model/form.py:153: RuntimeWarning: invalid value encountered in multiply\n",
      "  ans = c[0] * (Q1 * np.exp(Q)).sum()\n",
      "/Users/willwiz/Documents/S3-Python/eff-model-parameter-estimation/model/form.py:160: RuntimeWarning: overflow encountered in exp\n",
      "  ans = c[0] * (Q2 * np.exp(Q)).sum()\n",
      "/Users/willwiz/Documents/S3-Python/eff-model-parameter-estimation/model/form.py:167: RuntimeWarning: overflow encountered in exp\n",
      "  ans = c[0] * (Q3 * np.exp(Q)).sum()\n",
      "/Users/willwiz/Documents/S3-Python/eff-model-parameter-estimation/model/form.py:167: RuntimeWarning: invalid value encountered in multiply\n",
      "  ans = c[0] * (Q3 * np.exp(Q)).sum()\n",
      "/Users/willwiz/Documents/S3-Python/eff-model-parameter-estimation/model/form.py:160: RuntimeWarning: invalid value encountered in multiply\n",
      "  ans = c[0] * (Q2 * np.exp(Q)).sum()\n",
      "/Users/willwiz/anaconda/lib/python3.5/site-packages/ipykernel/__main__.py:5: RuntimeWarning: overflow encountered in double_scalars\n",
      "/Users/willwiz/anaconda/lib/python3.5/site-packages/ipykernel/__main__.py:7: RuntimeWarning: overflow encountered in double_scalars\n",
      "/Users/willwiz/anaconda/lib/python3.5/site-packages/ipykernel/__main__.py:9: RuntimeWarning: overflow encountered in double_scalars\n",
      "/Users/willwiz/Documents/S3-Python/eff-model-parameter-estimation/model/form.py:167: RuntimeWarning: overflow encountered in double_scalars\n",
      "  ans = c[0] * (Q3 * np.exp(Q)).sum()\n",
      "/Users/willwiz/Documents/S3-Python/eff-model-parameter-estimation/model/form.py:160: RuntimeWarning: overflow encountered in double_scalars\n",
      "  ans = c[0] * (Q2 * np.exp(Q)).sum()\n",
      "/Users/willwiz/Documents/S3-Python/eff-model-parameter-estimation/model/form.py:160: RuntimeWarning: overflow encountered in multiply\n",
      "  ans = c[0] * (Q2 * np.exp(Q)).sum()\n",
      "/Users/willwiz/Documents/S3-Python/eff-model-parameter-estimation/model/form.py:167: RuntimeWarning: overflow encountered in multiply\n",
      "  ans = c[0] * (Q3 * np.exp(Q)).sum()\n"
     ]
    },
    {
     "name": "stdout",
     "output_type": "stream",
     "text": [
      "    2    26     5.693282E+08     1.209975E+07\n"
     ]
    },
    {
     "name": "stderr",
     "output_type": "stream",
     "text": [
      "/Users/willwiz/Documents/S3-Python/eff-model-parameter-estimation/model/form.py:153: RuntimeWarning: overflow encountered in multiply\n",
      "  ans = c[0] * (Q1 * np.exp(Q)).sum()\n"
     ]
    },
    {
     "name": "stdout",
     "output_type": "stream",
     "text": [
      "    3    40     3.019462E+08     2.378539E+06\n",
      "    4    54     2.823091E+08     8.697800E+05\n"
     ]
    },
    {
     "name": "stderr",
     "output_type": "stream",
     "text": [
      "/Users/willwiz/Documents/S3-Python/eff-model-parameter-estimation/model/form.py:153: RuntimeWarning: overflow encountered in double_scalars\n",
      "  ans = c[0] * (Q1 * np.exp(Q)).sum()\n"
     ]
    },
    {
     "name": "stdout",
     "output_type": "stream",
     "text": [
      "    5    67     2.601490E+08     4.575631E+06\n",
      "    6    82     2.600790E+08     4.547149E+06\n",
      "    7    97     2.600601E+08     4.549433E+06\n",
      "    8   111     2.600564E+08     4.547559E+06\n",
      "    9   121     2.469088E+08     2.570377E+06\n",
      "   10   130     2.391130E+08     2.956679E+06\n",
      "   11   139     2.336953E+08     6.467470E+06\n",
      "   12   148     2.080848E+08     4.556986E+06\n",
      "   13   157     1.929530E+08     4.510714E+06\n",
      "   14   167     1.791522E+08     4.043451E+06\n",
      "   15   176     1.653557E+08     3.805151E+06\n",
      "   16   186     1.594777E+08     2.518785E+06\n",
      "   17   196     1.575084E+08     1.325590E+06\n",
      "   18   205     1.569119E+08     8.711337E+05\n",
      "   19   214     1.546774E+08     9.495073E+05\n",
      "   20   224     1.512405E+08     1.473272E+06\n",
      "   21   233     1.477228E+08     3.627431E+06\n",
      "   22   243     1.455694E+08     2.851535E+06\n",
      "   23   253     1.416936E+08     1.365223E+06\n",
      "   24   262     1.408408E+08     5.706470E+06\n",
      "   25   272     1.381286E+08     3.802710E+06\n",
      "   26   282     1.367075E+08     2.021358E+06\n",
      "   27   291     1.357782E+08     3.208636E+06\n",
      "   28   301     1.349275E+08     3.042704E+06\n",
      "   29   311     1.335656E+08     3.078958E+06\n",
      "   30   321     1.332055E+08     3.195272E+06\n",
      "   31   331     1.329255E+08     2.944669E+06\n",
      "   32   341     1.323243E+08     2.957503E+06\n",
      "   33   350     1.311710E+08     3.760139E+06\n",
      "   34   359     1.306030E+08     6.799481E+06\n",
      "   35   369     1.301756E+08     5.391569E+06\n",
      "   36   379     1.292893E+08     1.739477E+06\n",
      "   37   389     1.289839E+08     2.429299E+06\n",
      "   38   399     1.287306E+08     3.461963E+06\n",
      "   39   409     1.284054E+08     4.656324E+06\n",
      "   40   418     1.281808E+08     8.652964E+06\n",
      "   41   427     1.277283E+08     5.481962E+06\n",
      "   42   437     1.274706E+08     3.626319E+06\n",
      "   43   447     1.272791E+08     3.960025E+06\n",
      "   44   457     1.271351E+08     4.868291E+06\n",
      "   45   467     1.269843E+08     5.337727E+06\n",
      "   46   477     1.268245E+08     6.324037E+06\n",
      "   47   486     1.267212E+08     1.054829E+07\n",
      "   48   495     1.263875E+08     4.791113E+06\n",
      "   49   505     1.262553E+08     3.259705E+06\n",
      "   50   514     1.261247E+08     6.340027E+06\n",
      "   51   524     1.260635E+08     5.127190E+06\n",
      "   52   533     1.258858E+08     6.954748E+06\n",
      "   53   543     1.257526E+08     4.760283E+06\n",
      "   54   552     1.256398E+08     1.250096E+07\n",
      "   55   561     1.255391E+08     4.676529E+06\n",
      "   56   570     1.254799E+08     6.038131E+06\n",
      "   57   579     1.254312E+08     9.149406E+06\n",
      "   58   588     1.253522E+08     5.590861E+06\n",
      "   59   598     1.253007E+08     4.837348E+06\n",
      "   60   607     1.252330E+08     6.587549E+06\n",
      "   61   616     1.251658E+08     4.441945E+06\n",
      "   62   626     1.251123E+08     5.263884E+06\n",
      "   63   635     1.250086E+08     6.386427E+06\n",
      "   64   645     1.249682E+08     8.005763E+06\n",
      "   65   654     1.248950E+08     1.208585E+07\n",
      "   66   663     1.248504E+08     8.688079E+06\n",
      "   67   672     1.247987E+08     6.964164E+06\n",
      "   68   681     1.247628E+08     1.123453E+07\n",
      "   69   690     1.247413E+08     6.763771E+06\n",
      "   70   700     1.247042E+08     6.330330E+06\n",
      "   71   709     1.246588E+08     9.109879E+06\n",
      "   72   718     1.246296E+08     3.695541E+06\n",
      "   73   727     1.245789E+08     5.713957E+06\n",
      "   74   736     1.245313E+08     8.154335E+06\n",
      "   75   745     1.245031E+08     1.267046E+07\n",
      "   76   755     1.244677E+08     7.222894E+06\n",
      "   77   764     1.244149E+08     6.457299E+06\n",
      "   78   774     1.243916E+08     8.336200E+06\n",
      "   79   783     1.243710E+08     1.270349E+07\n",
      "   80   792     1.243365E+08     1.287644E+07\n",
      "   81   802     1.243137E+08     1.113184E+07\n",
      "   82   812     1.242841E+08     4.154894E+06\n",
      "   83   822     1.242685E+08     6.445701E+06\n",
      "   84   831     1.242565E+08     4.138039E+06\n",
      "   85   841     1.242469E+08     1.474804E+07\n",
      "   86   850     1.242195E+08     1.119860E+07\n",
      "   87   859     1.241855E+08     1.294365E+07\n",
      "   88   869     1.241631E+08     7.552806E+06\n",
      "   89   878     1.241551E+08     1.063733E+07\n",
      "   90   887     1.241468E+08     1.158786E+07\n",
      "   91   896     1.241368E+08     1.132425E+07\n",
      "   92   905     1.241280E+08     8.816894E+06\n",
      "   93   915     1.241211E+08     1.070516E+07\n",
      "   94   924     1.241007E+08     4.871159E+06\n",
      "   95   934     1.240890E+08     1.067018E+07\n",
      "   96   944     1.240814E+08     1.313456E+07\n",
      "   97   953     1.240679E+08     7.410435E+06\n",
      "   98   962     1.240555E+08     5.373110E+06\n",
      "   99   972     1.240455E+08     1.006715E+07\n",
      "  100   981     1.240383E+08     3.923088E+06\n",
      "  101   991     1.240302E+08     7.438861E+06\n",
      "  102  1000     1.240251E+08     5.384857E+06\n",
      "  103  1009     1.240173E+08     1.447474E+07\n",
      "  104  1018     1.240061E+08     6.682298E+06\n",
      "  105  1028     1.239965E+08     1.036979E+07\n",
      "  106  1037     1.239902E+08     1.429719E+07\n",
      "  107  1046     1.239798E+08     8.343763E+06\n",
      "  108  1058     1.239778E+08     1.093304E+07\n",
      "  109  1067     1.239722E+08     6.133643E+06\n",
      "  110  1076     1.239710E+08     4.852464E+06\n",
      "  111  1085     1.239680E+08     6.570716E+06\n",
      "  112  1094     1.239672E+08     3.348502E+06\n",
      "  113  1103     1.239652E+08     4.036713E+06\n",
      "  114  1115     1.239650E+08     6.707942E+06\n",
      "  115  1124     1.239646E+08     5.423991E+06\n",
      "  116  1133     1.239642E+08     3.773258E+06\n",
      "  117  1142     1.239633E+08     7.535269E+05\n",
      "  118  1152     1.239624E+08     5.784621E+06\n",
      "  119  1163     1.239623E+08     8.001321E+06\n",
      "  120  1172     1.239617E+08     5.115969E+06\n",
      "  121  1181     1.239610E+08     2.362721E+06\n",
      "  122  1190     1.239603E+08     1.281999E+06\n",
      "  123  1203     1.239603E+08     1.225541E+06\n",
      "  124  1213     1.239602E+08     6.584248E+04\n",
      "  125  1222     1.239602E+08     2.812588E+04\n",
      "  126  1233     1.239602E+08     1.991198E+05\n",
      "  127  1243     1.239602E+08     1.371725E+05\n",
      "  128  1252     1.239602E+08     1.177553E+05\n",
      "  129  1261     1.239602E+08     5.343227E+04\n",
      "  130  1272     1.239602E+08     9.946936E+04\n",
      "  131  1281     1.239602E+08     9.636590E+04\n",
      "  132  1290     1.239602E+08     5.726203E+04\n",
      "  133  1299     1.239602E+08     3.664188E+04\n",
      "  134  1310     1.239602E+08     2.322250E+04\n",
      "  135  1319     1.239602E+08     1.766306E+03\n",
      "  136  1329     1.239602E+08     2.547059E+04\n",
      "  137  1338     1.239602E+08     1.162913E+04\n",
      "  138  1349     1.239602E+08     8.832890E+03\n",
      "  139  1358     1.239602E+08     4.926301E+03\n",
      "  140  1367     1.239602E+08     4.189126E+03\n",
      "  141  1376     1.239602E+08     2.292226E+02\n",
      "  142  1385     1.239602E+08     3.030512E+02\n",
      "Optimization terminated successfully.    (Exit mode 0)\n",
      "            Current function value: 123960240.20387825\n",
      "            Iterations: 142\n",
      "            Function evaluations: 1389\n",
      "            Gradient evaluations: 142\n"
     ]
    }
   ],
   "source": [
    "optres=minimize(obj_f, ig, method='SLSQP',options={'disp': True, 'maxiter' : 100000, 'iprint': 2})"
   ]
  },
  {
   "cell_type": "code",
   "execution_count": 62,
   "metadata": {
    "collapsed": false
   },
   "outputs": [
    {
     "data": {
      "text/plain": [
       "array([ 112.59126215,   14.61609494,   32.8474568 ,    2.70174601,\n",
       "         15.97174669,    0.29314003,   73.77908302])"
      ]
     },
     "execution_count": 62,
     "metadata": {},
     "output_type": "execute_result"
    }
   ],
   "source": [
    "optres.x"
   ]
  },
  {
   "cell_type": "code",
   "execution_count": 56,
   "metadata": {
    "collapsed": true
   },
   "outputs": [],
   "source": [
    "ig = np.array([10,20,20,20,20,20,20])"
   ]
  },
  {
   "cell_type": "code",
   "execution_count": 57,
   "metadata": {
    "collapsed": false,
    "scrolled": false
   },
   "outputs": [
    {
     "name": "stdout",
     "output_type": "stream",
     "text": [
      "  NIT    FC           OBJFUN            GNORM\n",
      "    1     9     2.487898E+08     3.524717E+06\n",
      "    2    23     1.605043E+08     2.043084E+06\n"
     ]
    },
    {
     "name": "stderr",
     "output_type": "stream",
     "text": [
      "/Users/willwiz/Documents/S3-Python/eff-model-parameter-estimation/model/form.py:176: RuntimeWarning: overflow encountered in exp\n",
      "  ans = c[0] * (Q1 * np.exp(Q)).sum()\n",
      "/Users/willwiz/Documents/S3-Python/eff-model-parameter-estimation/model/form.py:183: RuntimeWarning: overflow encountered in exp\n",
      "  ans = c[0] * (Q2 * np.exp(Q)).sum()\n",
      "/Users/willwiz/Documents/S3-Python/eff-model-parameter-estimation/model/form.py:183: RuntimeWarning: invalid value encountered in multiply\n",
      "  ans = c[0] * (Q2 * np.exp(Q)).sum()\n",
      "/Users/willwiz/Documents/S3-Python/eff-model-parameter-estimation/model/form.py:190: RuntimeWarning: overflow encountered in exp\n",
      "  ans = c[0] * (Q3 * np.exp(Q)).sum()\n",
      "/Users/willwiz/Documents/S3-Python/eff-model-parameter-estimation/model/form.py:176: RuntimeWarning: invalid value encountered in multiply\n",
      "  ans = c[0] * (Q1 * np.exp(Q)).sum()\n",
      "/Users/willwiz/Documents/S3-Python/eff-model-parameter-estimation/model/form.py:190: RuntimeWarning: invalid value encountered in multiply\n",
      "  ans = c[0] * (Q3 * np.exp(Q)).sum()\n",
      "/Users/willwiz/anaconda/lib/python3.5/site-packages/ipykernel/__main__.py:9: RuntimeWarning: overflow encountered in double_scalars\n",
      "/Users/willwiz/anaconda/lib/python3.5/site-packages/ipykernel/__main__.py:5: RuntimeWarning: overflow encountered in double_scalars\n",
      "/Users/willwiz/Documents/S3-Python/eff-model-parameter-estimation/model/form.py:176: RuntimeWarning: overflow encountered in multiply\n",
      "  ans = c[0] * (Q1 * np.exp(Q)).sum()\n",
      "/Users/willwiz/Documents/S3-Python/eff-model-parameter-estimation/model/form.py:190: RuntimeWarning: overflow encountered in multiply\n",
      "  ans = c[0] * (Q3 * np.exp(Q)).sum()\n",
      "/Users/willwiz/Documents/S3-Python/eff-model-parameter-estimation/model/form.py:190: RuntimeWarning: overflow encountered in double_scalars\n",
      "  ans = c[0] * (Q3 * np.exp(Q)).sum()\n"
     ]
    },
    {
     "name": "stdout",
     "output_type": "stream",
     "text": [
      "    3    37     1.140997E+08     1.164032E+06\n",
      "    4    51     1.072851E+08     1.341094E+06\n"
     ]
    },
    {
     "name": "stderr",
     "output_type": "stream",
     "text": [
      "/Users/willwiz/Documents/S3-Python/eff-model-parameter-estimation/model/form.py:176: RuntimeWarning: overflow encountered in double_scalars\n",
      "  ans = c[0] * (Q1 * np.exp(Q)).sum()\n"
     ]
    },
    {
     "name": "stdout",
     "output_type": "stream",
     "text": [
      "    5    65     9.841620E+07     1.529787E+06\n"
     ]
    },
    {
     "name": "stderr",
     "output_type": "stream",
     "text": [
      "/Users/willwiz/Documents/S3-Python/eff-model-parameter-estimation/model/form.py:183: RuntimeWarning: overflow encountered in double_scalars\n",
      "  ans = c[0] * (Q2 * np.exp(Q)).sum()\n",
      "/Users/willwiz/anaconda/lib/python3.5/site-packages/ipykernel/__main__.py:7: RuntimeWarning: overflow encountered in double_scalars\n"
     ]
    },
    {
     "name": "stdout",
     "output_type": "stream",
     "text": [
      "    6    79     9.476198E+07     9.132304E+05\n",
      "    7    92     9.383394E+07     7.109944E+05\n",
      "    8   105     9.377701E+07     6.639966E+05\n",
      "    9   115     9.097721E+07     4.104548E+05\n",
      "   10   125     9.036865E+07     1.839420E+05\n",
      "   11   134     8.981239E+07     1.266666E+05\n",
      "   12   144     8.927734E+07     1.448224E+05\n",
      "   13   155     8.873803E+07     2.053694E+05\n",
      "   14   167     8.798167E+07     3.165740E+05\n",
      "   15   180     8.709361E+07     5.183140E+05\n",
      "   16   190     8.672280E+07     5.937257E+05\n",
      "   17   200     8.529188E+07     8.753377E+05\n",
      "   18   209     8.280870E+07     1.148624E+06\n",
      "   19   218     7.961436E+07     1.827488E+05\n",
      "   20   228     7.919746E+07     2.039961E+05\n",
      "   21   238     7.901453E+07     1.527624E+05\n",
      "   22   247     7.897021E+07     4.971252E+04\n",
      "   23   256     7.896924E+07     4.054324E+04\n",
      "   24   265     7.896829E+07     1.276306E+04\n",
      "   25   274     7.896810E+07     3.435727E+03\n",
      "   26   283     7.896808E+07     3.141449E+02\n",
      "   27   292     7.896808E+07     1.180424E+02\n",
      "   28   301     7.896808E+07     2.675818E+01\n",
      "   29   311     7.896808E+07     1.907878E+01\n",
      "   30   321     7.896808E+07     1.385641E+01\n",
      "   31   332     7.896808E+07     1.014889E+01\n",
      "Optimization terminated successfully.    (Exit mode 0)\n",
      "            Current function value: 78968079.67684545\n",
      "            Iterations: 31\n",
      "            Function evaluations: 343\n",
      "            Gradient evaluations: 31\n"
     ]
    }
   ],
   "source": [
    "optres=minimize(obj_f_s, ig, method='SLSQP',options={'disp': True, 'maxiter' : 100000, 'iprint': 2})"
   ]
  },
  {
   "cell_type": "code",
   "execution_count": 60,
   "metadata": {
    "collapsed": false
   },
   "outputs": [
    {
     "data": {
      "text/plain": [
       "array([ 112.59136495,   14.6161021 ,   32.84742388,    2.70174922,\n",
       "         15.97170056,    0.29314999,   73.77931046])"
      ]
     },
     "execution_count": 60,
     "metadata": {},
     "output_type": "execute_result"
    }
   ],
   "source": [
    "optres_s.x"
   ]
  },
  {
   "cell_type": "code",
   "execution_count": 1165,
   "metadata": {
    "collapsed": true
   },
   "outputs": [],
   "source": [
    "# finalparameters = parmresults[rterms]\n",
    "# finalparameters = ig\n",
    "# finalparameters = xopt\n",
    "finalparameters = constrainted_results.x"
   ]
  },
  {
   "cell_type": "code",
   "execution_count": 1166,
   "metadata": {
    "collapsed": true
   },
   "outputs": [],
   "source": [
    "finalexponenets = index[model_exp]"
   ]
  },
  {
   "cell_type": "markdown",
   "metadata": {},
   "source": [
    "## Examining the results"
   ]
  },
  {
   "cell_type": "markdown",
   "metadata": {},
   "source": [
    "### Final parameters"
   ]
  },
  {
   "cell_type": "markdown",
   "metadata": {},
   "source": [
    "### Quality of fit"
   ]
  },
  {
   "cell_type": "code",
   "execution_count": 1167,
   "metadata": {
    "collapsed": true
   },
   "outputs": [],
   "source": [
    "def set_range(g, n):\n",
    "    delta = (g.max() - g.min()) / n\n",
    "    return np.arange(g.min(), g.max() + delta/2, delta)"
   ]
  },
  {
   "cell_type": "code",
   "execution_count": 1168,
   "metadata": {
    "collapsed": false
   },
   "outputs": [
    {
     "name": "stderr",
     "output_type": "stream",
     "text": [
      "/Users/willwiz/anaconda/lib/python3.5/site-packages/ipykernel/__main__.py:27: RuntimeWarning: invalid value encountered in less\n"
     ]
    },
    {
     "data": {
      "image/png": "[encoded data removed]",
      "text/plain": [
       "<matplotlib.figure.Figure at 0x11ba9c8d0>"
      ]
     },
     "metadata": {},
     "output_type": "display_data"
    }
   ],
   "source": [
    "########################################\n",
    "# Select the data for plotting\n",
    "X = []\n",
    "Y = []\n",
    "Z = []\n",
    "for i in range(gamma1.size):\n",
    "    if abs(gamma3[i]) < np.finfo(float).eps:\n",
    "        X.append(gamma1[i])\n",
    "        Y.append(gamma2[i])\n",
    "        Z.append(W1[i])\n",
    "        \n",
    "        \n",
    "########################################\n",
    "# Compute the fitted surface\n",
    "Xsurf = set_range(gamma1, 40)\n",
    "Ysurf = set_range(gamma2, 40)\n",
    "Xsurf, Ysurf = np.meshgrid(Xsurf, Ysurf)\n",
    "Zsurf = np.zeros(Xsurf.shape)\n",
    "for i in range(Xsurf.shape[0]):\n",
    "    for j in range(Xsurf.shape[1]):\n",
    "        Zsurf[i][j] = responseW1(Xsurf[i][j], Ysurf[i][j], 0.0, \n",
    "                                 finalparameters, finalexponenets)\n",
    "        \n",
    "########################################\n",
    "# Truncate the surface \n",
    "Zsurf[Zsurf>max(Z)] = np.NaN\n",
    "Zsurf[Zsurf<min(Z)] = np.NaN\n",
    "\n",
    "fig = plt.figure()\n",
    "ax = fig.add_subplot(111, projection='3d')\n",
    "ax.scatter(X,Y,Z, c='r', marker='o')\n",
    "surf = ax.plot_wireframe(Xsurf, Ysurf, Zsurf, rstride=2, cstride=2, color='black')\n",
    "ax.view_init(elev=25., azim=240)\n",
    "plt.savefig(infiles[0][:-4]+'fitW1surf.png',dpi=500,bbox_inches='tight')\n",
    "plt.show()"
   ]
  },
  {
   "cell_type": "code",
   "execution_count": 1169,
   "metadata": {
    "collapsed": false
   },
   "outputs": [
    {
     "name": "stderr",
     "output_type": "stream",
     "text": [
      "/Users/willwiz/anaconda/lib/python3.5/site-packages/ipykernel/__main__.py:27: RuntimeWarning: invalid value encountered in less\n"
     ]
    },
    {
     "data": {
      "image/png": "[encoded data removed]",
      "text/plain": [
       "<matplotlib.figure.Figure at 0x119fb3be0>"
      ]
     },
     "metadata": {},
     "output_type": "display_data"
    }
   ],
   "source": [
    "########################################\n",
    "# Select the data for plotting\n",
    "X = []\n",
    "Y = []\n",
    "Z = []\n",
    "for i in range(gamma1.size):\n",
    "    if abs(gamma3[i]) < np.finfo(float).eps:\n",
    "        X.append(gamma1[i])\n",
    "        Y.append(gamma2[i])\n",
    "        Z.append(W2[i])\n",
    "        \n",
    "        \n",
    "########################################\n",
    "# Compute the fitted surface\n",
    "Xsurf = set_range(gamma1, 40)\n",
    "Ysurf = set_range(gamma2, 40)\n",
    "Xsurf, Ysurf = np.meshgrid(Xsurf, Ysurf)\n",
    "Zsurf = np.zeros(Xsurf.shape)\n",
    "for i in range(Xsurf.shape[0]):\n",
    "    for j in range(Xsurf.shape[1]):\n",
    "        Zsurf[i][j] = responseW2(Xsurf[i][j], Ysurf[i][j], 0.0, \n",
    "                                 finalparameters, finalexponenets)\n",
    "        \n",
    "########################################\n",
    "# Truncate the surface \n",
    "Zsurf[Zsurf>max(Z)] = np.NaN\n",
    "Zsurf[Zsurf<min(Z)] = np.NaN\n",
    "\n",
    "fig = plt.figure()\n",
    "ax = fig.add_subplot(111, projection='3d')\n",
    "ax.scatter(X,Y,Z, c='r', marker='o')\n",
    "surf = ax.plot_wireframe(Xsurf, Ysurf, Zsurf, rstride=2, cstride=2, color='black')\n",
    "ax.view_init(elev=25., azim=240)\n",
    "plt.savefig(infiles[0][:-4]+'fitW2surf.png',dpi=500,bbox_inches='tight')\n",
    "plt.show()"
   ]
  },
  {
   "cell_type": "code",
   "execution_count": 1170,
   "metadata": {
    "collapsed": false
   },
   "outputs": [
    {
     "name": "stderr",
     "output_type": "stream",
     "text": [
      "/Users/willwiz/anaconda/lib/python3.5/site-packages/ipykernel/__main__.py:27: RuntimeWarning: invalid value encountered in less\n"
     ]
    },
    {
     "data": {
      "image/png": "[encoded data removed]",
      "text/plain": [
       "<matplotlib.figure.Figure at 0x126a595c0>"
      ]
     },
     "metadata": {},
     "output_type": "display_data"
    }
   ],
   "source": [
    "########################################\n",
    "# Select the data for plotting\n",
    "X = []\n",
    "Y = []\n",
    "Z = []\n",
    "for i in range(gamma1.size):\n",
    "    if abs(gamma2[i]) < np.finfo(float).eps:\n",
    "        X.append(gamma1[i])\n",
    "        Y.append(gamma3[i])\n",
    "        Z.append(W3[i])\n",
    "        \n",
    "        \n",
    "########################################\n",
    "# Compute the fitted surface\n",
    "Xsurf = set_range(gamma1, 40)\n",
    "Ysurf = set_range(gamma3, 40)\n",
    "Xsurf, Ysurf = np.meshgrid(Xsurf, Ysurf)\n",
    "Zsurf = np.zeros(Xsurf.shape)\n",
    "for i in range(Xsurf.shape[0]):\n",
    "    for j in range(Xsurf.shape[1]):\n",
    "        Zsurf[i][j] = responseW3(Xsurf[i][j], 0.0, Ysurf[i][j],\n",
    "                                 finalparameters, finalexponenets)\n",
    "        \n",
    "########################################\n",
    "# Truncate the surface \n",
    "Zsurf[Zsurf>max(Z)] = np.NaN\n",
    "Zsurf[Zsurf<min(Z)] = np.NaN\n",
    "\n",
    "fig = plt.figure()\n",
    "ax = fig.add_subplot(111, projection='3d')\n",
    "ax.scatter(X,Y,Z, c='r', marker='o')\n",
    "surf = ax.plot_wireframe(Xsurf, Ysurf, Zsurf, rstride=2, cstride=2, color='black')\n",
    "ax.view_init(elev=25., azim=240)\n",
    "plt.savefig(infiles[0][:-4]+'fitW3surf.png',dpi=500,bbox_inches='tight')\n",
    "plt.show()"
   ]
  },
  {
   "cell_type": "code",
   "execution_count": null,
   "metadata": {
    "collapsed": true
   },
   "outputs": [],
   "source": []
  },
  {
   "cell_type": "code",
   "execution_count": 1171,
   "metadata": {
    "collapsed": false
   },
   "outputs": [],
   "source": [
    "# ########################################\n",
    "# # Select the data for plotting\n",
    "# X = []\n",
    "# Y = []\n",
    "# Z = []\n",
    "# for i in range(gamma1.size):\n",
    "#     if abs(gamma3[i]) < np.finfo(float).eps:\n",
    "#         X.append(gamma1[i])\n",
    "#         Y.append(gamma2[i])\n",
    "#         Z.append(W1[i])\n",
    "# ########################################\n",
    "# # Compute the fitted surface\n",
    "# Zfit = np.zeros(len(X))\n",
    "# for i in range(len(X)):\n",
    "#     Zfit[i] = responseW1(X[i], Y[i], 0.0, finalparameters, finalexponenets)\n",
    "\n",
    "    \n",
    "# ########################################\n",
    "# # Plot the results\n",
    "# fig_ls_data = plt.figure()\n",
    "# ax = fig_ls_data.add_subplot(111, projection='3d')\n",
    "# ax.scatter(X,Y,Z, c='r', marker='o')\n",
    "# ax.scatter(X,Y,Zfit, c='b', marker='^')\n",
    "# ax.view_init(elev=25., azim=240)\n",
    "# ax.set_title(r'$W_1 (kPa)$')\n",
    "# ax.set_xlabel(r'$\\gamma_1$')\n",
    "# ax.set_ylabel(r'$\\gamma_2$')\n",
    "# plt.savefig(infiles[0][:-4]+'W1scatter.png',dpi=500,bbox_inches='tight')\n",
    "# plt.show()\n"
   ]
  },
  {
   "cell_type": "code",
   "execution_count": 1172,
   "metadata": {
    "collapsed": false
   },
   "outputs": [],
   "source": [
    "# ########################################\n",
    "# # Select the data for plotting\n",
    "# X = []\n",
    "# Y = []\n",
    "# Z = []\n",
    "# for i in range(gamma1.size):\n",
    "#     if abs(gamma3[i]) < np.finfo(float).eps:\n",
    "#         X.append(gamma1[i])\n",
    "#         Y.append(gamma2[i])\n",
    "#         Z.append(W2[i])\n",
    "# ########################################\n",
    "# # Compute the fitted surface\n",
    "# Zfit = np.zeros(len(X))\n",
    "# for i in range(len(X)):\n",
    "#     Zfit[i] = responseW2(X[i], Y[i], 0.0, finalparameters, finalexponenets)\n",
    "\n",
    "    \n",
    "# ########################################\n",
    "# # Plot the results\n",
    "# fig_ls_data = plt.figure()\n",
    "# ax = fig_ls_data.add_subplot(111, projection='3d')\n",
    "# ax.scatter(X,Y,Z, c='r', marker='o')\n",
    "# ax.scatter(X,Y,Zfit, c='b', marker='^')\n",
    "# ax.view_init(elev=25., azim=240)\n",
    "# ax.set_title(r'$W_1 (kPa)$')\n",
    "# ax.set_xlabel(r'$\\gamma_1$')\n",
    "# ax.set_ylabel(r'$\\gamma_2$')\n",
    "# plt.savefig(infiles[0][:-4]+'W2scatter.png',dpi=500,bbox_inches='tight')\n",
    "# plt.show()\n"
   ]
  },
  {
   "cell_type": "code",
   "execution_count": 1173,
   "metadata": {
    "collapsed": false
   },
   "outputs": [],
   "source": [
    "# ########################################\n",
    "# # Select the data for plotting\n",
    "# X = []\n",
    "# Y = []\n",
    "# Z = []\n",
    "# for i in range(gamma1.size):\n",
    "#     if abs(gamma1[i]) < np.finfo(float).eps:\n",
    "#         X.append(gamma2[i])\n",
    "#         Y.append(gamma3[i])\n",
    "#         Z.append(W3[i])\n",
    "# ########################################\n",
    "# # Compute the fitted surface\n",
    "# Zfit = np.zeros(len(X))\n",
    "# for i in range(len(X)):\n",
    "#     Zfit[i] = responseW3(0.0, X[i], Y[i], finalparameters, finalexponenets)\n",
    "\n",
    "    \n",
    "# ########################################\n",
    "# # Plot the results\n",
    "# fig_ls_data = plt.figure()\n",
    "# ax = fig_ls_data.add_subplot(111, projection='3d')\n",
    "# ax.scatter(X,Y,Z, c='r', marker='o')\n",
    "# ax.scatter(X,Y,Zfit, c='b', marker='^')\n",
    "# ax.view_init(elev=25., azim=240)\n",
    "# ax.set_title(r'$W_1 (kPa)$')\n",
    "# ax.set_xlabel(r'$\\gamma_1$')\n",
    "# ax.set_ylabel(r'$\\gamma_2$')\n",
    "# plt.savefig(infiles[0][:-4]+'W3scatter.png',dpi=500,bbox_inches='tight')\n",
    "# plt.show()\n"
   ]
  },
  {
   "cell_type": "code",
   "execution_count": null,
   "metadata": {
    "collapsed": true
   },
   "outputs": [],
   "source": []
  },
  {
   "cell_type": "markdown",
   "metadata": {},
   "source": [
    "### Convexity"
   ]
  },
  {
   "cell_type": "code",
   "execution_count": 1174,
   "metadata": {
    "collapsed": false
   },
   "outputs": [
    {
     "name": "stderr",
     "output_type": "stream",
     "text": [
      "/Users/willwiz/anaconda/lib/python3.5/site-packages/matplotlib/contour.py:1518: UserWarning: Log scale: values of z <= 0 have been masked\n",
      "  warnings.warn('Log scale: values of z <= 0 have been masked')\n"
     ]
    },
    {
     "data": {
      "image/png": "[encoded data removed]",
      "text/plain": [
       "<matplotlib.figure.Figure at 0x119f8e390>"
      ]
     },
     "metadata": {},
     "output_type": "display_data"
    }
   ],
   "source": [
    "Xsurf = set_range(gamma1, 40)\n",
    "Ysurf = set_range(gamma2, 40)\n",
    "Xsurf, Ysurf = np.meshgrid(Xsurf, Ysurf)\n",
    "Zenergysurf = np.zeros(Xsurf.shape)\n",
    "for i in range(Xsurf.shape[0]):\n",
    "    for j in range(Xsurf.shape[1]):\n",
    "        Zenergysurf[i][j] = strainenergy(Xsurf[i][j], Ysurf[i][j], 0.0,\n",
    "                                         finalparameters, finalexponenets)   \n",
    "        \n",
    "        \n",
    "plt.figure()\n",
    "CS = plt.contour(Xsurf, Ysurf, Zenergysurf, 20,\n",
    "                 colors='k',locator=plt.LogLocator()# negative contours will be dashed by default\n",
    "                 )\n",
    "fmt = ticker.LogFormatterMathtext()\n",
    "fmt.create_dummy_axis()\n",
    "plt.clabel(CS, CS.levels, fontsize=9, inline=1)\n",
    "plt.savefig(infiles[0][:-4]+'fitenergylogcontourlog12.png',dpi=500,bbox_inches='tight')\n",
    "plt.show()"
   ]
  },
  {
   "cell_type": "code",
   "execution_count": 1175,
   "metadata": {
    "collapsed": false
   },
   "outputs": [
    {
     "name": "stderr",
     "output_type": "stream",
     "text": [
      "/Users/willwiz/anaconda/lib/python3.5/site-packages/matplotlib/contour.py:1518: UserWarning: Log scale: values of z <= 0 have been masked\n",
      "  warnings.warn('Log scale: values of z <= 0 have been masked')\n"
     ]
    },
    {
     "data": {
      "image/png": "[encoded data removed]",
      "text/plain": [
       "<matplotlib.figure.Figure at 0x12682ec88>"
      ]
     },
     "metadata": {},
     "output_type": "display_data"
    }
   ],
   "source": [
    "Xsurf = set_range(gamma1, 40)\n",
    "Ysurf = set_range(gamma3, 40)\n",
    "Xsurf, Ysurf = np.meshgrid(Xsurf, Ysurf)\n",
    "Zenergysurf = np.zeros(Xsurf.shape)\n",
    "for i in range(Xsurf.shape[0]):\n",
    "    for j in range(Xsurf.shape[1]):\n",
    "        Zenergysurf[i][j] = strainenergy(Xsurf[i][j], 0.0, Ysurf[i][j],\n",
    "                                         finalparameters, finalexponenets)   \n",
    "        \n",
    "        \n",
    "plt.figure()\n",
    "CS = plt.contour(Xsurf, Ysurf, Zenergysurf, 20,\n",
    "                 colors='k',locator=plt.LogLocator()# negative contours will be dashed by default\n",
    "                 )\n",
    "fmt = ticker.LogFormatterMathtext()\n",
    "fmt.create_dummy_axis()\n",
    "plt.clabel(CS, CS.levels, fontsize=9, inline=1)\n",
    "plt.savefig(infiles[0][:-4]+'fitenergylogcontourlog12.png',dpi=500,bbox_inches='tight')\n",
    "plt.show()"
   ]
  },
  {
   "cell_type": "code",
   "execution_count": 1176,
   "metadata": {
    "collapsed": false,
    "scrolled": true
   },
   "outputs": [
    {
     "name": "stderr",
     "output_type": "stream",
     "text": [
      "/Users/willwiz/anaconda/lib/python3.5/site-packages/matplotlib/contour.py:1518: UserWarning: Log scale: values of z <= 0 have been masked\n",
      "  warnings.warn('Log scale: values of z <= 0 have been masked')\n"
     ]
    },
    {
     "data": {
      "image/png": "[encoded data removed]",
      "text/plain": [
       "<matplotlib.figure.Figure at 0x119fa49e8>"
      ]
     },
     "metadata": {},
     "output_type": "display_data"
    }
   ],
   "source": [
    "Xsurf = set_range(gamma2, 40)\n",
    "Ysurf = set_range(gamma3, 40)\n",
    "Xsurf, Ysurf = np.meshgrid(Xsurf, Ysurf)\n",
    "Zenergysurf = np.zeros(Xsurf.shape)\n",
    "for i in range(Xsurf.shape[0]):\n",
    "    for j in range(Xsurf.shape[1]):\n",
    "        Zenergysurf[i][j] = strainenergy(0.0, Xsurf[i][j], Ysurf[i][j], \n",
    "                                         finalparameters, finalexponenets)   \n",
    "        \n",
    "        \n",
    "plt.figure()\n",
    "CS = plt.contour(Xsurf, Ysurf, Zenergysurf, 20,\n",
    "                 colors='k',locator=plt.LogLocator()# negative contours will be dashed by default\n",
    "                 )\n",
    "fmt = ticker.LogFormatterMathtext()\n",
    "fmt.create_dummy_axis()\n",
    "plt.clabel(CS, CS.levels, fontsize=9, inline=1)\n",
    "plt.savefig(infiles[0][:-4]+'fitenergylogcontourlog12.png',dpi=500,bbox_inches='tight')\n",
    "plt.show()"
   ]
  },
  {
   "cell_type": "markdown",
   "metadata": {},
   "source": [
    "### Advanced results"
   ]
  },
  {
   "cell_type": "code",
   "execution_count": 1177,
   "metadata": {
    "collapsed": false,
    "scrolled": true
   },
   "outputs": [
    {
     "name": "stdout",
     "output_type": "stream",
     "text": [
      "6938.1859332\n",
      "13737.5941439\n",
      "967.481214545\n",
      "842.981342399\n",
      "2402.39284766\n",
      "4093.88999877\n",
      "857.179409702\n",
      "537.150167746\n",
      "573.500783841\n",
      "1797.31431964\n",
      "6863.52450074\n",
      "967.481214545\n",
      "842.981342399\n",
      "2402.39284766\n",
      "4093.88999877\n",
      "-687.830293015\n",
      "205.097913595\n",
      "6938.1859332\n",
      "13737.5941439\n",
      "-25.2126725083\n",
      "-109.288979885\n",
      "-237.976356328\n",
      "-194.4366775\n",
      "-94.425967196\n",
      "-136.358008923\n",
      "-178.282209522\n",
      "-380.656889021\n",
      "62.1982633784\n",
      "0.0\n",
      "-53.4858692998\n",
      "-377.648260181\n",
      "-94.425967196\n",
      "-136.358008923\n",
      "-178.282209522\n",
      "-380.656889021\n",
      "-25.2126725083\n",
      "-109.288979885\n",
      "-237.976356328\n",
      "-194.4366775\n",
      "235.152130991\n",
      "187.797212063\n",
      "588.231033473\n",
      "248.262251493\n",
      "204.938425721\n",
      "340.245184439\n",
      "1093.86187196\n",
      "327.442118199\n",
      "234.181653099\n",
      "238.713004292\n",
      "515.559926235\n",
      "248.262251493\n",
      "204.938425721\n",
      "340.245184439\n",
      "1093.86187196\n",
      "235.152130991\n",
      "187.797212063\n",
      "588.231033473\n",
      "2124.2183029\n",
      "3173.77329461\n",
      "903.222867072\n",
      "1086.72901672\n",
      "1670.73377769\n",
      "686.317565787\n",
      "540.101065\n",
      "627.350744108\n",
      "1730.79414417\n",
      "903.222867072\n",
      "1086.72901672\n",
      "1670.73377769\n",
      "2124.2183029\n",
      "3173.77329461\n",
      "971.218240158\n"
     ]
    }
   ],
   "source": [
    "for i in range(ncons):\n",
    "    print(constraint1(i, finalexponenets, finalparameters))"
   ]
  },
  {
   "cell_type": "code",
   "execution_count": 1178,
   "metadata": {
    "collapsed": false,
    "scrolled": true
   },
   "outputs": [
    {
     "name": "stdout",
     "output_type": "stream",
     "text": [
      "3070303.99345\n",
      "9810822.61034\n",
      "-1637734.99423\n",
      "9080.1482718\n",
      "720842.675616\n",
      "1447610.25501\n",
      "-781214.875619\n",
      "21.7857228339\n",
      "140242.020891\n",
      "577821.908752\n",
      "1886950.88617\n",
      "-1637734.99423\n",
      "9080.1482718\n",
      "720842.675616\n",
      "1447610.25501\n",
      "-6632212.67494\n",
      "-470994.530273\n",
      "3070303.99345\n",
      "9810822.61034\n",
      "52889.8333414\n",
      "-59388.3902647\n",
      "-190597.988869\n",
      "-167464.716443\n",
      "118555.058122\n",
      "-231.985899471\n",
      "-78138.4881452\n",
      "-200116.623783\n",
      "-64072.6823317\n",
      "0.0\n",
      "-18655.7572168\n",
      "-162340.570042\n",
      "118555.058122\n",
      "-231.985899471\n",
      "-78138.4881452\n",
      "-200116.623783\n",
      "52889.8333414\n",
      "-59388.3902647\n",
      "-190597.988869\n",
      "-167464.716443\n",
      "-533456.092622\n",
      "-43570.5066016\n",
      "249251.826074\n",
      "-301582.852274\n",
      "251.662171834\n",
      "151096.146907\n",
      "571782.612152\n",
      "-306821.494973\n",
      "-0.304000331621\n",
      "81509.1899747\n",
      "230219.963023\n",
      "-301582.852274\n",
      "251.662171834\n",
      "151096.146907\n",
      "571782.612152\n",
      "-533456.092622\n",
      "-43570.5066016\n",
      "249251.826074\n",
      "-5353258.46917\n",
      "80600.6497216\n",
      "-589988.278732\n",
      "33976.5231185\n",
      "940784.093252\n",
      "-290516.620849\n",
      "-80.7161489537\n",
      "264522.562176\n",
      "622954.599774\n",
      "-589988.278732\n",
      "33976.5231185\n",
      "940784.093252\n",
      "-5353258.46917\n",
      "80600.6497216\n",
      "889873.448037\n"
     ]
    }
   ],
   "source": [
    "for i in range(ncons):\n",
    "    print(constraint4(i, finalexponenets, finalparameters))"
   ]
  },
  {
   "cell_type": "code",
   "execution_count": 1179,
   "metadata": {
    "collapsed": false,
    "scrolled": true
   },
   "outputs": [
    {
     "name": "stdout",
     "output_type": "stream",
     "text": [
      "93225046.2341\n",
      "-7481416778.53\n",
      "-141627279.479\n",
      "-7658938.43162\n",
      "-92003008.5718\n",
      "-147549654.593\n",
      "230609780.93\n",
      "-5589.80513377\n",
      "-19075827.5028\n",
      "75816629.9512\n",
      "1079333031.17\n",
      "-141627279.479\n",
      "-7658938.43162\n",
      "-92003008.5718\n",
      "-147549654.593\n",
      "-6181872814.54\n",
      "-386055912.637\n",
      "93225046.2341\n",
      "-7481416778.53\n",
      "74352576.9261\n",
      "-0.0\n",
      "-276615613.732\n",
      "-726011055.997\n",
      "-8800494.77043\n",
      "-0.0\n",
      "-1190238.20308\n",
      "2769360.08093\n",
      "6351265.32093\n",
      "0.0\n",
      "-495830.413835\n",
      "-44801171.4388\n",
      "-8800494.77043\n",
      "0.0\n",
      "-1190238.20308\n",
      "2769360.08093\n",
      "74352576.9261\n",
      "0.0\n",
      "-276615613.732\n",
      "-726011055.997\n",
      "-65449083.3082\n",
      "15818941.1783\n",
      "-143269045.883\n",
      "49425774.5636\n",
      "-388236.039595\n",
      "19878337.3243\n",
      "92083427.8772\n",
      "43283759.2896\n",
      "15.8247072537\n",
      "-1028502.51003\n",
      "63104689.6169\n",
      "49425774.5636\n",
      "-388236.039595\n",
      "19878337.3243\n",
      "92083427.8772\n",
      "-65449083.3082\n",
      "15818941.1783\n",
      "-143269045.883\n",
      "-4704883543.34\n",
      "-569471892.352\n",
      "-136704713.018\n",
      "-7159844.41745\n",
      "142207643.495\n",
      "72284714.453\n",
      "9253.05159921\n",
      "19955987.596\n",
      "498155838.894\n",
      "-136704713.018\n",
      "-7159844.41745\n",
      "142207643.495\n",
      "-4704883543.34\n",
      "-569471892.352\n",
      "-60997765.104\n"
     ]
    }
   ],
   "source": [
    "for i in range(ncons):\n",
    "    print(constraint7(i, finalexponenets, finalparameters))"
   ]
  },
  {
   "cell_type": "markdown",
   "metadata": {
    "collapsed": true
   },
   "source": [
    "## Auxilary code"
   ]
  },
  {
   "cell_type": "code",
   "execution_count": 1180,
   "metadata": {
    "collapsed": false,
    "scrolled": true
   },
   "outputs": [
    {
     "ename": "NameError",
     "evalue": "name 'sortedpositions' is not defined",
     "output_type": "error",
     "traceback": [
      "\u001b[0;31m--------------------------------------------------\u001b[0m",
      "\u001b[0;31mNameError\u001b[0m        Traceback (most recent call last)",
      "\u001b[0;32m<ipython-input-1180-b9f02b5b3862>\u001b[0m in \u001b[0;36m<module>\u001b[0;34m()\u001b[0m\n\u001b[1;32m      1\u001b[0m \u001b[0minitiallist\u001b[0m \u001b[0;34m=\u001b[0m \u001b[0msetunion\u001b[0m\u001b[0;34m\u001b[0m\u001b[0m\n\u001b[1;32m      2\u001b[0m \u001b[0mremovedlist\u001b[0m \u001b[0;34m=\u001b[0m \u001b[0;34m[\u001b[0m\u001b[0;34m]\u001b[0m\u001b[0;34m\u001b[0m\u001b[0m\n\u001b[0;32m----> 3\u001b[0;31m \u001b[0mcostlist\u001b[0m \u001b[0;34m=\u001b[0m \u001b[0mnp\u001b[0m\u001b[0;34m.\u001b[0m\u001b[0mfull\u001b[0m\u001b[0;34m(\u001b[0m\u001b[0msortedpositions\u001b[0m\u001b[0;34m.\u001b[0m\u001b[0msize\u001b[0m\u001b[0;34m,\u001b[0m \u001b[0mnp\u001b[0m\u001b[0;34m.\u001b[0m\u001b[0minf\u001b[0m\u001b[0;34m)\u001b[0m\u001b[0;34m\u001b[0m\u001b[0m\n\u001b[0m\u001b[1;32m      4\u001b[0m \u001b[0mcostresults\u001b[0m \u001b[0;34m=\u001b[0m \u001b[0;34m[\u001b[0m\u001b[0;34m]\u001b[0m\u001b[0;34m\u001b[0m\u001b[0m\n\u001b[1;32m      5\u001b[0m \u001b[0mparmresults\u001b[0m \u001b[0;34m=\u001b[0m \u001b[0;34m[\u001b[0m\u001b[0;34m]\u001b[0m\u001b[0;34m\u001b[0m\u001b[0m\n",
      "\u001b[0;31mNameError\u001b[0m: name 'sortedpositions' is not defined"
     ]
    }
   ],
   "source": [
    "initiallist = setunion\n",
    "removedlist = []\n",
    "costlist = np.full(sortedpositions.size, np.inf)\n",
    "costresults = []\n",
    "parmresults = []\n",
    "termresults = []\n",
    "initialguess = np.zeros(keypositions[nk])\n",
    "timecost = np.zeros((len(initiallist) - 4))\n",
    "res = [[0 for j in range(max(initiallist)+1)] for i in range(len(initiallist))]"
   ]
  },
  {
   "cell_type": "code",
   "execution_count": null,
   "metadata": {
    "collapsed": true
   },
   "outputs": [],
   "source": [
    "for i in range(len(initiallist) -4):\n",
    "    start = time.time()\n",
    "    for j in initiallist[4:]:\n",
    "        testlist = [k for k in initiallist if k!=j]\n",
    "        res[i][j] = lsq_linear(Wtensor[:,sortedpositions[testlist]], Wvector, lsmr_tol='auto', max_iter=10000, verbose=0)\n",
    "        costlist[j] = res[i][j].cost\n",
    "    besti = costlist.argmin()\n",
    "    initiallist.remove(besti)\n",
    "    removedlist.append(besti)\n",
    "    costresults.append(costlist[besti])\n",
    "    parmresults.append(res[i][besti].x)\n",
    "    termresults.append(np.array(initiallist))\n",
    "    costlist[besti] = np.inf\n",
    "    end = time.time()\n",
    "    timecost[i] = end - start\n",
    "    print(i)"
   ]
  },
  {
   "cell_type": "code",
   "execution_count": null,
   "metadata": {
    "collapsed": true
   },
   "outputs": [],
   "source": []
  },
  {
   "cell_type": "code",
   "execution_count": null,
   "metadata": {
    "collapsed": true
   },
   "outputs": [],
   "source": []
  },
  {
   "cell_type": "code",
   "execution_count": 14,
   "metadata": {
    "collapsed": false,
    "scrolled": true
   },
   "outputs": [
    {
     "name": "stdout",
     "output_type": "stream",
     "text": [
      "7.38905609893\n"
     ]
    }
   ],
   "source": [
    "m.model_exp_y_Psi([1], 2)"
   ]
  },
  {
   "cell_type": "code",
   "execution_count": 19,
   "metadata": {
    "collapsed": false
   },
   "outputs": [
    {
     "data": {
      "text/plain": [
       "2.8999999999999999"
      ]
     },
     "execution_count": 19,
     "metadata": {},
     "output_type": "execute_result"
    }
   ],
   "source": [
    "np.array([0.5, 0.7, 0.2, 1.5]).sum()"
   ]
  },
  {
   "cell_type": "code",
   "execution_count": 20,
   "metadata": {
    "collapsed": false
   },
   "outputs": [
    {
     "data": {
      "text/plain": [
       "array([ 0.25,  0.49,  0.04,  2.25])"
      ]
     },
     "execution_count": 20,
     "metadata": {},
     "output_type": "execute_result"
    }
   ],
   "source": [
    "np.array([0.5, 0.7, 0.2, 1.5]) * np.array([0.5, 0.7, 0.2, 1.5])"
   ]
  },
  {
   "cell_type": "code",
   "execution_count": 21,
   "metadata": {
    "collapsed": false
   },
   "outputs": [
    {
     "data": {
      "text/plain": [
       "array([ 1.64872127,  2.01375271,  1.22140276,  4.48168907])"
      ]
     },
     "execution_count": 21,
     "metadata": {},
     "output_type": "execute_result"
    }
   ],
   "source": [
    "np.exp(np.array([0.5, 0.7, 0.2, 1.5]))"
   ]
  }
 ],
 "metadata": {
  "kernelspec": {
   "display_name": "Python [default]",
   "language": "python",
   "name": "python3"
  },
  "language_info": {
   "codemirror_mode": {
    "name": "ipython",
    "version": 3
   },
   "file_extension": ".py",
   "mimetype": "text/x-python",
   "name": "python",
   "nbconvert_exporter": "python",
   "pygments_lexer": "ipython3",
   "version": "3.5.2"
  }
 },
 "nbformat": 4,
 "nbformat_minor": 2
}
