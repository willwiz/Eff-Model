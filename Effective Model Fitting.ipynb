{
 "cells": [
  {
   "cell_type": "markdown",
   "metadata": {},
   "source": [
    "#           Fitting Effective Model parameters"
   ]
  },
  {
   "cell_type": "markdown",
   "metadata": {},
   "source": [
    "## Initialization "
   ]
  },
  {
   "cell_type": "code",
   "execution_count": 8,
   "metadata": {
    "collapsed": true
   },
   "outputs": [],
   "source": [
    "import numpy as np\n",
    "from numpy.linalg import inv"
   ]
  },
  {
   "cell_type": "code",
   "execution_count": 9,
   "metadata": {
    "collapsed": true
   },
   "outputs": [],
   "source": [
    "%matplotlib inline\n",
    "# %matplotlib notebook\n",
    "import matplotlib\n",
    "import matplotlib.cm as cm\n",
    "import matplotlib.mlab as mlab\n",
    "import matplotlib.pyplot as plt\n",
    "import matplotlib.ticker as ticker\n",
    "from mpl_toolkits.mplot3d import Axes3D"
   ]
  },
  {
   "cell_type": "code",
   "execution_count": 10,
   "metadata": {
    "collapsed": true
   },
   "outputs": [],
   "source": [
    "import timeit\n",
    "import time"
   ]
  },
  {
   "cell_type": "code",
   "execution_count": 20,
   "metadata": {
    "collapsed": true
   },
   "outputs": [],
   "source": [
    "import os"
   ]
  },
  {
   "cell_type": "code",
   "execution_count": 12,
   "metadata": {
    "collapsed": true
   },
   "outputs": [],
   "source": [
    "from scipy.optimize import lsq_linear\n",
    "from scipy.optimize import minimize"
   ]
  },
  {
   "cell_type": "code",
   "execution_count": 13,
   "metadata": {
    "collapsed": false
   },
   "outputs": [],
   "source": [
    "import nlopt"
   ]
  },
  {
   "cell_type": "code",
   "execution_count": 14,
   "metadata": {
    "collapsed": true
   },
   "outputs": [],
   "source": [
    "from tkinter import*\n",
    "# Create Tk root\n",
    "root = Tk()\n",
    "# Hide the main window\n",
    "root.withdraw()\n",
    "root.call('wm', 'attributes', '.', '-topmost', True)\n",
    "\n",
    "from tkinter import filedialog"
   ]
  },
  {
   "cell_type": "markdown",
   "metadata": {},
   "source": [
    "## Import required data"
   ]
  },
  {
   "cell_type": "markdown",
   "metadata": {},
   "source": [
    "### Import GUI"
   ]
  },
  {
   "cell_type": "code",
   "execution_count": 15,
   "metadata": {
    "collapsed": true
   },
   "outputs": [],
   "source": [
    "#   Open the import file GUI\n",
    "##  Remember to look at your list of Apps\n",
    "infiles = filedialog.askopenfilename(multiple=True)\n",
    "%gui tk"
   ]
  },
  {
   "cell_type": "code",
   "execution_count": 429,
   "metadata": {
    "collapsed": false
   },
   "outputs": [
    {
     "data": {
      "text/plain": [
       "'/Users/willwiz/Downloads/Will-Rana-selected/specimen1/iso_wc/iso1data.txt'"
      ]
     },
     "execution_count": 429,
     "metadata": {},
     "output_type": "execute_result"
    }
   ],
   "source": [
    "# The file that gets imported\n",
    "infiles[0]"
   ]
  },
  {
   "cell_type": "code",
   "execution_count": 430,
   "metadata": {
    "collapsed": false
   },
   "outputs": [],
   "source": [
    "## for indexing the polynomials based on the groups\n",
    "index = np.genfromtxt(os.path.join(os.getcwd(), 'polysortedpositions.txt'), dtype=int) - 1"
   ]
  },
  {
   "cell_type": "code",
   "execution_count": 431,
   "metadata": {
    "collapsed": false
   },
   "outputs": [],
   "source": [
    "## indexes which changes between polynomial order and cross terms\n",
    "key = np.genfromtxt(os.path.join(os.getcwd(), 'keypositions.txt'), dtype=int) - 1 + 1"
   ]
  },
  {
   "cell_type": "code",
   "execution_count": 432,
   "metadata": {
    "collapsed": false
   },
   "outputs": [],
   "source": [
    "cons_positions = np.genfromtxt(os.path.join(os.getcwd(), 'cospositions.txt'), dtype=int) - 1"
   ]
  },
  {
   "cell_type": "code",
   "execution_count": 433,
   "metadata": {
    "collapsed": true
   },
   "outputs": [],
   "source": [
    "importeddata = np.loadtxt(infiles[0])"
   ]
  },
  {
   "cell_type": "code",
   "execution_count": 434,
   "metadata": {
    "collapsed": true
   },
   "outputs": [],
   "source": [
    "importedconsdata = np.loadtxt(os.path.join(os.path.dirname(os.path.realpath(infiles[0])), 'consdata.txt'))"
   ]
  },
  {
   "cell_type": "markdown",
   "metadata": {},
   "source": [
    "### Data processing"
   ]
  },
  {
   "cell_type": "code",
   "execution_count": 435,
   "metadata": {
    "collapsed": false
   },
   "outputs": [
    {
     "name": "stdout",
     "output_type": "stream",
     "text": [
      "1113\n"
     ]
    }
   ],
   "source": [
    "data_size = importeddata[:,1].size\n",
    "print(data_size)"
   ]
  },
  {
   "cell_type": "code",
   "execution_count": 436,
   "metadata": {
    "collapsed": true
   },
   "outputs": [],
   "source": [
    "# Import the deformation gradient tensor from the data\n",
    "ftensor = np.zeros((data_size,2,2))\n",
    "ftensor[:,0,0] = importeddata[:,0]\n",
    "ftensor[:,0,1] = importeddata[:,1]\n",
    "ftensor[:,1,0] = importeddata[:,2]\n",
    "ftensor[:,1,1] = importeddata[:,3]\n",
    "# Import the 2nd PK tensor from the data\n",
    "Stensor = np.zeros((data_size,2,2))\n",
    "Stensor[:,0,0] = importeddata[:,4]\n",
    "Stensor[:,0,1] = importeddata[:,5]\n",
    "Stensor[:,1,0] = importeddata[:,5]\n",
    "Stensor[:,1,1] = importeddata[:,6]"
   ]
  },
  {
   "cell_type": "code",
   "execution_count": 437,
   "metadata": {
    "collapsed": true
   },
   "outputs": [],
   "source": [
    "# Compute the Cauchy stress the deformation gradient tensor from the data\n",
    "Ttensor = np.zeros((data_size,2,2))\n",
    "for i in range(data_size):\n",
    "    Ttensor[i] = ftensor[i].dot(Stensor[i]).dot(ftensor[i].T)"
   ]
  },
  {
   "cell_type": "code",
   "execution_count": 438,
   "metadata": {
    "collapsed": true
   },
   "outputs": [],
   "source": [
    "## Low stress region points\n",
    "ls_datapoints = np.array([ n for n,i in enumerate(Stensor) if i[0,0] < 50 and i[0,1] < 50 and i[1,1] < 50])"
   ]
  },
  {
   "cell_type": "markdown",
   "metadata": {},
   "source": [
    "#### Compute the preferred direction"
   ]
  },
  {
   "cell_type": "code",
   "execution_count": 439,
   "metadata": {
    "collapsed": true
   },
   "outputs": [],
   "source": [
    "M = np.array([1,0])"
   ]
  },
  {
   "cell_type": "code",
   "execution_count": 440,
   "metadata": {
    "collapsed": false
   },
   "outputs": [],
   "source": [
    "S = np.array([-M[1], M[0]])"
   ]
  },
  {
   "cell_type": "code",
   "execution_count": 441,
   "metadata": {
    "collapsed": true
   },
   "outputs": [],
   "source": [
    "def calc_m(F,M):\n",
    "    vec = F.dot(M)\n",
    "    m = vec/np.sqrt(vec.dot(vec))\n",
    "    return m"
   ]
  },
  {
   "cell_type": "code",
   "execution_count": 442,
   "metadata": {
    "collapsed": true
   },
   "outputs": [],
   "source": [
    "def cross_2D(M):\n",
    "    return np.array([-M[1], M[0]])"
   ]
  },
  {
   "cell_type": "code",
   "execution_count": 443,
   "metadata": {
    "collapsed": true
   },
   "outputs": [],
   "source": [
    "m = np.zeros((data_size,2))\n",
    "for i in range(data_size):\n",
    "    m[i] = calc_m(ftensor[i], M)"
   ]
  },
  {
   "cell_type": "code",
   "execution_count": 444,
   "metadata": {
    "collapsed": true
   },
   "outputs": [],
   "source": [
    "s = np.zeros((data_size,2))\n",
    "for i in range(data_size):\n",
    "    s[i] = cross_2D(m[i])"
   ]
  },
  {
   "cell_type": "markdown",
   "metadata": {},
   "source": [
    "#### Compute the kinematic variables"
   ]
  },
  {
   "cell_type": "code",
   "execution_count": 445,
   "metadata": {
    "collapsed": true
   },
   "outputs": [],
   "source": [
    "dat_lambdaM = np.zeros(data_size)\n",
    "dat_lambdaS = np.zeros(data_size)\n",
    "dat_phi = np.zeros(data_size)"
   ]
  },
  {
   "cell_type": "code",
   "execution_count": 446,
   "metadata": {
    "collapsed": false
   },
   "outputs": [],
   "source": [
    "## for lambda_M \n",
    "for i in range(data_size):\n",
    "    dat_lambdaM[i] = m[i].dot(ftensor[i]).dot(M)\n",
    "    \n",
    "## for lambda_S\n",
    "for i in range(data_size):\n",
    "    dat_lambdaS[i] = s[i].dot(ftensor[i]).dot(S)\n",
    "\n",
    "## for phi_M\n",
    "for i in range(data_size):\n",
    "    dat_phi[i] = m[i].dot(ftensor[i]).dot(S)/dat_lambdaM[i]"
   ]
  },
  {
   "cell_type": "code",
   "execution_count": 447,
   "metadata": {
    "collapsed": false
   },
   "outputs": [],
   "source": [
    "dat_gamma1 = np.log(dat_lambdaM)\n",
    "dat_gamma2 = np.log(dat_lambdaS)\n",
    "dat_gamma3 = dat_phi"
   ]
  },
  {
   "cell_type": "code",
   "execution_count": 448,
   "metadata": {
    "collapsed": true
   },
   "outputs": [],
   "source": [
    "gamma1 = dat_gamma1\n",
    "gamma2 = dat_gamma2\n",
    "gamma3 = dat_gamma3"
   ]
  },
  {
   "cell_type": "markdown",
   "metadata": {
    "collapsed": true
   },
   "source": [
    "#### Compute the response function variables"
   ]
  },
  {
   "cell_type": "code",
   "execution_count": 449,
   "metadata": {
    "collapsed": false
   },
   "outputs": [],
   "source": [
    "W1 = np.zeros(data_size)\n",
    "W2 = np.zeros(data_size)\n",
    "W3 = np.zeros(data_size)"
   ]
  },
  {
   "cell_type": "code",
   "execution_count": 450,
   "metadata": {
    "collapsed": false
   },
   "outputs": [],
   "source": [
    "for i in range(data_size):\n",
    "    W1[i] = m[i].dot(Ttensor[i]).dot(m[i])"
   ]
  },
  {
   "cell_type": "code",
   "execution_count": 451,
   "metadata": {
    "collapsed": false
   },
   "outputs": [],
   "source": [
    "for i in range(data_size):\n",
    "    W2[i] = s[i].dot(Ttensor[i]).dot(s[i])"
   ]
  },
  {
   "cell_type": "code",
   "execution_count": 452,
   "metadata": {
    "collapsed": false
   },
   "outputs": [],
   "source": [
    "for i in range(data_size):\n",
    "    W3[i] = m[i].dot(Ttensor[i]).dot(s[i]) * dat_lambdaM[i] / dat_lambdaS[i]"
   ]
  },
  {
   "cell_type": "markdown",
   "metadata": {
    "collapsed": true
   },
   "source": [
    "## Define the model "
   ]
  },
  {
   "cell_type": "markdown",
   "metadata": {},
   "source": [
    "### Model Kinematics"
   ]
  },
  {
   "cell_type": "code",
   "execution_count": 453,
   "metadata": {
    "collapsed": true
   },
   "outputs": [],
   "source": [
    "poly_order = 10"
   ]
  },
  {
   "cell_type": "code",
   "execution_count": 454,
   "metadata": {
    "collapsed": true
   },
   "outputs": [],
   "source": [
    "def vectorize(top_degree, i, j, k):\n",
    "    n = (top_degree//2 + 1)\n",
    "    n2 = (top_degree + 1) * (n)\n",
    "    return n2*i + n*j + k//2"
   ]
  },
  {
   "cell_type": "code",
   "execution_count": 455,
   "metadata": {
    "collapsed": true
   },
   "outputs": [],
   "source": [
    "def find_index(top_degree, y):\n",
    "    n = (top_degree//2 + 1)\n",
    "    n2 = (top_degree + 1) * (n)\n",
    "    return y//n2, (y%n2)//n, 2*(y%n)"
   ]
  },
  {
   "cell_type": "markdown",
   "metadata": {
    "collapsed": true
   },
   "source": [
    "### Define the model form"
   ]
  },
  {
   "cell_type": "code",
   "execution_count": 681,
   "metadata": {
    "collapsed": true
   },
   "outputs": [],
   "source": [
    "def Psi(g1, g2, g3, c, y):\n",
    "    i,j,k = find_index(poly_order, y)\n",
    "    return c * (g1**i) * (g2**j) * (g3**k)"
   ]
  },
  {
   "cell_type": "code",
   "execution_count": 687,
   "metadata": {
    "collapsed": true
   },
   "outputs": [],
   "source": [
    "def strainenergy(g1, g2, g3, const, degrees):\n",
    "    result = 0.0\n",
    "    for y in range(const.size):\n",
    "        result += Psi(g1, g2, g3, const[y], degrees[y])\n",
    "    return result"
   ]
  },
  {
   "cell_type": "markdown",
   "metadata": {
    "collapsed": true
   },
   "source": [
    "### Define the response functions"
   ]
  },
  {
   "cell_type": "code",
   "execution_count": 458,
   "metadata": {
    "collapsed": true
   },
   "outputs": [],
   "source": [
    "def dW1(g1, g2, g3, degrees):\n",
    "    i,j,k = find_index(poly_order, degrees)\n",
    "    if i > 0:\n",
    "        return (i*g1**(i-1)) * (g2**j) * (g3**k)\n",
    "    else:\n",
    "        return 0"
   ]
  },
  {
   "cell_type": "code",
   "execution_count": 459,
   "metadata": {
    "collapsed": true
   },
   "outputs": [],
   "source": [
    "def dW2(g1, g2, g3, degrees):\n",
    "    i,j,k = find_index(poly_order, degrees)\n",
    "    if j > 0:\n",
    "        return (g1**i) * (j*g2**(j-1)) * (g3**k)\n",
    "    else:\n",
    "        return 0"
   ]
  },
  {
   "cell_type": "code",
   "execution_count": 460,
   "metadata": {
    "collapsed": true
   },
   "outputs": [],
   "source": [
    "def dW3(g1, g2, g3, degrees):\n",
    "    i,j,k = find_index(poly_order, degrees)\n",
    "    if k > 0:\n",
    "        return (g1**i) * (g2**j) * (k*g3**(k-1))\n",
    "    else:\n",
    "        return 0"
   ]
  },
  {
   "cell_type": "code",
   "execution_count": 461,
   "metadata": {
    "collapsed": true
   },
   "outputs": [],
   "source": [
    "def dW11(g1, g2, g3, degrees):\n",
    "    i,j,k = find_index(poly_order, degrees)\n",
    "    if i > 1:\n",
    "        return (i * (i-1) * g1**(i-2)) * (g2**j) * (g3**k)\n",
    "    else:\n",
    "        return 0"
   ]
  },
  {
   "cell_type": "code",
   "execution_count": 462,
   "metadata": {
    "collapsed": true
   },
   "outputs": [],
   "source": [
    "def dW22(g1, g2, g3, degrees):\n",
    "    i,j,k = find_index(poly_order, degrees)\n",
    "    if j > 1:\n",
    "        return (g1**i) * (j * (j-1) * g2**(j-2)) * (g3**k)\n",
    "    else:\n",
    "        return 0"
   ]
  },
  {
   "cell_type": "code",
   "execution_count": 463,
   "metadata": {
    "collapsed": true
   },
   "outputs": [],
   "source": [
    "def dW33(g1, g2, g3, degrees):\n",
    "    i,j,k = find_index(poly_order, degrees)\n",
    "    if k > 1:\n",
    "        return (g1**i)*(g2**j)*(k*(k-1)*g3**(k-2))\n",
    "    else:\n",
    "        return 0"
   ]
  },
  {
   "cell_type": "code",
   "execution_count": 464,
   "metadata": {
    "collapsed": true
   },
   "outputs": [],
   "source": [
    "def dW12(g1, g2, g3, degrees):\n",
    "    i,j,k = find_index(poly_order, degrees)\n",
    "    if i > 0 and j > 0:\n",
    "        return (i*g1**(i-1))*(j*g2**(j-1))*(g3**k)\n",
    "    else:\n",
    "        return 0"
   ]
  },
  {
   "cell_type": "code",
   "execution_count": 465,
   "metadata": {
    "collapsed": true
   },
   "outputs": [],
   "source": [
    "def dW13(g1, g2, g3, degrees):\n",
    "    i,j,k = find_index(poly_order, degrees)\n",
    "    if i > 0 and k > 0:\n",
    "        return (i*g1**(i-1))*(g2**j)*(k*g3**(k-1))\n",
    "    else:\n",
    "        return 0"
   ]
  },
  {
   "cell_type": "code",
   "execution_count": 466,
   "metadata": {
    "collapsed": true
   },
   "outputs": [],
   "source": [
    "def dW23(g1, g2, g3, degrees):\n",
    "    i,j,k = find_index(poly_order, degrees)\n",
    "    if j > 0 and k > 0:\n",
    "        return (g1**i)*(j*g2**(j-1))*(k*g3**(k-1))\n",
    "    else:\n",
    "        return 0"
   ]
  },
  {
   "cell_type": "markdown",
   "metadata": {},
   "source": [
    "### Define the stiffness functions"
   ]
  },
  {
   "cell_type": "code",
   "execution_count": 467,
   "metadata": {
    "collapsed": true
   },
   "outputs": [],
   "source": [
    "def rW1(g1, g2, g3, degrees):\n",
    "    x = g1, g2, g3, degrees\n",
    "    lm2 = np.exp(g1)**2\n",
    "    ls2 = np.exp(g2)**2\n",
    "    phi = g3\n",
    "    return -(phi**2 /lm2/ls2 + .5 * phi**4 /ls2/ls2)*dW2(*x) \\\n",
    "            +(2*phi*dW3(*x) - 0.5*dW1(*x) + 0.25*dW11(*x) + phi**2 * dW33(*x) - phi*dW13(*x))/lm2/lm2 \\\n",
    "            +phi**2 /lm2/ls2 * (.5*dW12(*x) - phi*dW23(*x)) + 0.25 * phi**4 /ls2/ls2 * dW22(*x)"
   ]
  },
  {
   "cell_type": "code",
   "execution_count": 468,
   "metadata": {
    "collapsed": true
   },
   "outputs": [],
   "source": [
    "def rW2(g1, g2, g3, degrees):\n",
    "    x = g1, g2, g3, degrees\n",
    "    lm2 = np.exp(g1)**2\n",
    "    ls2 = np.exp(g2)**2\n",
    "    phi = g3\n",
    "    return 0.5*(phi/lm2/ls2 + phi**3/ls2/ls2) * dW2(*x) \\\n",
    "            +0.5/lm2/lm2*(0.5*dW13(*x) - dW3(*x) - phi*dW33(*x)) \\\n",
    "            +0.25*phi/lm2/ls2*(3*phi*dW23(*x) - dW12(*x)) - 0.25 * phi**3 /ls2/ls2 * dW22(*x)"
   ]
  },
  {
   "cell_type": "code",
   "execution_count": 469,
   "metadata": {
    "collapsed": true
   },
   "outputs": [],
   "source": [
    "def rW3(g1, g2, g3, degrees):\n",
    "    x = g1, g2, g3, degrees\n",
    "    lm2 = np.exp(g1)**2\n",
    "    ls2 = np.exp(g2)**2\n",
    "    phi = g3\n",
    "    return 0.25 * phi**2/ls2/ls2 *(dW22(*x) - 2*dW2(*x)) + 0.25/lm2/ls2*(dW12(*x) - 2*phi*dW23(*x))"
   ]
  },
  {
   "cell_type": "code",
   "execution_count": 470,
   "metadata": {
    "collapsed": true
   },
   "outputs": [],
   "source": [
    "def rW4(g1, g2, g3, degrees):\n",
    "    x = g1, g2, g3, degrees\n",
    "    lm2 = np.exp(g1)**2\n",
    "    ls2 = np.exp(g2)**2\n",
    "    phi = g3\n",
    "    return -(0.25/lm2 + 0.5*phi**2/ls2)/ls2*dW2(*x) + 0.25 * phi**2 /ls2/ls2*dW22(*x) \\\n",
    "            +0.25/lm2/lm2*dW33(*x) - 0.5*phi/lm2/ls2 * dW23(*x)"
   ]
  },
  {
   "cell_type": "code",
   "execution_count": 471,
   "metadata": {
    "collapsed": true
   },
   "outputs": [],
   "source": [
    "def rW5(g1, g2, g3, degrees):\n",
    "    x = g1, g2, g3, degrees\n",
    "    lm2 = np.exp(g1)**2\n",
    "    ls2 = np.exp(g2)**2\n",
    "    phi = g3\n",
    "    return 0.25*phi/ls2/ls2*(2*dW2(*x) - dW22(*x)) + 0.25/lm2/ls2*dW23(*x)"
   ]
  },
  {
   "cell_type": "code",
   "execution_count": 472,
   "metadata": {
    "collapsed": true
   },
   "outputs": [],
   "source": [
    "def rW6(g1, g2, g3, degrees):\n",
    "    x = g1, g2, g3, degrees\n",
    "    ls2 = np.exp(g2)**2\n",
    "    return 0.25/ls2/ls2*(dW22(*x) - 2*dW2(*x))"
   ]
  },
  {
   "cell_type": "markdown",
   "metadata": {},
   "source": [
    "### Define the stress"
   ]
  },
  {
   "cell_type": "code",
   "execution_count": 473,
   "metadata": {
    "collapsed": true
   },
   "outputs": [],
   "source": [
    "def responseW1(g1, g2, g3, const, degrees):\n",
    "    result = 0.0\n",
    "    for y in range(const.size):\n",
    "        result += const[y]*dW1(g1,g2,g3,degrees[y])\n",
    "    return result"
   ]
  },
  {
   "cell_type": "code",
   "execution_count": 474,
   "metadata": {
    "collapsed": true
   },
   "outputs": [],
   "source": [
    "def responseW2(g1, g2, g3, const, degrees):\n",
    "    result = 0.0\n",
    "    for y in range(const.size):\n",
    "        result += const[y]*dW2(g1,g2,g3,degrees[y])\n",
    "    return result"
   ]
  },
  {
   "cell_type": "code",
   "execution_count": 475,
   "metadata": {
    "collapsed": true
   },
   "outputs": [],
   "source": [
    "def responseW3(g1, g2, g3, const, degrees):\n",
    "    result = 0.0\n",
    "    for y in range(const.size):\n",
    "        result += const[y]*dW3(g1,g2,g3,degrees[y])\n",
    "    return result"
   ]
  },
  {
   "cell_type": "code",
   "execution_count": null,
   "metadata": {
    "collapsed": true
   },
   "outputs": [],
   "source": []
  },
  {
   "cell_type": "code",
   "execution_count": 476,
   "metadata": {
    "collapsed": true
   },
   "outputs": [],
   "source": [
    "def cauchy_stress(lambda1, lambda3, const, degrees):\n",
    "    result = 0.0\n",
    "    gamma1 = np.log(lambda1)\n",
    "    gamma2 = np.log(lambda3)\n",
    "    gamma3 = 0.0\n",
    "    W1 = responseW1(gamma1, gamma2, gamma3, const, degrees)\n",
    "    return W1/lambda1/lambda1"
   ]
  },
  {
   "cell_type": "markdown",
   "metadata": {},
   "source": [
    "## Precompute the problem"
   ]
  },
  {
   "cell_type": "markdown",
   "metadata": {},
   "source": [
    "### Define the response matrix"
   ]
  },
  {
   "cell_type": "code",
   "execution_count": 477,
   "metadata": {
    "collapsed": true
   },
   "outputs": [],
   "source": [
    "def pre_W1(g1, g2, g3, degrees):\n",
    "    npoly = degrees.max() + 1\n",
    "    data_size = g1.size\n",
    "    preArray = np.zeros((data_size, npoly))\n",
    "    for x in range(data_size):\n",
    "        for y in degrees:\n",
    "            preArray[x,y] = dW1(g1[x],g2[x],g3[x],y)\n",
    "    return preArray"
   ]
  },
  {
   "cell_type": "code",
   "execution_count": 478,
   "metadata": {
    "collapsed": true
   },
   "outputs": [],
   "source": [
    "def pre_W2(g1, g2, g3, degrees):\n",
    "    npoly = degrees.max() + 1\n",
    "    data_size = g1.size\n",
    "    preArray = np.zeros((data_size, npoly))\n",
    "    for x in range(data_size):\n",
    "        for y in degrees:\n",
    "            preArray[x,y] = dW2(g1[x],g2[x],g3[x],y)\n",
    "    return preArray"
   ]
  },
  {
   "cell_type": "code",
   "execution_count": 479,
   "metadata": {
    "collapsed": true
   },
   "outputs": [],
   "source": [
    "def pre_W3(g1, g2, g3, degrees):\n",
    "    npoly = degrees.max() + 1\n",
    "    data_size = g1.size\n",
    "    preArray = np.zeros((data_size, npoly))\n",
    "    for x in range(data_size):\n",
    "        for y in degrees:\n",
    "            preArray[x,y] = dW3(g1[x],g2[x],g3[x],y)\n",
    "    return preArray"
   ]
  },
  {
   "cell_type": "markdown",
   "metadata": {},
   "source": [
    "### Define the elasticity matrix"
   ]
  },
  {
   "cell_type": "code",
   "execution_count": 480,
   "metadata": {
    "collapsed": true
   },
   "outputs": [],
   "source": [
    "def pre_rW1(g1, g2, g3, degrees):\n",
    "    npoly = degrees.max() + 1\n",
    "    data_size = g1.size\n",
    "    preArray = np.zeros((data_size, npoly))\n",
    "    for x in range(data_size):\n",
    "        for y in degrees:\n",
    "            preArray[x,y] = rW1(g1[x], g2[x], g3[x], y)\n",
    "    return preArray"
   ]
  },
  {
   "cell_type": "code",
   "execution_count": 481,
   "metadata": {
    "collapsed": true
   },
   "outputs": [],
   "source": [
    "def pre_rW2(g1, g2, g3, degrees):\n",
    "    npoly = degrees.max() + 1\n",
    "    data_size = g1.size\n",
    "    preArray = np.zeros((data_size, npoly))\n",
    "    for x in range(data_size):\n",
    "        for y in degrees:\n",
    "            preArray[x,y] = rW2(g1[x], g2[x], g3[x], y)\n",
    "    return preArray"
   ]
  },
  {
   "cell_type": "code",
   "execution_count": 482,
   "metadata": {
    "collapsed": true
   },
   "outputs": [],
   "source": [
    "def pre_rW3(g1, g2, g3, degrees):\n",
    "    npoly = degrees.max() + 1\n",
    "    data_size = g1.size\n",
    "    preArray = np.zeros((data_size, npoly))\n",
    "    for x in range(data_size):\n",
    "        for y in degrees:\n",
    "            preArray[x,y] = rW3(g1[x], g2[x], g3[x], y)\n",
    "    return preArray"
   ]
  },
  {
   "cell_type": "code",
   "execution_count": 483,
   "metadata": {
    "collapsed": true
   },
   "outputs": [],
   "source": [
    "def pre_rW4(g1, g2, g3, degrees):\n",
    "    npoly = degrees.max() + 1\n",
    "    data_size = g1.size\n",
    "    preArray = np.zeros((data_size, npoly))\n",
    "    for x in range(data_size):\n",
    "        for y in degrees:\n",
    "            preArray[x,y] = rW4(g1[x], g2[x], g3[x], y)\n",
    "    return preArray"
   ]
  },
  {
   "cell_type": "code",
   "execution_count": 484,
   "metadata": {
    "collapsed": true
   },
   "outputs": [],
   "source": [
    "def pre_rW5(g1, g2, g3, degrees):\n",
    "    npoly = degrees.max() + 1\n",
    "    data_size = g1.size\n",
    "    preArray = np.zeros((data_size, npoly))\n",
    "    for x in range(data_size):\n",
    "        for y in degrees:\n",
    "            preArray[x,y] = rW5(g1[x], g2[x], g3[x], y)\n",
    "    return preArray"
   ]
  },
  {
   "cell_type": "code",
   "execution_count": 485,
   "metadata": {
    "collapsed": true
   },
   "outputs": [],
   "source": [
    "def pre_rW6(g1, g2, g3, degrees):\n",
    "    npoly = degrees.max() + 1\n",
    "    data_size = g1.size\n",
    "    preArray = np.zeros((data_size, npoly))\n",
    "    for x in range(data_size):\n",
    "        for y in degrees:\n",
    "            preArray[x,y] = rW6(g1[x], g2[x], g3[x], y)\n",
    "    return preArray"
   ]
  },
  {
   "cell_type": "markdown",
   "metadata": {},
   "source": [
    "### Precompute the response matrix"
   ]
  },
  {
   "cell_type": "code",
   "execution_count": 486,
   "metadata": {
    "collapsed": false
   },
   "outputs": [],
   "source": [
    "W1tensor = pre_W1(gamma1, gamma2, gamma3, index[:key.max()+1])\n",
    "W2tensor = pre_W2(gamma1, gamma2, gamma3, index[:key.max()+1])\n",
    "W3tensor = pre_W3(gamma1, gamma2, gamma3, index[:key.max()+1])"
   ]
  },
  {
   "cell_type": "code",
   "execution_count": 487,
   "metadata": {
    "collapsed": true
   },
   "outputs": [],
   "source": [
    "Wtensor = np.concatenate((W1tensor,W2tensor,W3tensor), axis = 0)\n",
    "Wvector = np.concatenate((W1,W2,W3))"
   ]
  },
  {
   "cell_type": "markdown",
   "metadata": {},
   "source": [
    "### Precompute the elasticity matrix"
   ]
  },
  {
   "cell_type": "code",
   "execution_count": 488,
   "metadata": {
    "collapsed": false
   },
   "outputs": [],
   "source": [
    "g1_cons_points = np.log(importedconsdata[:,0])\n",
    "g2_cons_points = np.log(importedconsdata[:,3])\n",
    "g3_cons_points = importedconsdata[:,1]/importedconsdata[:,0]"
   ]
  },
  {
   "cell_type": "code",
   "execution_count": 489,
   "metadata": {
    "collapsed": true
   },
   "outputs": [],
   "source": [
    "# cons_n_axis = 4\n",
    "\n",
    "# def set_range(g):\n",
    "#     global cons_degree\n",
    "#     delta = (g.max() - g.min()) / cons_n_axis\n",
    "#     return np.arange(g.min(), g.max() + delta/2, delta)\n",
    "\n",
    "# def compute_cons_points(g1,g2,g3):\n",
    "#     points = np.zeros(((cons_n_axis+1)**3,3))\n",
    "#     z = 0 \n",
    "#     for i in set_range(g1):\n",
    "#         for j in set_range(g2):\n",
    "#             for k in set_range(g3):\n",
    "#                 cons_points[z] = np.array([i,j,k])\n",
    "#                 z += 1\n",
    "\n",
    "# #########################\n",
    "# [g1_cons_points,g2_cons_points,g3_cons_points] = compute_cons_points(gamma1, gamma2, gamma3).T"
   ]
  },
  {
   "cell_type": "code",
   "execution_count": 490,
   "metadata": {
    "collapsed": false
   },
   "outputs": [],
   "source": [
    "rW_tensor_1 = pre_rW1(g1_cons_points, g2_cons_points, g3_cons_points, index[:key.max()+1])\n",
    "rW_tensor_2 = pre_rW2(g1_cons_points, g2_cons_points, g3_cons_points, index[:key.max()+1])\n",
    "rW_tensor_3 = pre_rW3(g1_cons_points, g2_cons_points, g3_cons_points, index[:key.max()+1])\n",
    "rW_tensor_4 = pre_rW4(g1_cons_points, g2_cons_points, g3_cons_points, index[:key.max()+1])\n",
    "rW_tensor_5 = pre_rW5(g1_cons_points, g2_cons_points, g3_cons_points, index[:key.max()+1])\n",
    "rW_tensor_6 = pre_rW6(g1_cons_points, g2_cons_points, g3_cons_points, index[:key.max()+1])"
   ]
  },
  {
   "cell_type": "code",
   "execution_count": 602,
   "metadata": {
    "collapsed": true
   },
   "outputs": [],
   "source": [
    "ncons = g1_cons_points.size"
   ]
  },
  {
   "cell_type": "markdown",
   "metadata": {},
   "source": [
    "## Fit the low stress region"
   ]
  },
  {
   "cell_type": "markdown",
   "metadata": {},
   "source": [
    "### Data processing"
   ]
  },
  {
   "cell_type": "code",
   "execution_count": 491,
   "metadata": {
    "collapsed": false
   },
   "outputs": [],
   "source": [
    "ls_W1 = pre_W1(gamma1[ls_datapoints], gamma2[ls_datapoints], gamma3[ls_datapoints], index[[3,4,5,6]])\n",
    "ls_W2 = pre_W2(gamma1[ls_datapoints], gamma2[ls_datapoints], gamma3[ls_datapoints], index[[3,4,5,6]])\n",
    "ls_W3 = pre_W3(gamma1[ls_datapoints], gamma2[ls_datapoints], gamma3[ls_datapoints], index[[3,4,5,6]])\n",
    "############################################################\n",
    "ls_Wtensor = np.concatenate((ls_W1,ls_W2,ls_W3), axis = 0)\n",
    "ls_Wvector = np.concatenate((W1[ls_datapoints],W2[ls_datapoints],W3[ls_datapoints]))"
   ]
  },
  {
   "cell_type": "code",
   "execution_count": 508,
   "metadata": {
    "collapsed": false
   },
   "outputs": [],
   "source": [
    "ls_A = np.zeros((3*ls_datapoints.size,3))\n",
    "\n",
    "for i in range(3*ls_datapoints.size):\n",
    "    ls_A[i,0] = ls_Wtensor[i,index[3]]\n",
    "    ls_A[i,1] = ls_Wtensor[i,index[4]] + ls_Wtensor[i,index[5]]\n",
    "    ls_A[i,2] = ls_Wtensor[i,index[6]]"
   ]
  },
  {
   "cell_type": "markdown",
   "metadata": {},
   "source": [
    "### Functions"
   ]
  },
  {
   "cell_type": "code",
   "execution_count": 509,
   "metadata": {
    "collapsed": true
   },
   "outputs": [],
   "source": [
    "#################### Objective function ####################\n",
    "def ls_obj(x):\n",
    "    sse = ls_A.dot(x) - ls_Wvector\n",
    "    return np.dot(sse,sse)\n",
    "\n",
    "#################### Jacobian ####################\n",
    "def ls_obj_jac(x):\n",
    "    jac = np.zeros(3)\n",
    "    for i in range(3):\n",
    "        jac[i] = 2*((ls_A.dot(x) - ls_Wvector).dot(ls_A[:,i]))\n",
    "    return jac"
   ]
  },
  {
   "cell_type": "code",
   "execution_count": 510,
   "metadata": {
    "collapsed": true
   },
   "outputs": [],
   "source": [
    "ls_cons = (\n",
    "            {'type': 'ineq', 'fun': lambda x: x[1], 'jac' : lambda x: np.array([0,1,0])},\n",
    "            {'type': 'ineq', 'fun': lambda x: x[2], 'jac' : lambda x: np.array([0,0,1])},\n",
    "            {'type': 'ineq', 'fun': lambda x: x[1]*x[1]-x[0]*x[0], 'jac' : lambda x: np.array([-2*x[0],2*x[1],0])}\n",
    "    )"
   ]
  },
  {
   "cell_type": "markdown",
   "metadata": {},
   "source": [
    "### Parameter optimization"
   ]
  },
  {
   "cell_type": "code",
   "execution_count": 511,
   "metadata": {
    "collapsed": true
   },
   "outputs": [],
   "source": [
    "#################### Given an initial guess ####################\n",
    "ig = np.array([200,200,50])"
   ]
  },
  {
   "cell_type": "code",
   "execution_count": 512,
   "metadata": {
    "collapsed": false
   },
   "outputs": [
    {
     "data": {
      "text/plain": [
       "1187439.9117098616"
      ]
     },
     "execution_count": 512,
     "metadata": {},
     "output_type": "execute_result"
    }
   ],
   "source": [
    "ls_obj(low_results.x)"
   ]
  },
  {
   "cell_type": "code",
   "execution_count": 546,
   "metadata": {
    "collapsed": false,
    "scrolled": false
   },
   "outputs": [
    {
     "name": "stdout",
     "output_type": "stream",
     "text": [
      "  NIT    FC           OBJFUN            GNORM\n",
      "    1     1     1.014403E+05     1.909716E+03\n",
      "    2     4     5.716294E+04     5.530376E+02\n",
      "    3     6     5.133847E+04     4.433666E+02\n",
      "    4     8     4.800988E+04     3.170925E+02\n",
      "    5     9     4.711066E+04     2.197677E+02\n",
      "    6    10     4.659490E+04     1.619158E+01\n",
      "    7    11     4.659450E+04     1.518290E+01\n",
      "    8    12     4.659450E+04     1.513122E+01\n",
      "    9    13     4.659450E+04     1.513167E+01\n",
      "   10    18     4.659450E+04     1.513167E+01\n",
      "Optimization terminated successfully.    (Exit mode 0)\n",
      "            Current function value: 46594.49844748647\n",
      "            Iterations: 10\n",
      "            Function evaluations: 29\n",
      "            Gradient evaluations: 10\n"
     ]
    }
   ],
   "source": [
    "low_results=minimize(ls_obj, ig, jac=ls_obj_jac,\n",
    "                     constraints=ls_cons, method='SLSQP',\n",
    "                     options={'disp': True, 'ftol':1e-14,'maxiter' : 100000, 'iprint': 2})"
   ]
  },
  {
   "cell_type": "code",
   "execution_count": 514,
   "metadata": {
    "collapsed": false
   },
   "outputs": [
    {
     "name": "stdout",
     "output_type": "stream",
     "text": [
      "[ 250.33146815  250.33146815  250.33146815   61.02414898]\n"
     ]
    }
   ],
   "source": [
    "#################### Assign the final results\n",
    "ls_terms = index[[3,4,5,6]]\n",
    "ls_parms_val = np.array([low_results.x[0],low_results.x[1],low_results.x[1],low_results.x[2]])\n",
    "print(ls_parms_val)"
   ]
  },
  {
   "cell_type": "code",
   "execution_count": 515,
   "metadata": {
    "collapsed": true
   },
   "outputs": [],
   "source": [
    "ls_parms_val = np.array([200,  200,   200,   50.        ])"
   ]
  },
  {
   "cell_type": "markdown",
   "metadata": {},
   "source": [
    "### Plot the results"
   ]
  },
  {
   "cell_type": "markdown",
   "metadata": {},
   "source": [
    "##### Plot for W1"
   ]
  },
  {
   "cell_type": "code",
   "execution_count": 516,
   "metadata": {
    "collapsed": false
   },
   "outputs": [
    {
     "data": {
      "text/plain": [
       "array([ 200.,  200.,  200.,   50.])"
      ]
     },
     "execution_count": 516,
     "metadata": {},
     "output_type": "execute_result"
    }
   ],
   "source": [
    "ls_parms_val"
   ]
  },
  {
   "cell_type": "code",
   "execution_count": 517,
   "metadata": {
    "collapsed": false
   },
   "outputs": [],
   "source": [
    "########################################\n",
    "# Select the data for plotting\n",
    "X = []\n",
    "Y = []\n",
    "Z = []\n",
    "for i in ls_datapoints:\n",
    "    if abs(gamma3[i]) < np.finfo(float).eps:\n",
    "        X.append(gamma1[i])\n",
    "        Y.append(gamma2[i])\n",
    "        Z.append(W1[i])\n",
    "########################################\n",
    "# Compute the fitted surface\n",
    "Zfit = np.zeros(len(X))\n",
    "for i in range(len(X)):\n",
    "    Zfit[i] = responseW1(X[i], Y[i], 0.0, ls_parms_val, ls_terms)\n"
   ]
  },
  {
   "cell_type": "code",
   "execution_count": 518,
   "metadata": {
    "collapsed": false,
    "scrolled": true
   },
   "outputs": [
    {
     "data": {
      "image/png": "[encoded data removed]",
      "text/plain": [
       "<matplotlib.figure.Figure at 0x122057c50>"
      ]
     },
     "metadata": {},
     "output_type": "display_data"
    }
   ],
   "source": [
    "fig_ls_data = plt.figure()\n",
    "ax = fig_ls_data.add_subplot(111, projection='3d')\n",
    "ax.scatter(X,Y,Z, c='r', marker='o')\n",
    "ax.scatter(X,Y,Zfit, c='b', marker='^')\n",
    "ax.view_init(elev=25., azim=240)\n",
    "ax.set_title(r'$W_1 (kPa)$')\n",
    "ax.set_xlabel(r'$\\gamma_1$')\n",
    "ax.set_ylabel(r'$\\gamma_2$')\n",
    "plt.savefig(infiles[0][:-4]+'ls_W1scatter.png',dpi=500,bbox_inches='tight')\n",
    "plt.show()"
   ]
  },
  {
   "cell_type": "markdown",
   "metadata": {},
   "source": [
    "##### Plot for W2"
   ]
  },
  {
   "cell_type": "code",
   "execution_count": 519,
   "metadata": {
    "collapsed": false
   },
   "outputs": [],
   "source": [
    "########################################\n",
    "# Select the data for plotting\n",
    "X = []\n",
    "Y = []\n",
    "Z = []\n",
    "for i in ls_datapoints:\n",
    "    if abs(gamma3[i]) < np.finfo(float).eps:\n",
    "        X.append(gamma1[i])\n",
    "        Y.append(gamma2[i])\n",
    "        Z.append(W2[i])\n",
    "########################################\n",
    "# Compute the fitted surface\n",
    "Zfit = np.zeros(len(X))\n",
    "for i in range(len(X)):\n",
    "    Zfit[i] = responseW2(X[i], Y[i], 0.0, ls_parms_val, ls_terms)\n"
   ]
  },
  {
   "cell_type": "code",
   "execution_count": 520,
   "metadata": {
    "collapsed": false,
    "scrolled": true
   },
   "outputs": [
    {
     "data": {
      "image/png": "[encoded data removed]",
      "text/plain": [
       "<matplotlib.figure.Figure at 0x10cbff898>"
      ]
     },
     "metadata": {},
     "output_type": "display_data"
    }
   ],
   "source": [
    "fig_ls_data = plt.figure()\n",
    "ax = fig_ls_data.add_subplot(111, projection='3d')\n",
    "ax.scatter(X,Y,Z, c='r', marker='o')\n",
    "ax.scatter(X,Y,Zfit, c='b', marker='^')\n",
    "ax.view_init(elev=25., azim=240)\n",
    "ax.set_title(r'$W_1 (kPa)$')\n",
    "ax.set_xlabel(r'$\\gamma_1$')\n",
    "ax.set_ylabel(r'$\\gamma_2$')\n",
    "plt.savefig(infiles[0][:-4]+'ls_W2scatter.png',dpi=500,bbox_inches='tight')\n",
    "plt.show()"
   ]
  },
  {
   "cell_type": "markdown",
   "metadata": {},
   "source": [
    "##### Plot for W3"
   ]
  },
  {
   "cell_type": "code",
   "execution_count": 521,
   "metadata": {
    "collapsed": false
   },
   "outputs": [],
   "source": [
    "########################################\n",
    "# Select the data for plotting\n",
    "X = []\n",
    "Y = []\n",
    "Z = []\n",
    "for i in ls_datapoints:\n",
    "    if abs(gamma2[i]) < np.finfo(float).eps:\n",
    "        X.append(gamma1[i])\n",
    "        Y.append(gamma3[i])\n",
    "        Z.append(W3[i])\n",
    "########################################\n",
    "# Compute the fitted surface\n",
    "Zfit = np.zeros(len(X))\n",
    "for i in range(len(X)):\n",
    "    Zfit[i] = responseW3(X[i], 0.0, Y[i], ls_parms_val, ls_terms)\n"
   ]
  },
  {
   "cell_type": "code",
   "execution_count": 522,
   "metadata": {
    "collapsed": false,
    "scrolled": true
   },
   "outputs": [
    {
     "data": {
      "image/png": "[encoded data removed]",
      "text/plain": [
       "<matplotlib.figure.Figure at 0x11313a048>"
      ]
     },
     "metadata": {},
     "output_type": "display_data"
    }
   ],
   "source": [
    "fig_ls_data = plt.figure()\n",
    "ax = fig_ls_data.add_subplot(111, projection='3d')\n",
    "ax.scatter(X,Y,Z, c='r', marker='o')\n",
    "ax.scatter(X,Y,Zfit, c='b', marker='^')\n",
    "ax.view_init(elev=25., azim=240)\n",
    "ax.set_title(r'$W_1 (kPa)$')\n",
    "ax.set_xlabel(r'$\\gamma_1$')\n",
    "ax.set_ylabel(r'$\\gamma_3$')\n",
    "plt.savefig(infiles[0][:-4]+'ls_W3scatter.png',dpi=500,bbox_inches='tight')\n",
    "plt.show()"
   ]
  },
  {
   "cell_type": "markdown",
   "metadata": {},
   "source": [
    "### Post processing to remove the toe region"
   ]
  },
  {
   "cell_type": "code",
   "execution_count": 523,
   "metadata": {
    "collapsed": false
   },
   "outputs": [],
   "source": [
    "hs_vec_b = np.zeros(Wvector.size)\n",
    "####\n",
    "# Computes the Wvector data while removing the low stress component\n",
    "for i in range(Wvector.size):\n",
    "    hs_vec_b[i] = Wvector[i] - Wtensor[i,ls_terms].dot(ls_parms_val)"
   ]
  },
  {
   "cell_type": "markdown",
   "metadata": {},
   "source": [
    "## Define the optimization problem"
   ]
  },
  {
   "cell_type": "markdown",
   "metadata": {},
   "source": [
    "### Define the objective function"
   ]
  },
  {
   "cell_type": "code",
   "execution_count": 525,
   "metadata": {
    "collapsed": true
   },
   "outputs": [],
   "source": [
    "def obj_f(const, degrees):\n",
    "#     sse = np.log(np.abs(Wtensor[:,degrees].dot(const) - Wvector) + 1)\n",
    "    sse = Wtensor[:,degrees].dot(const) - hs_vec_b\n",
    "    return np.dot(sse,sse)\n",
    "\n",
    "\n",
    "\n",
    "\n",
    "def obj_f_jac(const, degrees):\n",
    "    jac = np.zeros(degrees.size)\n",
    "    for i in range(degrees.size):\n",
    "        jac[i] = 2*((Wtensor[:,degrees].dot(const) - hs_vec_b).dot(Wtensor[:,degrees[i]]))\n",
    "    return jac"
   ]
  },
  {
   "cell_type": "markdown",
   "metadata": {},
   "source": [
    "### Define the constraint functions"
   ]
  },
  {
   "cell_type": "code",
   "execution_count": 608,
   "metadata": {
    "collapsed": true
   },
   "outputs": [],
   "source": [
    "def psi_1(i, degrees, x):\n",
    "    return rW_tensor_1[i,degrees].dot(x)\n",
    "\n",
    "def psi_2(i, degrees, x):\n",
    "    return rW_tensor_2[i,degrees].dot(x)\n",
    "\n",
    "def psi_3(i, degrees, x):\n",
    "    return rW_tensor_3[i,degrees].dot(x)\n",
    "\n",
    "def psi_4(i, degrees, x):\n",
    "    return rW_tensor_4[i,degrees].dot(x)\n",
    "\n",
    "def psi_5(i, degrees, x):\n",
    "    return rW_tensor_5[i,degrees].dot(x)\n",
    "\n",
    "def psi_6(i, degrees, x):\n",
    "    return rW_tensor_6[i,degrees].dot(x)"
   ]
  },
  {
   "cell_type": "code",
   "execution_count": 609,
   "metadata": {
    "collapsed": true
   },
   "outputs": [],
   "source": [
    "def d_psi_1(i, degrees, j):\n",
    "    return rW_tensor_1[i,degrees[j]]\n",
    "\n",
    "def d_psi_2(i, degrees, j):\n",
    "    return rW_tensor_2[i,degrees[j]]\n",
    "\n",
    "def d_psi_3(i, degrees, j):\n",
    "    return rW_tensor_3[i,degrees[j]]\n",
    "\n",
    "def d_psi_4(i, degrees, j):\n",
    "    return rW_tensor_4[i,degrees[j]]\n",
    "\n",
    "def d_psi_5(i, degrees, j):\n",
    "    return rW_tensor_5[i,degrees[j]]\n",
    "\n",
    "def d_psi_6(i, degrees, j):\n",
    "    return rW_tensor_6[i,degrees[j]]"
   ]
  },
  {
   "cell_type": "code",
   "execution_count": 1048,
   "metadata": {
    "collapsed": true
   },
   "outputs": [],
   "source": [
    "def constraint1(i, degrees, x):\n",
    "    return psi_1(i, degrees, x)\n",
    "\n",
    "\n",
    "def constraint2(i, degrees, x):\n",
    "    return psi_6(i, degrees, x)\n",
    "\n",
    "\n",
    "def constraint3(i, degrees, x):\n",
    "    return psi_4(i, degrees, x)\n",
    "\n",
    "\n",
    "def constraint4(i, degrees, x):\n",
    "    w1 = psi_1(i, degrees, x)\n",
    "    w3 = psi_3(i, degrees, x)\n",
    "    w6 = psi_6(i, degrees, x)\n",
    "    return (w1*w6 - w3*w3)\n",
    "\n",
    "\n",
    "def constraint5(i, degrees, x):\n",
    "    w1 = psi_1(i, degrees, x)\n",
    "    w2 = psi_2(i, degrees, x)\n",
    "    w4 = psi_4(i, degrees, x)\n",
    "    return (w1*w4 - w2*w2)\n",
    "\n",
    "\n",
    "def constraint6(i, degrees, x):\n",
    "    w4 = psi_4(i, degrees, x)\n",
    "    w5 = psi_5(i, degrees, x)\n",
    "    w6 = psi_6(i, degrees, x)\n",
    "    return (w6*w4 - w5*w5)\n",
    "\n",
    "\n",
    "def constraint7(i, degrees, x):\n",
    "    w1 = psi_1(i, degrees, x)\n",
    "    w2 = psi_2(i, degrees, x)\n",
    "    w3 = psi_3(i, degrees, x)\n",
    "    w4 = psi_4(i, degrees, x)\n",
    "    w5 = psi_5(i, degrees, x)\n",
    "    w6 = psi_6(i, degrees, x)\n",
    "    return  (w1*( w4*w6 - w5*w5 ) - w3*( w3*w4 - w5*w2 ) + w2*( w3*w5 - w6*w2 ))"
   ]
  },
  {
   "cell_type": "code",
   "execution_count": null,
   "metadata": {
    "collapsed": true
   },
   "outputs": [],
   "source": []
  },
  {
   "cell_type": "code",
   "execution_count": 1049,
   "metadata": {
    "collapsed": true
   },
   "outputs": [],
   "source": [
    "def cons1_jac(i, degrees, x):\n",
    "    n = degrees.size\n",
    "    jacob = np.zeros(n)\n",
    "    for j in range(n):\n",
    "        jacob[j] = d_psi_1(i, degrees, j)\n",
    "    return jacob\n",
    "\n",
    "\n",
    "def cons2_jac(i, degrees, x):\n",
    "    n = degrees.size\n",
    "    jacob = np.zeros(n)\n",
    "    for j in range(n):\n",
    "        jacob[j] = d_psi_6(i, degrees, j)\n",
    "    return jacob\n",
    "\n",
    "\n",
    "def cons3_jac(i, degrees, x):\n",
    "    n = degrees.size\n",
    "    jacob = np.zeros(n)\n",
    "    for j in range(n):\n",
    "        jacob[j] = d_psi_4(i, degrees, j)\n",
    "    return jacob\n",
    "\n",
    "\n",
    "def cons4_jac(i, degrees, x):\n",
    "    w1 = psi_1(i, degrees, x)\n",
    "    w3 = psi_3(i, degrees, x)\n",
    "    w6 = psi_6(i, degrees, x)\n",
    "    n = degrees.size\n",
    "    jacob = np.zeros(n)\n",
    "    for j in range(n):\n",
    "        jacob[j] = (w6*d_psi_1(i, degrees, j) + w1*d_psi_6(i, degrees, j) - 2* w3*d_psi_3(i, degrees, j))\n",
    "    return jacob\n",
    "\n",
    "\n",
    "def cons5_jac(i, degrees, x):\n",
    "    w1 = psi_1(i, degrees, x)\n",
    "    w2 = psi_2(i, degrees, x)\n",
    "    w4 = psi_4(i, degrees, x)\n",
    "    n = degrees.size\n",
    "    jacob = np.zeros(n)\n",
    "    for j in range(n):\n",
    "        jacob[j] = (w4*d_psi_1(i, degrees, j) + w1*d_psi_4(i, degrees, j) - 2*w2*d_psi_2(i, degrees, j))\n",
    "    return jacob\n",
    "\n",
    "\n",
    "def cons6_jac(i, degrees, x):\n",
    "    w4 = psi_4(i, degrees, x)\n",
    "    w5 = psi_5(i, degrees, x)\n",
    "    w6 = psi_6(i, degrees, x)\n",
    "    n = degrees.size\n",
    "    jacob = np.zeros(n)\n",
    "    for j in range(n):\n",
    "        jacob[j] = (w4*d_psi_6(i, degrees, j) + w6*d_psi_4(i, degrees, j) - 2* w5*d_psi_5(i, degrees, j))\n",
    "    return jacob\n",
    "\n",
    "\n",
    "def cons7_jac(i, degrees, x):\n",
    "    w1 = psi_1(i, degrees, x)\n",
    "    w2 = psi_2(i, degrees, x)\n",
    "    w3 = psi_3(i, degrees, x)\n",
    "    w4 = psi_4(i, degrees, x)\n",
    "    w5 = psi_5(i, degrees, x)\n",
    "    w6 = psi_6(i, degrees, x)\n",
    "    n = degrees.size\n",
    "    jacob = np.zeros(n)\n",
    "    for j in range(n):\n",
    "        jacob[j] = (( w4*w6 - w5*w5 )*d_psi_1(i, degrees, j) + w1*w4*d_psi_6(i, degrees, j) \n",
    "                    + w1*w6*d_psi_4(i, degrees, j) - 2*w1*w5*d_psi_5(i, degrees, j)\n",
    "                    - 2*w3*w4*d_psi_3(i, degrees, j) + w5*w2*d_psi_3(i, degrees, j)\n",
    "                    - w3*w3*d_psi_4(i, degrees, j) + w3*w2*d_psi_5(i, degrees, j) + w3*w5*d_psi_2(i, degrees, j)\n",
    "                    + w3*w5*d_psi_2(i, degrees, j) - 2*w6*w2*d_psi_2(i, degrees, j)\n",
    "                    + w2*w5*d_psi_3(i, degrees, j) + w2*w3*d_psi_5(i, degrees, j) - w2*w2*d_psi_6(i, degrees, j)\n",
    "                   )\n",
    "    return jacob\n",
    "\n",
    "\n"
   ]
  },
  {
   "cell_type": "markdown",
   "metadata": {},
   "source": [
    "## Forward Selection: Model enhancement"
   ]
  },
  {
   "cell_type": "code",
   "execution_count": 530,
   "metadata": {
    "collapsed": false
   },
   "outputs": [],
   "source": [
    "lb = np.full(index.size, -np.inf)\n",
    "ub = np.full(index.size, np.inf)\n",
    "\n",
    "for i in cons_positions:\n",
    "    lb[i] = 0\n",
    "    \n",
    "    "
   ]
  },
  {
   "cell_type": "code",
   "execution_count": 531,
   "metadata": {
    "collapsed": false
   },
   "outputs": [
    {
     "name": "stdout",
     "output_type": "stream",
     "text": [
      "The unconstrained solution is optimal.\n",
      "Final cost 6.1851e+07, first-order optimality 1.94e-11\n",
      "   Iteration        Cost      Cost reduction    Step norm     Optimality   \n",
      "       0         5.1080e+07                                    3.96e+01    \n",
      "       1         5.1077e+07      3.09e+03       2.10e+04       7.57e-11    \n",
      "The first-order optimality measure is less than `tol`.\n",
      "Number of iterations 2, initial cost 5.1080e+07, final cost 5.1077e+07, first-order optimality 7.57e-11.\n",
      "   Iteration        Cost      Cost reduction    Step norm     Optimality   \n",
      "       0         3.8047e+07                                    6.80e+03    \n",
      "       1         3.0259e+07      7.79e+06       4.49e+05       2.23e+02    \n",
      "       2         3.0256e+07      2.85e+03       1.14e+04       4.79e-10    \n",
      "       3         3.0256e+07      0.00e+00       0.00e+00       4.79e-10    \n",
      "The relative change of the cost function is less than `tol`.\n",
      "Number of iterations 4, initial cost 3.8047e+07, final cost 3.0256e+07, first-order optimality 4.79e-10.\n",
      "   Iteration        Cost      Cost reduction    Step norm     Optimality   \n",
      "       0         2.6128e+07                                    2.58e+03    \n",
      "       1         2.5043e+07      1.09e+06       4.14e+06       5.38e+02    \n",
      "       2         2.5038e+07      4.72e+03       3.25e+05       8.41e-10    \n",
      "       3         2.5038e+07      0.00e+00       0.00e+00       8.41e-10    \n",
      "The relative change of the cost function is less than `tol`.\n",
      "Number of iterations 4, initial cost 2.6128e+07, final cost 2.5038e+07, first-order optimality 8.41e-10.\n",
      "   Iteration        Cost      Cost reduction    Step norm     Optimality   \n",
      "       0         1.1558e+08                                    6.39e+03    \n",
      "       1         1.4534e+07      1.01e+08       2.83e+07       4.61e-10    \n",
      "       2         1.4534e+07      0.00e+00       0.00e+00       4.61e-10    \n",
      "The relative change of the cost function is less than `tol`.\n",
      "Number of iterations 3, initial cost 1.1558e+08, final cost 1.4534e+07, first-order optimality 4.61e-10.\n",
      "   Iteration        Cost      Cost reduction    Step norm     Optimality   \n",
      "       0         5.3901e+07                                    6.10e+03    \n",
      "       1         7.5354e+06      4.64e+07       1.77e+11       2.26e+01    \n",
      "       2         7.5314e+06      3.99e+03       1.49e+09       1.84e-08    \n",
      "       3         7.5314e+06      0.00e+00       0.00e+00       1.84e-08    \n",
      "The relative change of the cost function is less than `tol`.\n",
      "Number of iterations 4, initial cost 5.3901e+07, final cost 7.5314e+06, first-order optimality 1.84e-08.\n",
      "   Iteration        Cost      Cost reduction    Step norm     Optimality   \n",
      "       0         3.0411e+08                                    1.30e+05    \n",
      "       1         1.2884e+07      2.91e+08       3.29e+10       9.65e+02    \n",
      "       2         4.8313e+06      8.05e+06       5.13e+10       1.76e+03    \n",
      "       3         4.7573e+06      7.40e+04       9.85e+09       8.01e-08    \n",
      "       4         4.7573e+06      0.00e+00       0.00e+00       8.01e-08    \n",
      "The relative change of the cost function is less than `tol`.\n",
      "Number of iterations 5, initial cost 3.0411e+08, final cost 4.7573e+06, first-order optimality 8.01e-08.\n",
      "   Iteration        Cost      Cost reduction    Step norm     Optimality   \n",
      "       0         2.0060e+08                                    1.29e+05    \n",
      "       1         4.2659e+06      1.96e+08       8.38e+12       4.25e+02    \n",
      "       2         1.9756e+06      2.29e+06       3.19e+12       9.51e+02    \n",
      "       3         1.9496e+06      2.60e+04       1.19e+12       1.34e+01    \n",
      "       4         1.9496e+06      2.83e+01       9.22e+10       3.88e+00    \n",
      "       5         1.9484e+06      1.20e+03       1.03e+10       3.82e+00    \n",
      "       6         1.9392e+06      9.13e+03       1.32e+12       1.11e-07    \n",
      "       7         1.9392e+06      0.00e+00       0.00e+00       1.11e-07    \n",
      "The relative change of the cost function is less than `tol`.\n",
      "Number of iterations 8, initial cost 2.0060e+08, final cost 1.9392e+06, first-order optimality 1.11e-07.\n",
      "   Iteration        Cost      Cost reduction    Step norm     Optimality   \n",
      "       0         3.3548e+08                                    9.99e+04    \n",
      "       1         6.8574e+06      3.29e+08       6.21e+12       8.09e+02    \n",
      "       2         1.2075e+06      5.65e+06       9.25e+12       3.18e+02    \n",
      "       3         1.2017e+06      5.85e+03       4.85e+11       5.46e-08    \n",
      "       4         1.2017e+06      0.00e+00       0.00e+00       5.46e-08    \n",
      "The relative change of the cost function is less than `tol`.\n",
      "Number of iterations 5, initial cost 3.3548e+08, final cost 1.2017e+06, first-order optimality 5.46e-08.\n",
      "   Iteration        Cost      Cost reduction    Step norm     Optimality   \n",
      "       0         2.1912e+08                                    1.17e+05    \n",
      "       1         3.4383e+06      2.16e+08       7.02e+15       5.82e+02    \n",
      "       2         4.4408e+05      2.99e+06       8.62e+16       1.35e+02    \n",
      "       3         4.4173e+05      2.35e+03       4.60e+16       6.31e+01    \n",
      "       4         4.5228e+05      -1.05e+04      4.00e+16       5.24e-05    \n",
      "The relative change of the cost function is less than `tol`.\n",
      "Number of iterations 5, initial cost 2.1912e+08, final cost 4.5228e+05, first-order optimality 5.24e-05.\n",
      "   Iteration        Cost      Cost reduction    Step norm     Optimality   \n",
      "       0         7.3369e+08                                    1.14e+05    \n",
      "       1         1.3039e+07      7.21e+08       8.58e+15       2.79e+04    \n",
      "       2         4.3150e+05      1.26e+07       6.17e+15       1.11e+02    \n",
      "       3         2.6260e+05      1.69e+05       2.20e+16       4.94e+01    \n",
      "       4         2.6294e+05      -3.39e+02      2.06e+16       3.21e+00    \n",
      "The relative change of the cost function is less than `tol`.\n",
      "Number of iterations 5, initial cost 7.3369e+08, final cost 2.6294e+05, first-order optimality 3.21e+00.\n",
      "   Iteration        Cost      Cost reduction    Step norm     Optimality   \n",
      "       0         1.9983e+08                                    6.89e+04    \n",
      "       1         1.0242e+07      1.90e+08       8.32e+15       2.92e+04    \n",
      "       2         2.7509e+05      9.97e+06       8.00e+15       1.04e+02    \n",
      "       3         1.2542e+05      1.50e+05       6.80e+16       6.57e+01    \n",
      "       4         1.2512e+05      2.98e+02       4.03e+16       2.67e+01    \n",
      "       5         1.2512e+05      0.00e+00       0.00e+00       2.67e+01    \n",
      "The relative change of the cost function is less than `tol`.\n",
      "Number of iterations 6, initial cost 1.9983e+08, final cost 1.2512e+05, first-order optimality 2.67e+01.\n",
      "   Iteration        Cost      Cost reduction    Step norm     Optimality   \n",
      "       0         5.1845e+09                                    1.71e+05    \n",
      "       1         4.2364e+06      5.18e+09       1.11e+16       1.04e+04    \n",
      "       2         1.3858e+05      4.10e+06       9.40e+15       7.20e+01    \n",
      "       3         1.0257e+05      3.60e+04       5.69e+16       1.43e+02    \n",
      "       4         1.0238e+05      1.99e+02       5.69e+16       2.70e-02    \n",
      "       5         5.6280e+04      4.61e+04       1.06e+16       1.75e-01    \n",
      "       6         5.6428e+04      -1.48e+02      5.19e+14       6.03e-03    \n",
      "The relative change of the cost function is less than `tol`.\n",
      "Number of iterations 7, initial cost 5.1845e+09, final cost 5.6428e+04, first-order optimality 6.03e-03.\n",
      "   Iteration        Cost      Cost reduction    Step norm     Optimality   \n",
      "       0         1.4017e+09                                    8.99e+04    \n",
      "       1         3.0816e+06      1.40e+09       1.46e+16       5.97e+02    \n",
      "       2         7.6861e+04      3.00e+06       5.99e+16       5.63e+01    \n",
      "       3         7.2218e+04      4.64e+03       1.94e+16       3.81e+01    \n",
      "       4         2.6680e+04      4.55e+04       2.72e+16       1.46e+01    \n",
      "       5         2.6680e+04      1.20e-09       2.75e+00       1.46e+01    \n",
      "The relative change of the cost function is less than `tol`.\n",
      "Number of iterations 6, initial cost 1.4017e+09, final cost 2.6680e+04, first-order optimality 1.46e+01.\n",
      "   Iteration        Cost      Cost reduction    Step norm     Optimality   \n",
      "       0         8.3604e+09                                    6.18e+05    \n",
      "       1         3.8504e+06      8.36e+09       6.23e+15       1.12e+04    \n",
      "       2         1.3067e+05      3.72e+06       7.03e+15       1.24e+03    \n",
      "       3         2.1957e+04      1.09e+05       2.81e+16       3.99e+01    \n",
      "       4         2.0016e+04      1.94e+03       1.43e+16       4.96e+01    \n",
      "       5         1.9767e+04      2.48e+02       1.71e+16       2.29e+01    \n",
      "       6         1.9767e+04      0.00e+00       0.00e+00       2.29e+01    \n",
      "The relative change of the cost function is less than `tol`.\n",
      "Number of iterations 7, initial cost 8.3604e+09, final cost 1.9767e+04, first-order optimality 2.29e+01.\n",
      "   Iteration        Cost      Cost reduction    Step norm     Optimality   \n",
      "       0         1.4842e+10                                    8.42e+05    \n",
      "       1         2.1543e+06      1.48e+10       8.26e+15       1.03e+04    \n",
      "       2         5.6870e+04      2.10e+06       1.03e+16       6.02e+01    \n",
      "       3         1.7910e+04      3.90e+04       2.04e+16       5.83e+01    \n",
      "       4         1.8168e+04      -2.58e+02      1.27e+16       2.06e+01    \n",
      "The relative change of the cost function is less than `tol`.\n",
      "Number of iterations 5, initial cost 1.4842e+10, final cost 1.8168e+04, first-order optimality 2.06e+01.\n",
      "   Iteration        Cost      Cost reduction    Step norm     Optimality   \n",
      "       0         9.4105e+09                                    7.59e+04    \n",
      "       1         1.6524e+06      9.41e+09       6.44e+15       3.92e+03    \n",
      "       2         2.4048e+05      1.41e+06       1.57e+16       1.20e+02    \n",
      "       3         1.2597e+04      2.28e+05       1.00e+16       3.03e+01    \n",
      "       4         1.3019e+04      -4.22e+02      1.24e+16       1.01e+01    \n",
      "The relative change of the cost function is less than `tol`.\n",
      "Number of iterations 5, initial cost 9.4105e+09, final cost 1.3019e+04, first-order optimality 1.01e+01.\n",
      "   Iteration        Cost      Cost reduction    Step norm     Optimality   \n",
      "       0         5.3468e+10                                    1.50e+06    \n",
      "       1         7.7208e+06      5.35e+10       1.05e+16       7.55e+03    \n",
      "       2         5.4945e+04      7.67e+06       5.98e+15       1.11e+02    \n",
      "       3         5.6497e+03      4.93e+04       6.61e+15       1.28e+01    \n",
      "       4         8.2005e+03      -2.55e+03      6.79e+15       3.85e+01    \n",
      "The relative change of the cost function is less than `tol`.\n",
      "Number of iterations 5, initial cost 5.3468e+10, final cost 8.2005e+03, first-order optimality 3.85e+01.\n"
     ]
    }
   ],
   "source": [
    "res_forward = [0 for i in range(key.size)]\n",
    "cost_forward = [0 for i in range(key.size)]\n",
    "\n",
    "\n",
    "for i in range(key.size):\n",
    "    testlist = range(3,key[i])\n",
    "    res_forward[i] = lsq_linear(Wtensor[:,index[testlist]], hs_vec_b, \\\n",
    "                          bounds=(lb[testlist], ub[testlist]), \\\n",
    "                          method='bvls', lsmr_tol='auto', max_iter=10000, verbose=2)\n",
    "    cost_forward[i] = res_forward[i].cost"
   ]
  },
  {
   "cell_type": "code",
   "execution_count": 532,
   "metadata": {
    "collapsed": false
   },
   "outputs": [
    {
     "data": {
      "image/png": "[encoded data removed]",
      "text/plain": [
       "<matplotlib.figure.Figure at 0x12bcd3898>"
      ]
     },
     "metadata": {},
     "output_type": "display_data"
    }
   ],
   "source": [
    "plt.plot(key, cost_forward/cost_forward[0],'ro',markerfacecolor='white')\n",
    "plt.axis([0, key.max(), 0, 1.05])\n",
    "plt.savefig('forwardselectionresult.png',dpi=500,bbox_inches='tight')\n",
    "plt.show()"
   ]
  },
  {
   "cell_type": "code",
   "execution_count": 533,
   "metadata": {
    "collapsed": false
   },
   "outputs": [
    {
     "data": {
      "image/png": "[encoded data removed]",
      "text/plain": [
       "<matplotlib.figure.Figure at 0x11bb299b0>"
      ]
     },
     "metadata": {},
     "output_type": "display_data"
    }
   ],
   "source": [
    "plt.plot(key, cost_forward/cost_forward[0],'ro',markerfacecolor='white')\n",
    "plt.axis([0, key.max(), 0, 0.1])\n",
    "plt.savefig('forwardselectionzoomed.png',dpi=500,bbox_inches='tight')\n",
    "plt.show()"
   ]
  },
  {
   "cell_type": "code",
   "execution_count": 534,
   "metadata": {
    "collapsed": false
   },
   "outputs": [
    {
     "data": {
      "text/plain": [
       "array([  7,  18,  20,  32,  35,  75,  77, 108, 111, 196, 198, 256, 259,\n",
       "       405, 407, 500, 503, 726])"
      ]
     },
     "execution_count": 534,
     "metadata": {},
     "output_type": "execute_result"
    }
   ],
   "source": [
    "key"
   ]
  },
  {
   "cell_type": "code",
   "execution_count": 535,
   "metadata": {
    "collapsed": false
   },
   "outputs": [
    {
     "data": {
      "text/plain": [
       "198"
      ]
     },
     "execution_count": 535,
     "metadata": {},
     "output_type": "execute_result"
    }
   ],
   "source": [
    "nk = 10\n",
    "key[nk]"
   ]
  },
  {
   "cell_type": "markdown",
   "metadata": {},
   "source": [
    "## Model parameter covariance"
   ]
  },
  {
   "cell_type": "markdown",
   "metadata": {},
   "source": [
    "### Compute the covariance matrix "
   ]
  },
  {
   "cell_type": "code",
   "execution_count": 826,
   "metadata": {
    "collapsed": true
   },
   "outputs": [],
   "source": [
    "CovM = (Wtensor.T).dot(Wtensor)\n",
    "CovM[0,0] = 1.0\n",
    "\n",
    "trace = np.diag(np.divide(1.0, np.sqrt(CovM.diagonal())))\n",
    "\n",
    "corM = trace.dot(CovM).dot(trace)"
   ]
  },
  {
   "cell_type": "markdown",
   "metadata": {},
   "source": [
    "### Parameter fitness"
   ]
  },
  {
   "cell_type": "code",
   "execution_count": 1069,
   "metadata": {
    "collapsed": true
   },
   "outputs": [],
   "source": [
    "max_parm_cor = 0.55"
   ]
  },
  {
   "cell_type": "code",
   "execution_count": 1070,
   "metadata": {
    "collapsed": true
   },
   "outputs": [],
   "source": [
    "def parm_bestfit(i):\n",
    "    return (Wvector.dot(Wtensor[:,i]))/(Wtensor[:,i].dot(Wtensor[:,i]))\n",
    "\n",
    "########################################\n",
    "\n",
    "\n",
    "# def parm_fitness(i):\n",
    "#     bval = parm_bestfit(i)\n",
    "#     eps = bval*Wtensor[:,i] - Wvector\n",
    "#     return (eps.dot(eps))/(Wvector.dot(Wvector))\n",
    "\n",
    "########################################\n",
    "\n",
    "def parm_fitness(i):\n",
    "    bval = parm_bestfit(i)\n",
    "    eps = bval*Wtensor[:,i] - hs_vec_b\n",
    "    return (eps.dot(eps))/(hs_vec_b.dot(hs_vec_b))"
   ]
  },
  {
   "cell_type": "code",
   "execution_count": 1071,
   "metadata": {
    "collapsed": false
   },
   "outputs": [
    {
     "name": "stdout",
     "output_type": "stream",
     "text": [
      "24\n"
     ]
    }
   ],
   "source": [
    "bestset = np.zeros(key.max())\n",
    "for i in np.arange(7,key.max()):\n",
    "    testvec = np.array(np.where(np.abs(corM[index[i],index]) > max_parm_cor)[0])\n",
    "    testval = np.array([parm_fitness(i) for i in testvec])\n",
    "    bestset[i] = testvec[ testval == testval.min()]\n",
    "\n",
    "    \n",
    "setunion = np.union1d(bestset,bestset[7:10])\n",
    "setunion = setunion.astype(int)\n",
    "setunion = np.setdiff1d(setunion, [0,1,2,3,4,5,6])\n",
    "print(setunion.size)"
   ]
  },
  {
   "cell_type": "code",
   "execution_count": 1075,
   "metadata": {
    "collapsed": false,
    "scrolled": true
   },
   "outputs": [
    {
     "name": "stdout",
     "output_type": "stream",
     "text": [
      "(2, 0, 2)\n",
      "(3, 0, 0)\n",
      "(0, 3, 0)\n",
      "(2, 3, 0)\n",
      "(0, 3, 2)\n",
      "(2, 3, 2)\n",
      "(3, 3, 2)\n",
      "(4, 0, 0)\n",
      "(1, 4, 0)\n",
      "(1, 0, 4)\n",
      "(2, 0, 4)\n",
      "(1, 1, 4)\n",
      "(3, 4, 0)\n",
      "(3, 0, 4)\n",
      "(2, 1, 4)\n",
      "(4, 4, 0)\n",
      "(4, 2, 2)\n",
      "(1, 3, 4)\n",
      "(4, 1, 4)\n",
      "(6, 1, 2)\n",
      "(7, 1, 0)\n",
      "(7, 0, 4)\n",
      "(8, 0, 2)\n",
      "(6, 7, 8)\n"
     ]
    }
   ],
   "source": [
    "for i in setunion:\n",
    "    print(find_index(10, index[i]))"
   ]
  },
  {
   "cell_type": "code",
   "execution_count": 1076,
   "metadata": {
    "collapsed": true
   },
   "outputs": [],
   "source": [
    "model_exp = setunion"
   ]
  },
  {
   "cell_type": "markdown",
   "metadata": {},
   "source": [
    "## Backwards Elimination: Model refinement"
   ]
  },
  {
   "cell_type": "code",
   "execution_count": 1077,
   "metadata": {
    "collapsed": true
   },
   "outputs": [],
   "source": [
    "def obj_f(const, degrees):\n",
    "#     sse = np.log(np.abs(Wtensor[:,degrees].dot(const) - Wvector) + 1)\n",
    "    sse = Wtensor[:,degrees].dot(const) - hs_vec_b\n",
    "    return np.dot(sse,sse)\n",
    "\n",
    "\n",
    "\n",
    "\n",
    "def obj_f_jac(const, degrees):\n",
    "    jac = np.zeros(degrees.size)\n",
    "    for i in range(degrees.size):\n",
    "        jac[i] = 2*((Wtensor[:,degrees].dot(const) - hs_vec_b).dot(Wtensor[:,degrees[i]]))\n",
    "    return jac"
   ]
  },
  {
   "cell_type": "code",
   "execution_count": 1078,
   "metadata": {
    "collapsed": false
   },
   "outputs": [],
   "source": [
    "def f(x, grad):\n",
    "    if grad.size > 0:\n",
    "        global model_exp\n",
    "        grad[:] = obj_f_jac(x, index[model_exp])\n",
    "        return obj_f(x, index[model_exp])\n",
    "\n",
    "    \n",
    "def c(result, x, grad):\n",
    "    if grad.size > 0:\n",
    "        global model_exp\n",
    "        for i in range(ncons):\n",
    "            result[3*i] = -constraint1(i, index[model_exp], x)\n",
    "            result[3*i + 1] = -constraint4(i, index[model_exp], x)\n",
    "            result[3*i + 2] = -constraint7(i, index[model_exp], x)\n",
    "            grad[3*i,:] = -cons1_jac(i, index[model_exp], x)\n",
    "            grad[3*i + 1,:] = -cons4_jac(i, index[model_exp], x)\n",
    "            grad[3*i + 2,:] = -cons7_jac(i, index[model_exp], x)\n",
    "    return 0\n",
    "                 \n",
    "            "
   ]
  },
  {
   "cell_type": "code",
   "execution_count": 1156,
   "metadata": {
    "collapsed": true
   },
   "outputs": [],
   "source": [
    "del opt"
   ]
  },
  {
   "cell_type": "code",
   "execution_count": 1157,
   "metadata": {
    "collapsed": true
   },
   "outputs": [],
   "source": [
    "lb = np.full(index.size, -10.0e-10)\n",
    "ub = np.full(index.size, -10.0e-10)\n",
    "\n",
    "for i in cons_positions:\n",
    "    lb[i] = 0"
   ]
  },
  {
   "cell_type": "code",
   "execution_count": 1158,
   "metadata": {
    "collapsed": false
   },
   "outputs": [],
   "source": [
    "opt = nlopt.opt(nlopt.LD_MMA, model_exp.size)\n",
    "# opt = nlopt.opt(nlopt.GN_ISRES, model_exp.size)\n",
    "opt.set_min_objective(f)\n",
    "\n",
    "opt.set_lower_bounds(lb[index[model_exp]])\n",
    "opt.set_upper_bounds(ub[index[model_exp]])\n",
    "\n",
    "opt.set_ftol_rel(1.0e-6)\n",
    "opt.set_ftol_abs(0)\n",
    "opt.set_xtol_rel(0)\n",
    "opt.set_xtol_abs(0)\n",
    "\n",
    "opt.set_maxeval(100)\n",
    "opt.set_maxtime(900)\n",
    "\n",
    "# opt.add_inequality_mconstraint(c, np.full(3*ncons, 1.0e-14))\n",
    "# opt.remove_inequality_mconstraint()"
   ]
  },
  {
   "cell_type": "code",
   "execution_count": 1159,
   "metadata": {
    "collapsed": true
   },
   "outputs": [],
   "source": [
    "# ig = np.zeros(model_exp.size)\n",
    "temp_sol = inv((Wtensor[:,index[model_exp]].T).dot(Wtensor[:,index[model_exp]])).dot(Wtensor[:,index[model_exp]].T).dot(hs_vec_b)\n",
    "# ig = np.sqrt(temp_sol.clip(min=0, max = 1000))\n",
    "ig = temp_sol.clip(min=0)\n",
    "# ig = np.zeros(model_exp.size)"
   ]
  },
  {
   "cell_type": "code",
   "execution_count": 1160,
   "metadata": {
    "collapsed": false
   },
   "outputs": [],
   "source": [
    "testgrad = np.zeros(model_exp.size)"
   ]
  },
  {
   "cell_type": "code",
   "execution_count": 1163,
   "metadata": {
    "collapsed": false,
    "scrolled": true
   },
   "outputs": [
    {
     "ename": "ValueError",
     "evalue": "nlopt invalid argument",
     "output_type": "error",
     "traceback": [
      "\u001b[0;31m---------------------------------------------------------------------------\u001b[0m",
      "\u001b[0;31mValueError\u001b[0m                                Traceback (most recent call last)",
      "\u001b[0;32m<ipython-input-1163-bd6daed9739f>\u001b[0m in \u001b[0;36m<module>\u001b[0;34m()\u001b[0m\n\u001b[0;32m----> 1\u001b[0;31m \u001b[0mxopt\u001b[0m \u001b[0;34m=\u001b[0m \u001b[0mopt\u001b[0m\u001b[0;34m.\u001b[0m\u001b[0moptimize\u001b[0m\u001b[0;34m(\u001b[0m\u001b[0mig\u001b[0m\u001b[0;34m)\u001b[0m\u001b[0;34m\u001b[0m\u001b[0m\n\u001b[0m",
      "\u001b[0;32m/Users/willwiz/anaconda/lib/python3.5/site-packages/nlopt.py\u001b[0m in \u001b[0;36moptimize\u001b[0;34m(self, *args)\u001b[0m\n\u001b[1;32m    258\u001b[0m         \u001b[0;32mtry\u001b[0m\u001b[0;34m:\u001b[0m \u001b[0mself\u001b[0m\u001b[0;34m.\u001b[0m\u001b[0mthis\u001b[0m\u001b[0;34m.\u001b[0m\u001b[0mappend\u001b[0m\u001b[0;34m(\u001b[0m\u001b[0mthis\u001b[0m\u001b[0;34m)\u001b[0m\u001b[0;34m\u001b[0m\u001b[0m\n\u001b[1;32m    259\u001b[0m         \u001b[0;32mexcept\u001b[0m\u001b[0;34m:\u001b[0m \u001b[0mself\u001b[0m\u001b[0;34m.\u001b[0m\u001b[0mthis\u001b[0m \u001b[0;34m=\u001b[0m \u001b[0mthis\u001b[0m\u001b[0;34m\u001b[0m\u001b[0m\n\u001b[0;32m--> 260\u001b[0;31m     \u001b[0;32mdef\u001b[0m \u001b[0moptimize\u001b[0m\u001b[0;34m(\u001b[0m\u001b[0mself\u001b[0m\u001b[0;34m,\u001b[0m \u001b[0;34m*\u001b[0m\u001b[0margs\u001b[0m\u001b[0;34m)\u001b[0m\u001b[0;34m:\u001b[0m \u001b[0;32mreturn\u001b[0m \u001b[0m_nlopt\u001b[0m\u001b[0;34m.\u001b[0m\u001b[0mopt_optimize\u001b[0m\u001b[0;34m(\u001b[0m\u001b[0mself\u001b[0m\u001b[0;34m,\u001b[0m \u001b[0;34m*\u001b[0m\u001b[0margs\u001b[0m\u001b[0;34m)\u001b[0m\u001b[0;34m\u001b[0m\u001b[0m\n\u001b[0m\u001b[1;32m    261\u001b[0m     \u001b[0;32mdef\u001b[0m \u001b[0mlast_optimize_result\u001b[0m\u001b[0;34m(\u001b[0m\u001b[0mself\u001b[0m\u001b[0;34m)\u001b[0m\u001b[0;34m:\u001b[0m \u001b[0;32mreturn\u001b[0m \u001b[0m_nlopt\u001b[0m\u001b[0;34m.\u001b[0m\u001b[0mopt_last_optimize_result\u001b[0m\u001b[0;34m(\u001b[0m\u001b[0mself\u001b[0m\u001b[0;34m)\u001b[0m\u001b[0;34m\u001b[0m\u001b[0m\n\u001b[1;32m    262\u001b[0m     \u001b[0;32mdef\u001b[0m \u001b[0mlast_optimum_value\u001b[0m\u001b[0;34m(\u001b[0m\u001b[0mself\u001b[0m\u001b[0;34m)\u001b[0m\u001b[0;34m:\u001b[0m \u001b[0;32mreturn\u001b[0m \u001b[0m_nlopt\u001b[0m\u001b[0;34m.\u001b[0m\u001b[0mopt_last_optimum_value\u001b[0m\u001b[0;34m(\u001b[0m\u001b[0mself\u001b[0m\u001b[0;34m)\u001b[0m\u001b[0;34m\u001b[0m\u001b[0m\n",
      "\u001b[0;31mValueError\u001b[0m: nlopt invalid argument"
     ]
    }
   ],
   "source": [
    "xopt = opt.optimize(ig)"
   ]
  },
  {
   "cell_type": "code",
   "execution_count": 1133,
   "metadata": {
    "collapsed": false,
    "scrolled": false
   },
   "outputs": [
    {
     "name": "stdout",
     "output_type": "stream",
     "text": [
      "[  7.91392027e+03   4.17906958e+03   3.27872515e+03   3.84676221e+04\n",
      "   1.01877503e+04   3.42494254e+06   1.02468203e+08   1.38919290e+04\n",
      "  -6.98021047e+04  -2.06720362e+04   4.09144970e+05  -6.19456514e+04\n",
      "   1.39481524e+06   8.59242975e+05   4.21965471e+06   3.52828784e+07\n",
      "   7.18181268e+07  -1.89925818e+05  -1.32978370e+05   5.94249977e+08\n",
      "   7.62955477e+05   6.43961698e+09   2.72233037e+09   2.37984605e+16]\n",
      "5\n",
      "137611796.03163126\n"
     ]
    }
   ],
   "source": [
    "print(xopt)\n",
    "print(opt.last_optimize_result())\n",
    "print(opt.last_optimum_value())"
   ]
  },
  {
   "cell_type": "code",
   "execution_count": 1100,
   "metadata": {
    "collapsed": false,
    "scrolled": true
   },
   "outputs": [
    {
     "data": {
      "text/plain": [
       "72403923.353728548"
      ]
     },
     "execution_count": 1100,
     "metadata": {},
     "output_type": "execute_result"
    }
   ],
   "source": [
    "f(ig, testgrad)"
   ]
  },
  {
   "cell_type": "code",
   "execution_count": 1101,
   "metadata": {
    "collapsed": false
   },
   "outputs": [
    {
     "data": {
      "text/plain": [
       "42201396.267439261"
      ]
     },
     "execution_count": 1101,
     "metadata": {},
     "output_type": "execute_result"
    }
   ],
   "source": [
    "f(xopt, testgrad)"
   ]
  },
  {
   "cell_type": "code",
   "execution_count": 1102,
   "metadata": {
    "collapsed": false
   },
   "outputs": [
    {
     "data": {
      "text/plain": [
       "42199214.127890594"
      ]
     },
     "execution_count": 1102,
     "metadata": {},
     "output_type": "execute_result"
    }
   ],
   "source": [
    "f(temp_sol, testgrad)"
   ]
  },
  {
   "cell_type": "code",
   "execution_count": 1164,
   "metadata": {
    "collapsed": false,
    "scrolled": true
   },
   "outputs": [
    {
     "name": "stdout",
     "output_type": "stream",
     "text": [
      "  NIT    FC           OBJFUN            GNORM\n",
      "    1    26     7.240392E+07     4.702658E+03\n",
      "    2    53     7.102262E+07     1.233604E+03\n",
      "    3    79     6.955601E+07     1.181316E+03\n",
      "    4   105     6.217979E+07     1.261684E+03\n",
      "    5   131     5.330542E+07     7.676681E+02\n",
      "    6   157     5.309674E+07     2.130464E+02\n",
      "    7   183     5.305333E+07     2.076511E+02\n",
      "    8   209     5.281289E+07     1.952524E+02\n",
      "    9   235     5.189257E+07     1.384765E+02\n",
      "   10   261     5.108483E+07     1.279414E+02\n",
      "   11   287     5.106864E+07     1.266027E+02\n",
      "   12   313     5.098427E+07     1.288342E+02\n",
      "   13   339     5.054201E+07     1.199396E+02\n",
      "   14   365     4.905119E+07     8.622210E+01\n",
      "   15   391     4.841541E+07     9.831963E+01\n",
      "   16   417     4.840438E+07     9.825350E+01\n",
      "   17   443     4.833940E+07     1.040793E+02\n",
      "   18   469     4.814885E+07     1.238305E+02\n",
      "   19   495     4.777961E+07     1.591336E+02\n",
      "   20   521     4.724035E+07     1.686179E+02\n",
      "   21   547     4.663709E+07     1.203651E+02\n",
      "   22   573     4.640323E+07     4.990992E+01\n",
      "   23   599     4.636311E+07     2.524876E+01\n",
      "   24   625     4.636003E+07     2.378024E+01\n",
      "   25   651     4.635926E+07     2.396873E+01\n",
      "   26   678     4.635864E+07     2.428477E+01\n",
      "   27   704     4.635699E+07     2.477902E+01\n",
      "   28   730     4.634572E+07     2.332917E+01\n",
      "   29   756     4.629878E+07     1.731329E+01\n",
      "   30   782     4.627053E+07     1.178983E+01\n",
      "   31   808     4.626727E+07     1.071214E+01\n",
      "   32   834     4.626261E+07     9.394147E+00\n",
      "   33   860     4.626126E+07     7.193747E+00\n",
      "   34   886     4.626098E+07     7.365460E+00\n",
      "   35   912     4.626083E+07     8.276473E+00\n",
      "   36   948     4.626083E+07     7.599342E+00\n",
      "   37   975     4.626069E+07     8.944272E+00\n",
      "   38  1001     4.626047E+07     7.331439E+00\n",
      "   39  1027     4.626002E+07     7.905694E+00\n",
      "   40  1054     4.625982E+07     8.760708E+00\n",
      "   41  1080     4.625973E+07     8.170067E+00\n",
      "   42  1106     4.625953E+07     1.065364E+01\n",
      "   43  1132     4.625895E+07     1.051190E+01\n",
      "   44  1158     4.625530E+07     1.054751E+01\n",
      "   45  1184     4.624876E+07     8.732125E+00\n",
      "   46  1210     4.624499E+07     1.145644E+01\n",
      "   47  1236     4.624361E+07     1.402676E+01\n",
      "   48  1262     4.624190E+07     1.299038E+01\n",
      "   49  1288     4.624027E+07     1.151086E+01\n",
      "   50  1315     4.623891E+07     1.191638E+01\n",
      "   51  1341     4.623850E+07     1.170470E+01\n",
      "   52  1368     4.623810E+07     1.325707E+01\n",
      "   53  1394     4.623784E+07     1.215525E+01\n",
      "   54  1422     4.623768E+07     1.080509E+01\n",
      "   55  1448     4.623745E+07     1.148913E+01\n",
      "   56  1474     4.623678E+07     2.018663E+01\n",
      "   57  1500     4.623609E+07     1.453444E+01\n",
      "   58  1526     4.623476E+07     1.452584E+01\n",
      "   59  1552     4.623396E+07     1.171537E+01\n",
      "   60  1579     4.622923E+07     2.969007E+01\n",
      "   61  1605     4.622571E+07     1.589811E+01\n",
      "   62  1631     4.621883E+07     7.648529E+01\n",
      "   63  1657     4.621059E+07     5.900847E+01\n",
      "   64  1683     4.618751E+07     2.027313E+01\n",
      "   65  1709     4.616493E+07     3.142849E+01\n",
      "   66  1735     4.612288E+07     4.977700E+01\n",
      "   67  1762     4.606146E+07     1.022827E+02\n",
      "   68  1788     4.602134E+07     8.533610E+01\n",
      "   69  1814     4.594707E+07     2.467793E+01\n",
      "   70  1840     4.592126E+07     2.331845E+01\n",
      "   71  1866     4.590572E+07     4.337914E+01\n",
      "   72  1892     4.589802E+07     3.144042E+01\n",
      "   73  1921     4.589774E+07     3.023243E+01\n",
      "   74  1947     4.589664E+07     3.033974E+01\n",
      "   75  1973     4.589260E+07     3.370460E+01\n",
      "   76  1999     4.589104E+07     3.838294E+01\n",
      "   77  2025     4.588669E+07     3.872661E+01\n",
      "   78  2051     4.588042E+07     4.071548E+01\n",
      "   79  2077     4.587828E+07     3.808215E+01\n",
      "   80  2104     4.587716E+07     3.586084E+01\n",
      "   81  2130     4.587652E+07     3.443835E+01\n",
      "   82  2156     4.587360E+07     3.834710E+01\n",
      "   83  2182     4.586755E+07     4.199107E+01\n",
      "   84  2208     4.583703E+07     4.794789E+01\n",
      "   85  2234     4.581234E+07     3.391902E+01\n",
      "   86  2260     4.576122E+07     3.010399E+01\n",
      "   87  2286     4.575175E+07     1.292285E+01\n",
      "   88  2313     4.573777E+07     3.243070E+01\n",
      "   89  2339     4.573577E+07     1.274755E+01\n",
      "   90  2365     4.573396E+07     1.721918E+01\n",
      "   91  2391     4.573376E+07     1.061838E+01\n",
      "   92  2417     4.573267E+07     1.221679E+01\n",
      "   93  2444     4.573222E+07     2.990401E+01\n",
      "   94  2470     4.573136E+07     9.500000E+00\n",
      "   95  2497     4.573028E+07     5.313897E+01\n",
      "   96  2533     4.573028E+07     5.442656E+01\n",
      "   97  2559     4.572954E+07     5.202644E+01\n",
      "   98  2586     4.572840E+07     4.768123E+01\n",
      "   99  2612     4.572794E+07     1.708801E+01\n",
      "  100  2640     4.572782E+07     5.172040E+00\n",
      "  101  2669     4.572780E+07     7.810250E+00\n",
      "  102  2695     4.572772E+07     1.030776E+01\n",
      "  103  2721     4.572768E+07     4.031129E+00\n",
      "  104  2757     4.572768E+07     4.472136E+00\n",
      "  105  2788     4.572768E+07     4.153312E+00\n",
      "  106  2824     4.572768E+07     4.769696E+00\n",
      "  107  2860     4.572768E+07     3.278719E+00\n",
      "  108  2886     4.572766E+07     4.123106E+00\n",
      "  109  2914     4.572765E+07     4.743416E+00\n",
      "  110  2940     4.572764E+07     3.708099E+00\n",
      "  111  2966     4.572762E+07     3.968627E+00\n",
      "  112  2992     4.572760E+07     4.415880E+00\n",
      "  113  3019     4.572755E+07     8.200610E+00\n",
      "  114  3045     4.572751E+07     4.272002E+00\n",
      "  115  3071     4.572739E+07     5.590170E+00\n",
      "  116  3098     4.572705E+07     3.916631E+01\n",
      "  117  3124     4.572697E+07     4.553296E+01\n",
      "  118  3150     4.572662E+07     2.887906E+01\n",
      "  119  3176     4.572623E+07     2.243881E+01\n",
      "  120  3205     4.572623E+07     2.004370E+01\n",
      "  121  3232     4.572620E+07     6.284903E+00\n",
      "  122  3258     4.572618E+07     1.494155E+01\n",
      "  123  3284     4.572613E+07     1.246996E+01\n",
      "  124  3310     4.572539E+07     3.650000E+01\n",
      "  125  3336     4.572472E+07     5.570458E+01\n",
      "  126  3362     4.572443E+07     2.733130E+01\n",
      "  127  3388     4.572422E+07     9.447222E+00\n",
      "  128  3415     4.572419E+07     2.171405E+01\n",
      "  129  3441     4.572407E+07     1.752142E+01\n",
      "  130  3467     4.572391E+07     8.200610E+00\n",
      "  131  3493     4.572382E+07     1.304799E+01\n",
      "  132  3519     4.572377E+07     8.336666E+00\n",
      "  133  3546     4.572368E+07     2.485961E+01\n",
      "  134  3572     4.572361E+07     2.155226E+01\n",
      "  135  3598     4.572332E+07     3.059820E+01\n",
      "  136  3624     4.572305E+07     2.804906E+01\n",
      "  137  3650     4.572288E+07     1.009950E+01\n",
      "  138  3676     4.572273E+07     5.123475E+00\n",
      "  139  3702     4.572267E+07     5.024938E+00\n",
      "  140  3729     4.572254E+07     1.432655E+01\n",
      "  141  3755     4.572240E+07     1.205197E+01\n",
      "  142  3781     4.572195E+07     7.314369E+00\n",
      "  143  3808     4.572187E+07     8.336666E+00\n",
      "  144  3834     4.572175E+07     5.700877E+00\n",
      "  145  3860     4.572154E+07     7.762087E+00\n",
      "  146  3886     4.572113E+07     1.946792E+01\n",
      "  147  3912     4.572102E+07     8.154753E+00\n",
      "  148  3938     4.572099E+07     7.280110E+00\n",
      "  149  3965     4.572098E+07     1.139079E+01\n",
      "  150  3991     4.572096E+07     7.314369E+00\n",
      "  151  4017     4.572095E+07     7.211103E+00\n",
      "  152  4044     4.572094E+07     6.614378E+00\n",
      "  153  4070     4.572091E+07     7.176350E+00\n",
      "  154  4096     4.572078E+07     1.293252E+01\n",
      "  155  4122     4.572062E+07     1.570828E+01\n",
      "  156  4148     4.571976E+07     1.663580E+01\n",
      "  157  4174     4.571897E+07     1.035616E+01\n",
      "  158  4200     4.571867E+07     7.000000E+00\n",
      "  159  4226     4.571856E+07     8.631338E+00\n",
      "  160  4253     4.571834E+07     1.257975E+01\n",
      "  161  4289     4.571834E+07     1.203121E+01\n",
      "  162  4315     4.571827E+07     5.000000E+00\n",
      "  163  4341     4.571823E+07     5.338539E+00\n",
      "  164  4368     4.571812E+07     1.664332E+01\n",
      "  165  4394     4.571801E+07     1.607794E+01\n",
      "  166  4420     4.571726E+07     3.618701E+01\n",
      "  167  4446     4.571706E+07     1.262933E+01\n",
      "  168  4473     4.571702E+07     9.460444E+00\n",
      "  169  4499     4.571698E+07     8.200610E+00\n",
      "  170  4525     4.571678E+07     2.982868E+01\n",
      "  171  4551     4.571666E+07     2.336129E+01\n",
      "  172  4580     4.571661E+07     1.785357E+01\n",
      "  173  4606     4.571655E+07     1.359228E+01\n",
      "  174  4632     4.571649E+07     1.201041E+01\n",
      "  175  4658     4.571617E+07     1.027132E+01\n",
      "  176  4684     4.571602E+07     1.270827E+01\n",
      "  177  4710     4.571580E+07     1.144552E+01\n",
      "  178  4736     4.571571E+07     8.986100E+00\n",
      "  179  4764     4.571569E+07     8.587782E+00\n",
      "  180  4790     4.571564E+07     6.284903E+00\n",
      "  181  4816     4.571547E+07     2.956349E+01\n",
      "  182  4842     4.571534E+07     2.775338E+01\n",
      "  183  4868     4.571511E+07     5.916080E+00\n",
      "  184  4894     4.571482E+07     3.481379E+01\n",
      "  185  4921     4.571467E+07     7.316420E+01\n",
      "  186  4947     4.571444E+07     4.282231E+01\n",
      "  187  4973     4.571421E+07     5.873670E+00\n",
      "  188  4999     4.571386E+07     2.776238E+01\n",
      "  189  5025     4.571313E+07     2.665052E+01\n",
      "  190  5051     4.571219E+07     1.115796E+01\n",
      "  191  5078     4.571071E+07     4.623311E+01\n",
      "  192  5107     4.571070E+07     4.248823E+01\n",
      "  193  5133     4.571027E+07     1.801388E+01\n",
      "  194  5159     4.571018E+07     2.380126E+01\n",
      "  195  5185     4.570954E+07     4.750000E+01\n",
      "  196  5211     4.570863E+07     6.373578E+01\n",
      "  197  5237     4.570829E+07     4.143670E+01\n",
      "  198  5263     4.570759E+07     2.211334E+01\n",
      "  199  5290     4.570697E+07     4.882878E+01\n",
      "  200  5316     4.570676E+07     2.717536E+01\n",
      "  201  5342     4.570645E+07     2.073041E+01\n",
      "  202  5368     4.570611E+07     7.296746E+01\n",
      "  203  5394     4.570572E+07     7.597862E+01\n",
      "  204  5420     4.570378E+07     7.284573E+01\n",
      "  205  5446     4.570202E+07     9.327379E+00\n",
      "  206  5472     4.570128E+07     9.233093E+00\n",
      "  207  5498     4.570021E+07     8.440972E+00\n",
      "  208  5524     4.569959E+07     1.543535E+01\n",
      "  209  5550     4.569920E+07     1.534601E+01\n",
      "  210  5576     4.569872E+07     1.680774E+01\n",
      "  211  5603     4.569793E+07     3.486402E+01\n",
      "  212  5629     4.569652E+07     4.489989E+01\n",
      "  213  5655     4.569476E+07     2.076054E+01\n",
      "  214  5681     4.569251E+07     2.561738E+01\n",
      "  215  5707     4.569069E+07     4.595106E+01\n",
      "  216  5733     4.568513E+07     6.162589E+01\n",
      "  217  5759     4.568209E+07     2.744540E+01\n",
      "  218  5787     4.567896E+07     4.608687E+01\n",
      "  219  5814     4.567866E+07     5.648008E+01\n",
      "  220  5840     4.567787E+07     3.338413E+01\n",
      "  221  5866     4.567705E+07     1.092016E+01\n",
      "  222  5892     4.567602E+07     3.080584E+01\n",
      "  223  5918     4.567534E+07     2.600481E+01\n",
      "  224  5944     4.567095E+07     2.764055E+01\n",
      "  225  5970     4.566886E+07     5.916080E+00\n",
      "  226  5997     4.566793E+07     3.488553E+01\n",
      "  227  6023     4.566722E+07     1.104536E+01\n",
      "  228  6049     4.566643E+07     1.990603E+01\n",
      "  229  6077     4.566577E+07     5.807538E+01\n",
      "  230  6103     4.566515E+07     3.729946E+01\n",
      "  231  6129     4.566431E+07     1.585875E+01\n",
      "  232  6155     4.566369E+07     1.541104E+01\n",
      "  233  6181     4.566228E+07     6.062178E+00\n",
      "  234  6217     4.566228E+07     5.894913E+00\n",
      "  235  6244     4.566211E+07     2.010597E+01\n",
      "  236  6271     4.566207E+07     2.650000E+01\n",
      "  237  6297     4.566191E+07     2.034699E+01\n",
      "  238  6323     4.566178E+07     1.023474E+01\n",
      "  239  6349     4.566166E+07     9.013878E+00\n",
      "  240  6375     4.566146E+07     6.782330E+00\n",
      "  241  6401     4.566124E+07     4.898979E+00\n",
      "  242  6427     4.566092E+07     8.426150E+00\n",
      "  243  6453     4.566080E+07     6.184658E+00\n",
      "  244  6480     4.566055E+07     3.274141E+01\n",
      "  245  6506     4.566041E+07     3.312854E+01\n",
      "  246  6533     4.566023E+07     2.391652E+01\n",
      "  247  6559     4.565983E+07     6.500000E+00\n",
      "  248  6585     4.565937E+07     3.662991E+01\n",
      "  249  6611     4.565927E+07     1.908533E+01\n",
      "  250  6639     4.565921E+07     1.546771E+01\n",
      "  251  6665     4.565915E+07     2.115420E+01\n",
      "  252  6691     4.565912E+07     1.417745E+01\n",
      "  253  6718     4.565905E+07     1.811767E+01\n",
      "  254  6744     4.565900E+07     9.096703E+00\n",
      "  255  6770     4.565891E+07     8.986100E+00\n",
      "  256  6796     4.565879E+07     1.438749E+01\n",
      "  257  6823     4.565873E+07     1.754993E+01\n",
      "  258  6849     4.565856E+07     7.664855E+00\n",
      "  259  6875     4.565813E+07     3.605551E+01\n",
      "  260  6901     4.565795E+07     2.857884E+01\n",
      "  261  6928     4.565736E+07     8.485281E+00\n",
      "  262  6954     4.565708E+07     8.381527E+00\n",
      "  263  6981     4.565671E+07     2.335059E+01\n",
      "  264  7007     4.565640E+07     1.197915E+01\n",
      "  265  7033     4.565622E+07     2.362202E+01\n",
      "  266  7059     4.565610E+07     1.228821E+01\n",
      "  267  7085     4.565599E+07     3.323402E+01\n",
      "  268  7111     4.565566E+07     2.142429E+01\n",
      "  269  7137     4.565521E+07     4.222558E+01\n",
      "  270  7163     4.565457E+07     2.212465E+01\n",
      "  271  7190     4.565329E+07     4.295055E+01\n",
      "  272  7216     4.565282E+07     2.045116E+01\n",
      "  273  7242     4.565208E+07     3.965476E+01\n",
      "  274  7268     4.565102E+07     1.413091E+02\n",
      "  275  7294     4.564980E+07     1.954482E+02\n",
      "  276  7322     4.564917E+07     2.199176E+02\n",
      "  277  7348     4.564698E+07     1.281961E+02\n",
      "  278  7374     4.564509E+07     5.073460E+01\n",
      "  279  7400     4.564461E+07     2.711549E+01\n",
      "  280  7427     4.564440E+07     9.420722E+00\n",
      "  281  7453     4.564403E+07     4.500000E+00\n",
      "  282  7480     4.564329E+07     2.352658E+01\n",
      "  283  7506     4.564314E+07     8.470537E+00\n",
      "  284  7534     4.564307E+07     1.152172E+01\n",
      "  285  7560     4.564302E+07     1.011187E+01\n",
      "  286  7589     4.564302E+07     9.460444E+00\n",
      "  287  7615     4.564297E+07     6.461424E+00\n",
      "  288  7642     4.564292E+07     2.951694E+01\n",
      "  289  7668     4.564287E+07     1.337909E+01\n",
      "  290  7694     4.564286E+07     4.444097E+00\n",
      "  291  7720     4.564283E+07     6.480741E+00\n",
      "  292  7746     4.564275E+07     9.420722E+00\n",
      "  293  7773     4.564266E+07     3.243840E+01\n",
      "  294  7799     4.564252E+07     2.180596E+01\n",
      "  295  7825     4.564207E+07     1.971040E+01\n",
      "  296  7851     4.564197E+07     2.135416E+01\n",
      "  297  7877     4.564196E+07     1.554027E+01\n",
      "  298  7905     4.564195E+07     1.364734E+01\n",
      "  299  7931     4.564188E+07     5.267827E+00\n",
      "  300  7958     4.564174E+07     4.462342E+01\n",
      "  301  7984     4.564158E+07     5.564620E+01\n",
      "  302  8010     4.564118E+07     2.979933E+01\n",
      "  303  8036     4.564089E+07     6.576473E+00\n",
      "  304  8062     4.564047E+07     3.681712E+01\n",
      "  305  8088     4.563998E+07     6.757033E+01\n",
      "  306  8114     4.563894E+07     8.726397E+01\n",
      "  307  8141     4.563850E+07     9.644299E+01\n",
      "  308  8167     4.563716E+07     4.935585E+01\n",
      "  309  8194     4.563645E+07     1.310534E+01\n",
      "  310  8220     4.563631E+07     7.842194E+00\n",
      "  311  8247     4.563594E+07     1.078448E+02\n",
      "  312  8273     4.563509E+07     5.131277E+01\n",
      "  313  8299     4.563470E+07     3.621809E+01\n",
      "  314  8325     4.563432E+07     2.559297E+01\n",
      "  315  8352     4.563349E+07     8.108637E+00\n",
      "  316  8378     4.563330E+07     2.456624E+01\n",
      "  317  8405     4.563322E+07     4.889274E+01\n",
      "  318  8431     4.563307E+07     6.146544E+01\n",
      "  319  8457     4.563285E+07     5.934855E+01\n",
      "  320  8483     4.563231E+07     2.482438E+01\n",
      "  321  8509     4.563219E+07     1.377498E+01\n",
      "  322  8535     4.563212E+07     3.278719E+00\n",
      "  323  8562     4.563195E+07     4.086869E+01\n",
      "  324  8588     4.563187E+07     1.721191E+01\n",
      "  325  8614     4.563176E+07     1.067708E+01\n",
      "  326  8641     4.563157E+07     1.463728E+01\n",
      "  327  8667     4.563151E+07     7.017834E+00\n",
      "  328  8693     4.563144E+07     5.984772E+01\n",
      "  329  8719     4.563132E+07     4.374643E+01\n",
      "  330  8746     4.563112E+07     3.138471E+01\n",
      "  331  8772     4.563088E+07     1.166190E+01\n",
      "  332  8798     4.563048E+07     1.110180E+01\n",
      "  333  8824     4.562934E+07     3.116889E+01\n",
      "  334  8850     4.562847E+07     3.380089E+01\n",
      "  335  8877     4.562467E+07     7.141954E+01\n",
      "  336  8903     4.562222E+07     2.206241E+01\n",
      "  337  8930     4.561912E+07     1.908599E+02\n",
      "  338  8956     4.561445E+07     1.275578E+02\n",
      "  339  8983     4.560565E+07     3.846752E+01\n",
      "  340  9009     4.560177E+07     4.312482E+01\n",
      "  341  9036     4.559773E+07     5.111018E+01\n",
      "  342  9062     4.559457E+07     3.874919E+01\n",
      "  343  9089     4.559341E+07     1.079213E+02\n",
      "  344  9115     4.559261E+07     9.300269E+01\n",
      "  345  9142     4.559110E+07     1.898025E+01\n",
      "  346  9168     4.559017E+07     3.153569E+01\n",
      "  347  9194     4.558887E+07     3.080584E+01\n",
      "  348  9221     4.558703E+07     3.697972E+01\n",
      "  349  9247     4.558486E+07     1.442221E+01\n",
      "  350  9274     4.557628E+07     2.486871E+02\n",
      "  351  9300     4.556887E+07     1.855505E+02\n",
      "  352  9327     4.556419E+07     2.762245E+01\n",
      "  353  9353     4.556237E+07     2.577305E+01\n",
      "  354  9380     4.555488E+07     2.059939E+02\n",
      "  355  9406     4.555109E+07     1.982391E+02\n",
      "  356  9432     4.554003E+07     3.430696E+02\n",
      "  357  9458     4.551983E+07     1.647885E+02\n",
      "  358  9484     4.549743E+07     4.863127E+01\n",
      "  359  9510     4.546809E+07     4.463992E+02\n",
      "  360  9536     4.545789E+07     7.012050E+02\n",
      "  361  9562     4.543111E+07     3.944201E+02\n",
      "  362  9588     4.541241E+07     1.051523E+02\n",
      "  363  9615     4.540643E+07     1.536180E+02\n",
      "  364  9641     4.539722E+07     6.815240E+01\n",
      "  365  9667     4.536924E+07     2.377330E+02\n",
      "  366  9693     4.536082E+07     1.967016E+02\n",
      "  367  9720     4.530307E+07     1.688594E+02\n",
      "  368  9746     4.528896E+07     5.669656E+01\n",
      "  369  9773     4.527231E+07     1.915829E+02\n",
      "  370  9799     4.526502E+07     1.421768E+02\n",
      "  371  9825     4.524890E+07     9.705797E+01\n",
      "  372  9851     4.523673E+07     7.220519E+02\n",
      "  373  9877     4.521888E+07     4.062687E+02\n",
      "  374  9903     4.521273E+07     1.018381E+02\n",
      "  375  9929     4.520587E+07     9.098214E+01\n",
      "  376  9957     4.517090E+07     1.329699E+02\n",
      "  377  9983     4.516755E+07     4.790616E+01\n",
      "  378 10012     4.516682E+07     6.193141E+01\n",
      "  379 10038     4.516644E+07     7.181400E+01\n",
      "  380 10064     4.516561E+07     4.605974E+01\n",
      "  381 10092     4.516450E+07     1.234372E+02\n",
      "  382 10118     4.516363E+07     8.280851E+01\n",
      "  383 10144     4.516211E+07     3.980578E+01\n",
      "  384 10170     4.516045E+07     5.906141E+01\n",
      "  385 10196     4.515749E+07     4.052777E+01\n",
      "  386 10222     4.514870E+07     1.213765E+02\n",
      "  387 10248     4.513908E+07     7.702759E+01\n",
      "  388 10274     4.511477E+07     1.933268E+02\n",
      "  389 10300     4.511035E+07     1.769110E+02\n",
      "  390 10326     4.510138E+07     6.869680E+01\n",
      "  391 10352     4.509937E+07     3.834384E+01\n",
      "  392 10379     4.509589E+07     8.167160E+01\n",
      "  393 10407     4.509558E+07     9.160922E+01\n",
      "  394 10433     4.509242E+07     5.232590E+01\n",
      "  395 10460     4.508914E+07     4.636270E+01\n",
      "  396 10486     4.508608E+07     4.677339E+01\n",
      "  397 10512     4.507235E+07     5.922204E+01\n",
      "  398 10538     4.506167E+07     6.018098E+01\n",
      "  399 10564     4.505259E+07     1.027436E+02\n",
      "  400 10590     4.504099E+07     3.558792E+01\n",
      "  401 10617     4.503271E+07     8.564316E+01\n",
      "  402 10643     4.501747E+07     1.368439E+02\n",
      "  403 10669     4.497308E+07     2.931902E+02\n",
      "  404 10695     4.496341E+07     2.611446E+02\n",
      "  405 10721     4.495954E+07     1.388164E+02\n",
      "  406 10747     4.495136E+07     6.432340E+01\n",
      "  407 10773     4.494753E+07     6.428258E+01\n",
      "  408 10809     4.494753E+07     6.422422E+01\n",
      "  409 10835     4.494699E+07     4.419559E+01\n",
      "  410 10863     4.494684E+07     3.177263E+01\n",
      "  411 10889     4.494668E+07     1.885471E+01\n",
      "  412 10915     4.494659E+07     6.422616E+00\n",
      "  413 10942     4.494657E+07     9.604686E+00\n",
      "  414 10968     4.494650E+07     1.016120E+01\n",
      "  415 10994     4.494647E+07     4.582576E+00\n",
      "  416 11021     4.494646E+07     2.783882E+00\n",
      "  417 11047     4.494644E+07     5.916080E+00\n",
      "  418 11075     4.494640E+07     1.325707E+01\n",
      "  419 11101     4.494638E+07     7.826238E+00\n",
      "  420 11127     4.494635E+07     6.500000E+00\n",
      "  421 11154     4.494634E+07     8.529361E+00\n",
      "  422 11183     4.494634E+07     9.110434E+00\n",
      "  423 11209     4.494633E+07     6.204837E+00\n",
      "  424 11237     4.494632E+07     5.477226E+00\n",
      "  425 11265     4.494632E+07     6.041523E+00\n",
      "  426 11301     4.494632E+07     6.782330E+00\n",
      "  427 11327     4.494631E+07     4.873397E+00\n",
      "  428 11353     4.494627E+07     5.196152E+00\n",
      "  429 11380     4.494625E+07     1.955761E+01\n",
      "  430 11406     4.494623E+07     9.987492E+00\n",
      "  431 11442     4.494623E+07     9.313968E+00\n",
      "  432 11468     4.494621E+07     7.176350E+00\n",
      "  433 11496     4.494619E+07     1.011187E+01\n",
      "  434 11522     4.494618E+07     8.411302E+00\n",
      "  435 11548     4.494615E+07     4.847680E+00\n",
      "  436 11574     4.494611E+07     1.123610E+01\n",
      "  437 11600     4.494606E+07     9.836158E+00\n",
      "  438 11627     4.494597E+07     1.101136E+01\n",
      "  439 11653     4.494585E+07     7.106335E+00\n",
      "  440 11679     4.494576E+07     3.285575E+01\n",
      "  441 11705     4.494573E+07     3.088284E+01\n",
      "  442 11732     4.494565E+07     1.358308E+01\n",
      "  443 11768     4.494565E+07     1.446548E+01\n",
      "  444 11794     4.494564E+07     7.141428E+00\n",
      "  445 11821     4.494563E+07     7.449832E+00\n",
      "  446 11848     4.494563E+07     9.287088E+00\n",
      "  447 11874     4.494561E+07     5.590170E+00\n",
      "  448 11900     4.494561E+07     7.416198E+00\n",
      "  449 11927     4.494560E+07     6.819091E+00\n",
      "  450 11953     4.494559E+07     8.351647E+00\n",
      "  451 11979     4.494552E+07     1.133578E+01\n",
      "  452 12005     4.494545E+07     1.038027E+01\n",
      "  453 12031     4.494537E+07     8.660254E+00\n",
      "  454 12057     4.494533E+07     6.946222E+00\n",
      "  455 12083     4.494531E+07     8.902247E+00\n",
      "  456 12119     4.494531E+07     7.365460E+00\n",
      "  457 12145     4.494530E+07     6.837397E+00\n",
      "  458 12171     4.494528E+07     4.847680E+00\n",
      "  459 12197     4.494522E+07     2.692118E+01\n",
      "  460 12223     4.494519E+07     3.313231E+01\n",
      "  461 12249     4.494508E+07     1.989975E+01\n",
      "  462 12275     4.494497E+07     9.260130E+00\n",
      "  463 12301     4.494492E+07     1.595306E+01\n",
      "  464 12327     4.494485E+07     2.114829E+01\n",
      "  465 12353     4.494469E+07     2.468805E+01\n",
      "  466 12379     4.494453E+07     1.517399E+01\n",
      "  467 12405     4.494431E+07     7.615773E+00\n",
      "  468 12431     4.494420E+07     1.092016E+01\n",
      "  469 12459     4.494393E+07     3.004580E+01\n",
      "  470 12485     4.494388E+07     1.358308E+01\n",
      "  471 12511     4.494384E+07     1.617869E+01\n",
      "  472 12541     4.494384E+07     1.747856E+01\n",
      "  473 12567     4.494382E+07     1.238951E+01\n",
      "  474 12594     4.494382E+07     1.112430E+01\n",
      "  475 12620     4.494380E+07     9.823441E+00\n",
      "  476 12647     4.494375E+07     1.481553E+01\n",
      "  477 12673     4.494372E+07     6.873864E+00\n",
      "  478 12700     4.494370E+07     1.991231E+01\n",
      "  479 12726     4.494369E+07     1.130265E+01\n",
      "  480 12752     4.494368E+07     8.200610E+00\n",
      "  481 12778     4.494366E+07     6.538348E+00\n",
      "  482 12804     4.494330E+07     3.973978E+01\n",
      "  483 12830     4.494314E+07     2.565151E+01\n",
      "  484 12857     4.494291E+07     2.339872E+01\n",
      "  485 12883     4.494281E+07     2.418677E+01\n",
      "  486 12909     4.494248E+07     7.331439E+00\n",
      "  487 12935     4.494222E+07     1.697793E+01\n",
      "  488 12962     4.494190E+07     3.925876E+01\n",
      "  489 12988     4.494177E+07     2.708782E+01\n",
      "  490 13014     4.494166E+07     1.055936E+01\n",
      "  491 13040     4.494162E+07     6.982120E+00\n",
      "  492 13066     4.494161E+07     7.071068E+00\n",
      "  493 13092     4.494160E+07     7.297260E+00\n",
      "  494 13119     4.494157E+07     1.776936E+01\n",
      "  495 13145     4.494152E+07     8.986100E+00\n",
      "  496 13171     4.494148E+07     1.115796E+01\n",
      "  497 13197     4.494146E+07     1.807623E+01\n",
      "  498 13223     4.494137E+07     3.093542E+01\n",
      "  499 13249     4.494128E+07     2.100595E+01\n",
      "  500 13276     4.494107E+07     2.809804E+01\n",
      "  501 13302     4.494102E+07     2.022993E+01\n",
      "  502 13328     4.494078E+07     9.912114E+00\n",
      "  503 13355     4.494059E+07     6.578184E+01\n",
      "  504 13381     4.494039E+07     4.381495E+01\n",
      "  505 13407     4.494029E+07     1.286468E+01\n",
      "  506 13433     4.494013E+07     7.984360E+00\n",
      "  507 13459     4.493995E+07     6.595453E+00\n",
      "  508 13485     4.493862E+07     2.223736E+01\n",
      "  509 13511     4.493810E+07     8.831761E+00\n",
      "  510 13539     4.493774E+07     1.950000E+01\n",
      "  511 13565     4.493762E+07     1.260952E+01\n",
      "  512 13591     4.493746E+07     1.012423E+01\n",
      "  513 13617     4.493726E+07     3.318885E+01\n",
      "  514 13643     4.493704E+07     2.522895E+01\n",
      "  515 13669     4.493638E+07     5.343922E+01\n",
      "  516 13695     4.493610E+07     3.489627E+01\n",
      "  517 13721     4.493482E+07     7.095773E+01\n",
      "  518 13747     4.493429E+07     3.264583E+01\n",
      "  519 13775     4.493422E+07     9.124144E+00\n",
      "  520 13801     4.493414E+07     8.139410E+00\n",
      "  521 13829     4.493410E+07     9.949874E+00\n",
      "  522 13855     4.493408E+07     1.035616E+01\n",
      "  523 13882     4.493405E+07     1.039230E+01\n",
      "  524 13908     4.493405E+07     1.003743E+01\n",
      "  525 13944     4.493405E+07     9.300538E+00\n",
      "  526 13971     4.493405E+07     1.027132E+01\n",
      "  527 13999     4.493405E+07     1.287439E+01\n",
      "  528 14025     4.493403E+07     9.486833E+00\n",
      "  529 14051     4.493401E+07     8.689074E+00\n",
      "  530 14078     4.493392E+07     3.504640E+01\n",
      "  531 14104     4.493384E+07     4.289814E+01\n",
      "  532 14130     4.493333E+07     5.837808E+01\n",
      "  533 14157     4.493271E+07     9.472592E+01\n",
      "  534 14183     4.493242E+07     6.793931E+01\n",
      "  535 14210     4.493214E+07     1.197915E+01\n",
      "  536 14236     4.493193E+07     1.024695E+01\n",
      "  537 14263     4.493116E+07     2.223736E+01\n",
      "  538 14289     4.493095E+07     1.634013E+01\n",
      "  539 14315     4.492993E+07     1.038027E+01\n",
      "  540 14342     4.492778E+07     6.273356E+01\n",
      "  541 14368     4.492631E+07     4.808326E+01\n",
      "  542 14394     4.491729E+07     1.787456E+01\n",
      "  543 14420     4.491545E+07     1.128051E+01\n",
      "  544 14446     4.491342E+07     1.336974E+01\n",
      "  545 14473     4.491244E+07     1.989975E+01\n",
      "  546 14499     4.491122E+07     1.480709E+01\n",
      "  547 14525     4.490950E+07     1.425658E+01\n",
      "  548 14553     4.490948E+07     1.285496E+01\n",
      "  549 14579     4.490943E+07     8.031189E+00\n",
      "  550 14606     4.490941E+07     7.697402E+00\n",
      "  551 14632     4.490936E+07     8.231039E+00\n",
      "  552 14658     4.490932E+07     8.291562E+00\n",
      "  553 14684     4.490922E+07     1.514926E+01\n",
      "  554 14710     4.490918E+07     1.022252E+01\n",
      "  555 14736     4.490912E+07     4.041658E+01\n",
      "  556 14762     4.490895E+07     1.934554E+01\n",
      "  557 14789     4.490885E+07     1.176860E+01\n",
      "  558 14815     4.490864E+07     1.344433E+01\n",
      "  559 14841     4.490646E+07     3.835036E+01\n",
      "  560 14867     4.490370E+07     5.153154E+01\n",
      "  561 14894     4.490298E+07     4.798698E+01\n",
      "  562 14920     4.490275E+07     2.975315E+01\n",
      "  563 14948     4.490273E+07     2.157545E+01\n",
      "  564 14974     4.490261E+07     1.650757E+01\n",
      "  565 15000     4.490253E+07     1.833712E+01\n",
      "  566 15026     4.490226E+07     1.116915E+01\n",
      "  567 15052     4.490186E+07     1.321930E+01\n",
      "  568 15079     4.490158E+07     2.853069E+01\n",
      "  569 15105     4.490143E+07     1.939072E+01\n",
      "  570 15131     4.490125E+07     1.041633E+01\n",
      "  571 15158     4.490119E+07     1.578765E+01\n",
      "  572 15184     4.490099E+07     2.664113E+01\n",
      "  573 15210     4.490076E+07     1.991231E+01\n",
      "  574 15237     4.490012E+07     2.546075E+01\n",
      "  575 15263     4.489963E+07     3.797368E+01\n",
      "  576 15291     4.489930E+07     5.406709E+01\n",
      "  577 15317     4.489856E+07     2.264398E+01\n",
      "  578 15343     4.489835E+07     1.361984E+01\n",
      "  579 15369     4.489802E+07     1.489966E+01\n",
      "  580 15395     4.489787E+07     1.094303E+01\n",
      "  581 15422     4.489769E+07     1.457738E+01\n",
      "  582 15448     4.489763E+07     1.319091E+01\n",
      "  583 15474     4.489726E+07     4.742099E+01\n",
      "  584 15500     4.489718E+07     1.411559E+01\n",
      "  585 15526     4.489694E+07     1.452584E+01\n",
      "  586 15552     4.489680E+07     8.902247E+00\n",
      "  587 15579     4.489668E+07     3.279482E+01\n",
      "  588 15605     4.489641E+07     2.326478E+01\n",
      "  589 15631     4.489608E+07     1.124722E+01\n",
      "  590 15657     4.489568E+07     4.282231E+01\n",
      "  591 15693     4.489568E+07     4.288065E+01\n",
      "  592 15719     4.489540E+07     2.754542E+01\n",
      "  593 15745     4.489514E+07     1.204159E+01\n",
      "  594 15771     4.489505E+07     1.152172E+01\n",
      "  595 15798     4.489496E+07     2.064582E+01\n",
      "  596 15824     4.489485E+07     1.270827E+01\n",
      "  597 15851     4.489479E+07     7.937254E+00\n",
      "  598 15877     4.489472E+07     9.617692E+00\n",
      "  599 15903     4.489447E+07     2.224298E+01\n",
      "  600 15939     4.489447E+07     2.213030E+01\n",
      "  601 15965     4.489440E+07     1.349074E+01\n",
      "  602 15991     4.489433E+07     1.098863E+01\n",
      "  603 16018     4.489429E+07     1.628650E+01\n",
      "  604 16044     4.489427E+07     1.879495E+01\n",
      "  605 16070     4.489422E+07     1.449138E+01\n",
      "  606 16096     4.489411E+07     1.178983E+01\n",
      "  607 16123     4.489388E+07     1.498332E+01\n",
      "  608 16149     4.489360E+07     9.082951E+00\n",
      "  609 16175     4.489338E+07     1.460308E+01\n",
      "  610 16201     4.489330E+07     8.455767E+00\n",
      "  611 16228     4.489329E+07     8.154753E+00\n",
      "  612 16254     4.489324E+07     1.004988E+01\n",
      "  613 16280     4.489312E+07     1.085127E+01\n",
      "  614 16306     4.489303E+07     5.634714E+00\n",
      "  615 16333     4.489300E+07     9.041571E+00\n",
      "  616 16369     4.489300E+07     7.599342E+00\n",
      "  617 16395     4.489298E+07     7.382412E+00\n",
      "  618 16422     4.489296E+07     5.500000E+00\n",
      "  619 16448     4.489296E+07     5.147815E+00\n",
      "  620 16475     4.489294E+07     9.260130E+00\n",
      "  621 16501     4.489292E+07     8.261356E+00\n",
      "  622 16527     4.489287E+07     1.178983E+01\n",
      "  623 16553     4.489283E+07     6.383573E+00\n",
      "  624 16580     4.489281E+07     9.682458E+00\n",
      "  625 16606     4.489277E+07     1.255986E+01\n",
      "  626 16632     4.489264E+07     2.964372E+01\n",
      "  627 16658     4.489260E+07     1.744276E+01\n",
      "  628 16684     4.489256E+07     1.523975E+01\n",
      "  629 16720     4.489256E+07     1.597655E+01\n",
      "  630 16746     4.489253E+07     1.178983E+01\n",
      "  631 16772     4.489248E+07     1.181101E+01\n",
      "  632 16798     4.489247E+07     8.426150E+00\n",
      "  633 16824     4.489245E+07     7.106335E+00\n",
      "  634 16850     4.489243E+07     8.500000E+00\n",
      "  635 16877     4.489230E+07     3.161882E+01\n",
      "  636 16903     4.489224E+07     2.529822E+01\n",
      "  637 16929     4.489211E+07     1.366565E+01\n",
      "  638 16955     4.489196E+07     2.959307E+01\n",
      "  639 16981     4.489185E+07     1.505822E+01\n",
      "  640 17008     4.489175E+07     1.755705E+01\n",
      "  641 17034     4.489169E+07     1.137981E+01\n",
      "  642 17061     4.489145E+07     2.336129E+01\n",
      "  643 17087     4.489134E+07     2.342008E+01\n",
      "  644 17113     4.489104E+07     2.528834E+01\n",
      "  645 17139     4.489094E+07     9.886860E+00\n",
      "  646 17175     4.489094E+07     1.074709E+01\n",
      "  647 17201     4.489092E+07     8.291562E+00\n",
      "  648 17227     4.489089E+07     8.631338E+00\n",
      "  649 17254     4.489080E+07     2.200568E+01\n",
      "  650 17280     4.489071E+07     2.065793E+01\n",
      "  651 17306     4.489025E+07     1.513275E+01\n",
      "  652 17332     4.488857E+07     1.110180E+01\n",
      "  653 17358     4.488770E+07     1.000000E+01\n",
      "  654 17384     4.488768E+07     7.984360E+00\n",
      "  655 17410     4.488768E+07     5.894913E+00\n",
      "  656 17437     4.488767E+07     7.664855E+00\n",
      "  657 17473     4.488767E+07     7.842194E+00\n",
      "  658 17499     4.488766E+07     1.132475E+01\n",
      "  659 17525     4.488762E+07     1.311488E+01\n",
      "  660 17551     4.488736E+07     3.366749E+01\n",
      "  661 17577     4.488732E+07     2.225421E+01\n",
      "  662 17604     4.488727E+07     2.542145E+01\n",
      "  663 17630     4.488724E+07     1.011187E+01\n",
      "  664 17656     4.488721E+07     1.184272E+01\n",
      "  665 17682     4.488718E+07     1.007472E+01\n",
      "  666 17708     4.488706E+07     5.361903E+00\n",
      "  667 17734     4.488636E+07     1.166190E+01\n",
      "  668 17760     4.488577E+07     1.623268E+01\n",
      "  669 17789     4.488574E+07     1.805547E+01\n",
      "  670 17815     4.488564E+07     1.148913E+01\n",
      "  671 17842     4.488557E+07     1.876832E+01\n",
      "  672 17868     4.488551E+07     1.223724E+01\n",
      "  673 17895     4.488544E+07     2.500500E+01\n",
      "  674 17921     4.488530E+07     2.051828E+01\n",
      "  675 17947     4.488510E+07     1.661325E+01\n",
      "  676 17973     4.488506E+07     1.501666E+01\n",
      "  677 17999     4.488491E+07     9.974969E+00\n",
      "  678 18025     4.488487E+07     7.778175E+00\n",
      "  679 18052     4.488481E+07     1.066536E+01\n",
      "  680 18079     4.488480E+07     1.071214E+01\n",
      "  681 18105     4.488477E+07     7.449832E+00\n",
      "  682 18133     4.488474E+07     8.124038E+00\n",
      "  683 18159     4.488470E+07     7.176350E+00\n",
      "  684 18186     4.488460E+07     1.113553E+01\n",
      "  685 18212     4.488453E+07     8.689074E+00\n",
      "  686 18238     4.488424E+07     1.075872E+01\n",
      "  687 18264     4.488351E+07     5.062855E+01\n",
      "  688 18290     4.488340E+07     3.298485E+01\n",
      "  689 18316     4.488327E+07     2.237744E+01\n",
      "  690 18344     4.488326E+07     1.847972E+01\n",
      "  691 18370     4.488319E+07     7.035624E+00\n",
      "  692 18397     4.488317E+07     1.380217E+01\n",
      "  693 18423     4.488311E+07     8.000000E+00\n",
      "  694 18449     4.488306E+07     9.682458E+00\n",
      "  695 18475     4.488301E+07     8.958236E+00\n",
      "  696 18501     4.488289E+07     4.847680E+00\n",
      "  697 18527     4.488280E+07     1.589811E+01\n",
      "  698 18553     4.488276E+07     1.157584E+01\n",
      "  699 18579     4.488269E+07     6.614378E+00\n",
      "  700 18606     4.488262E+07     9.137833E+00\n",
      "  701 18632     4.488261E+07     7.921490E+00\n",
      "  702 18662     4.488261E+07     5.700877E+00\n",
      "  703 18688     4.488260E+07     6.442049E+00\n",
      "  704 18715     4.488260E+07     6.910137E+00\n",
      "  705 18751     4.488260E+07     6.224950E+00\n",
      "  706 18787     4.488260E+07     6.557439E+00\n",
      "  707 18813     4.488260E+07     4.769696E+00\n",
      "  708 18839     4.488259E+07     1.030776E+01\n",
      "  709 18866     4.488259E+07     1.035616E+01\n",
      "  710 18892     4.488259E+07     6.946222E+00\n",
      "  711 18918     4.488258E+07     7.071068E+00\n",
      "  712 18944     4.488258E+07     5.500000E+00\n",
      "  713 18970     4.488258E+07     8.717798E+00\n",
      "  714 19006     4.488258E+07     8.544004E+00\n",
      "  715 19032     4.488258E+07     6.726812E+00\n",
      "  716 19059     4.488258E+07     6.442049E+00\n",
      "  717 19085     4.488257E+07     6.633250E+00\n",
      "  718 19111     4.488257E+07     6.383573E+00\n",
      "  719 19138     4.488257E+07     6.000000E+00\n",
      "  720 19164     4.488257E+07     6.763875E+00\n",
      "  721 19190     4.488256E+07     5.873670E+00\n",
      "  722 19217     4.488254E+07     1.365650E+01\n",
      "  723 19253     4.488254E+07     1.400000E+01\n",
      "  724 19279     4.488254E+07     1.093161E+01\n",
      "  725 19305     4.488253E+07     8.261356E+00\n",
      "  726 19331     4.488253E+07     7.245688E+00\n",
      "  727 19357     4.488253E+07     5.678908E+00\n",
      "  728 19383     4.488253E+07     9.137833E+00\n",
      "  729 19409     4.488252E+07     7.921490E+00\n",
      "  730 19436     4.488252E+07     9.460444E+00\n",
      "  731 19462     4.488252E+07     6.782330E+00\n",
      "  732 19488     4.488251E+07     7.889867E+00\n",
      "  733 19514     4.488249E+07     1.755705E+01\n",
      "  734 19540     4.488247E+07     1.432655E+01\n",
      "  735 19566     4.488230E+07     1.039230E+01\n",
      "  736 19592     4.488197E+07     1.418626E+01\n",
      "  737 19618     4.488196E+07     7.549834E+00\n",
      "  738 19644     4.488195E+07     6.164414E+00\n",
      "  739 19670     4.488194E+07     6.041523E+00\n",
      "  740 19698     4.488193E+07     5.700877E+00\n",
      "  741 19724     4.488192E+07     7.984360E+00\n",
      "  742 19750     4.488191E+07     1.017349E+01\n",
      "  743 19778     4.488190E+07     1.855398E+01\n",
      "  744 19804     4.488188E+07     1.458595E+01\n",
      "  745 19830     4.488177E+07     1.933261E+01\n",
      "  746 19858     4.488174E+07     3.225678E+01\n",
      "  747 19884     4.488169E+07     2.001250E+01\n",
      "  748 19910     4.488160E+07     1.242980E+01\n",
      "  749 19936     4.488155E+07     2.193741E+01\n",
      "  750 19963     4.488149E+07     4.774935E+01\n",
      "  751 19989     4.488140E+07     3.509630E+01\n",
      "  752 20015     4.488135E+07     7.937254E+00\n",
      "  753 20051     4.488135E+07     7.905694E+00\n",
      "  754 20087     4.488135E+07     7.745967E+00\n",
      "  755 20113     4.488135E+07     7.566373E+00\n",
      "  756 20139     4.488135E+07     6.082763E+00\n",
      "  757 20165     4.488134E+07     8.874120E+00\n",
      "  758 20191     4.488133E+07     1.102270E+01\n",
      "  759 20217     4.488124E+07     2.543619E+01\n",
      "  760 20243     4.488110E+07     4.538998E+01\n",
      "  761 20269     4.488091E+07     3.846427E+01\n",
      "  762 20295     4.488050E+07     1.780449E+01\n",
      "  763 20321     4.488043E+07     1.011187E+01\n",
      "  764 20348     4.488043E+07     1.019804E+01\n",
      "  765 20374     4.488041E+07     1.058301E+01\n",
      "  766 20400     4.488039E+07     1.492481E+01\n",
      "  767 20426     4.488036E+07     1.157584E+01\n",
      "  768 20453     4.488024E+07     1.922888E+01\n",
      "  769 20482     4.488023E+07     2.083867E+01\n",
      "  770 20508     4.488017E+07     1.494992E+01\n",
      "  771 20534     4.488014E+07     9.110434E+00\n",
      "  772 20560     4.488012E+07     5.809475E+00\n",
      "  773 20588     4.488012E+07     7.664855E+00\n",
      "  774 20614     4.488011E+07     6.595453E+00\n",
      "  775 20640     4.488011E+07     7.483315E+00\n",
      "  776 20666     4.488011E+07     6.964194E+00\n",
      "  777 20692     4.488011E+07     5.894913E+00\n",
      "  778 20718     4.488011E+07     7.088723E+00\n",
      "  779 20745     4.488010E+07     8.930286E+00\n",
      "  780 20771     4.488010E+07     7.449832E+00\n",
      "  781 20797     4.488009E+07     9.394147E+00\n",
      "  782 20824     4.488009E+07     6.244998E+00\n",
      "  783 20860     4.488009E+07     6.689544E+00\n",
      "  784 20886     4.488009E+07     5.385165E+00\n",
      "  785 20913     4.488009E+07     6.837397E+00\n",
      "  786 20939     4.488009E+07     5.787918E+00\n",
      "  787 20967     4.488008E+07     5.123475E+00\n",
      "  788 20993     4.488008E+07     5.024938E+00\n",
      "  789 21019     4.488008E+07     5.123475E+00\n",
      "  790 21047     4.488008E+07     7.664855E+00\n",
      "  791 21083     4.488008E+07     7.017834E+00\n",
      "  792 21109     4.488008E+07     8.046738E+00\n",
      "  793 21139     4.488008E+07     8.602325E+00\n",
      "  794 21165     4.488008E+07     6.726812E+00\n",
      "  795 21191     4.488008E+07     5.787918E+00\n",
      "  796 21217     4.488008E+07     4.821825E+00\n",
      "  797 21243     4.488008E+07     6.442049E+00\n",
      "  798 21271     4.488008E+07     5.590170E+00\n",
      "  799 21297     4.488008E+07     5.315073E+00\n",
      "  800 21323     4.488008E+07     5.454356E+00\n",
      "  801 21349     4.488008E+07     6.763875E+00\n",
      "  802 21375     4.488008E+07     7.794229E+00\n",
      "  803 21401     4.488007E+07     4.873397E+00\n",
      "  804 21427     4.488007E+07     7.399324E+00\n",
      "  805 21453     4.488006E+07     1.416863E+01\n",
      "  806 21479     4.488005E+07     1.178983E+01\n",
      "  807 21505     4.487995E+07     7.483315E+00\n",
      "  808 21531     4.487994E+07     7.648529E+00\n",
      "  809 21557     4.487991E+07     7.549834E+00\n",
      "  810 21583     4.487991E+07     7.245688E+00\n",
      "  811 21612     4.487991E+07     7.193747E+00\n",
      "  812 21638     4.487991E+07     6.020797E+00\n",
      "  813 21665     4.487990E+07     6.184658E+00\n",
      "  814 21694     4.487990E+07     6.363961E+00\n",
      "  815 21720     4.487990E+07     6.041523E+00\n",
      "  816 21746     4.487990E+07     5.291503E+00\n",
      "  817 21772     4.487989E+07     5.656854E+00\n",
      "  818 21799     4.487988E+07     8.139410E+00\n",
      "  819 21825     4.487988E+07     7.262920E+00\n",
      "  820 21851     4.487986E+07     6.480741E+00\n",
      "  821 21877     4.487985E+07     7.035624E+00\n",
      "  822 21903     4.487982E+07     5.916080E+00\n",
      "  823 21929     4.487980E+07     6.204837E+00\n",
      "  824 21956     4.487972E+07     1.904600E+01\n",
      "  825 21983     4.487971E+07     1.437011E+01\n",
      "  826 22009     4.487969E+07     1.050000E+01\n",
      "  827 22036     4.487964E+07     1.408900E+01\n",
      "  828 22062     4.487962E+07     1.265899E+01\n",
      "  829 22088     4.487951E+07     1.613227E+01\n",
      "  830 22114     4.487941E+07     1.192686E+01\n",
      "  831 22140     4.487899E+07     1.913113E+01\n",
      "  832 22166     4.487897E+07     1.088577E+01\n",
      "  833 22192     4.487895E+07     9.354143E+00\n",
      "  834 22218     4.487894E+07     8.276473E+00\n",
      "  835 22247     4.487893E+07     9.287088E+00\n",
      "  836 22273     4.487893E+07     8.986100E+00\n",
      "  837 22299     4.487893E+07     9.192388E+00\n",
      "  838 22325     4.487891E+07     8.485281E+00\n",
      "  839 22351     4.487890E+07     1.661325E+01\n",
      "  840 22377     4.487886E+07     1.178983E+01\n",
      "  841 22403     4.487883E+07     6.670832E+00\n",
      "  842 22429     4.487880E+07     2.285826E+01\n",
      "  843 22455     4.487875E+07     1.045227E+01\n",
      "  844 22481     4.487871E+07     6.670832E+00\n",
      "  845 22507     4.487865E+07     6.670832E+00\n",
      "  846 22533     4.487855E+07     1.368393E+01\n",
      "  847 22559     4.487852E+07     9.340771E+00\n",
      "  848 22586     4.487850E+07     5.500000E+00\n",
      "  849 22622     4.487850E+07     6.576473E+00\n",
      "  850 22648     4.487850E+07     6.383573E+00\n",
      "  851 22674     4.487850E+07     6.264982E+00\n",
      "  852 22700     4.487846E+07     5.656854E+00\n",
      "  853 22736     4.487846E+07     6.652067E+00\n",
      "  854 22762     4.487846E+07     6.000000E+00\n",
      "  855 22788     4.487846E+07     4.387482E+00\n",
      "  856 22814     4.487846E+07     4.924429E+00\n",
      "  857 22844     4.487846E+07     5.123475E+00\n",
      "  858 22872     4.487846E+07     5.220153E+00\n",
      "  859 22898     4.487846E+07     5.678908E+00\n",
      "  860 22924     4.487846E+07     7.416198E+00\n",
      "  861 22950     4.487846E+07     5.220153E+00\n",
      "  862 22977     4.487846E+07     1.047616E+01\n",
      "  863 23003     4.487846E+07     1.004988E+01\n",
      "  864 23029     4.487845E+07     8.874120E+00\n",
      "  865 23055     4.487842E+07     8.200610E+00\n",
      "  866 23081     4.487820E+07     1.393736E+01\n",
      "  867 23107     4.487803E+07     1.999375E+01\n",
      "  868 23133     4.487786E+07     2.679086E+01\n",
      "  869 23159     4.487773E+07     2.516446E+01\n",
      "  870 23185     4.487757E+07     2.406761E+01\n",
      "  871 23211     4.487750E+07     1.762101E+01\n",
      "  872 23237     4.487749E+07     1.312440E+01\n",
      "  873 23263     4.487747E+07     8.108637E+00\n",
      "  874 23292     4.487747E+07     9.287088E+00\n",
      "  875 23318     4.487747E+07     8.246211E+00\n",
      "  876 23344     4.487747E+07     1.024695E+01\n",
      "  877 23370     4.487747E+07     1.064190E+01\n",
      "  878 23396     4.487746E+07     1.418626E+01\n",
      "  879 23422     4.487745E+07     1.250000E+01\n",
      "  880 23448     4.487741E+07     1.296148E+01\n",
      "  881 23474     4.487739E+07     8.803408E+00\n",
      "  882 23500     4.487732E+07     1.003743E+01\n",
      "  883 23527     4.487718E+07     2.611034E+01\n",
      "  884 23553     4.487709E+07     2.019901E+01\n",
      "  885 23579     4.487701E+07     1.030776E+01\n",
      "  886 23605     4.487693E+07     6.652067E+00\n",
      "  887 23641     4.487693E+07     7.123903E+00\n",
      "  888 23667     4.487693E+07     6.480741E+00\n",
      "  889 23693     4.487692E+07     4.472136E+00\n",
      "  890 23719     4.487692E+07     6.264982E+00\n",
      "  891 23745     4.487692E+07     4.330127E+00\n",
      "  892 23771     4.487691E+07     4.031129E+00\n",
      "  893 23798     4.487691E+07     7.549834E+00\n",
      "  894 23824     4.487691E+07     4.821825E+00\n",
      "  895 23860     4.487691E+07     4.716991E+00\n",
      "  896 23886     4.487690E+07     6.324555E+00\n",
      "  897 23912     4.487690E+07     4.924429E+00\n",
      "  898 23939     4.487690E+07     6.103278E+00\n",
      "  899 23965     4.487690E+07     4.301163E+00\n",
      "  900 23991     4.487690E+07     4.213075E+00\n",
      "  901 24017     4.487690E+07     5.612486E+00\n",
      "  902 24043     4.487690E+07     4.924429E+00\n",
      "  903 24069     4.487690E+07     4.472136E+00\n",
      "  904 24095     4.487689E+07     6.304760E+00\n",
      "  905 24121     4.487689E+07     6.519202E+00\n",
      "  906 24148     4.487686E+07     2.747726E+01\n",
      "  907 24174     4.487685E+07     2.549510E+01\n",
      "  908 24200     4.487680E+07     1.798611E+01\n",
      "  909 24226     4.487673E+07     8.930286E+00\n",
      "  910 24252     4.487663E+07     1.255986E+01\n",
      "  911 24279     4.487654E+07     2.698611E+01\n",
      "  912 24305     4.487651E+07     1.468843E+01\n",
      "  913 24331     4.487647E+07     1.261943E+01\n",
      "  914 24357     4.487645E+07     1.066536E+01\n",
      "  915 24384     4.487643E+07     1.065364E+01\n",
      "  916 24410     4.487643E+07     8.015610E+00\n",
      "  917 24436     4.487642E+07     6.782330E+00\n",
      "  918 24462     4.487640E+07     1.023474E+01\n",
      "  919 24498     4.487640E+07     1.030776E+01\n",
      "  920 24524     4.487640E+07     9.848858E+00\n",
      "  921 24551     4.487640E+07     9.772410E+00\n",
      "  922 24577     4.487639E+07     1.083974E+01\n",
      "  923 24603     4.487639E+07     1.223724E+01\n",
      "  924 24629     4.487634E+07     9.552487E+00\n",
      "  925 24655     4.487619E+07     1.830301E+01\n",
      "  926 24681     4.487587E+07     3.423449E+01\n",
      "  927 24707     4.487575E+07     6.484019E+01\n",
      "  928 24733     4.487542E+07     3.766298E+01\n",
      "  929 24759     4.487526E+07     2.340406E+01\n",
      "  930 24785     4.487517E+07     5.477226E+00\n",
      "  931 24811     4.487517E+07     7.262920E+00\n",
      "  932 24847     4.487517E+07     6.041523E+00\n",
      "  933 24883     4.487517E+07     6.652067E+00\n",
      "  934 24909     4.487516E+07     6.244998E+00\n",
      "  935 24935     4.487516E+07     1.123610E+01\n",
      "  936 24961     4.487516E+07     9.552487E+00\n",
      "  937 24987     4.487515E+07     7.348469E+00\n",
      "  938 25013     4.487515E+07     6.782330E+00\n",
      "  939 25043     4.487515E+07     6.041523E+00\n",
      "  940 25079     4.487515E+07     6.745369E+00\n",
      "  941 25105     4.487515E+07     7.466592E+00\n",
      "  942 25131     4.487515E+07     6.324555E+00\n",
      "  943 25157     4.487514E+07     9.380832E+00\n",
      "  944 25183     4.487514E+07     1.189538E+01\n",
      "  945 25209     4.487514E+07     1.627882E+01\n",
      "  946 25235     4.487514E+07     1.465435E+01\n",
      "  947 25261     4.487513E+07     7.615773E+00\n",
      "  948 25287     4.487513E+07     6.855655E+00\n",
      "  949 25313     4.487513E+07     7.778175E+00\n",
      "  950 25339     4.487513E+07     9.287088E+00\n",
      "  951 25365     4.487512E+07     7.123903E+00\n",
      "  952 25391     4.487509E+07     5.522681E+00\n",
      "  953 25417     4.487502E+07     1.664332E+01\n",
      "  954 25443     4.487501E+07     1.198958E+01\n",
      "  955 25470     4.487500E+07     5.431390E+00\n",
      "  956 25496     4.487499E+07     4.000000E+00\n",
      "  957 25523     4.487499E+07     5.567764E+00\n",
      "  958 25550     4.487499E+07     6.480741E+00\n",
      "  959 25586     4.487499E+07     4.769696E+00\n",
      "  960 25612     4.487499E+07     4.500000E+00\n",
      "  961 25638     4.487499E+07     4.500000E+00\n",
      "  962 25664     4.487499E+07     4.873397E+00\n",
      "  963 25690     4.487499E+07     5.809475E+00\n",
      "  964 25716     4.487499E+07     4.949747E+00\n",
      "  965 25742     4.487499E+07     4.743416E+00\n",
      "  966 25768     4.487499E+07     8.031189E+00\n",
      "  967 25794     4.487498E+07     8.093207E+00\n",
      "  968 25820     4.487496E+07     6.184658E+00\n",
      "  969 25846     4.487495E+07     7.314369E+00\n",
      "  970 25872     4.487492E+07     1.188486E+01\n",
      "  971 25898     4.487490E+07     7.280110E+00\n",
      "  972 25924     4.487490E+07     8.215838E+00\n",
      "  973 25950     4.487490E+07     7.123903E+00\n",
      "  974 25977     4.487489E+07     5.830952E+00\n",
      "  975 26013     4.487489E+07     6.123724E+00\n",
      "  976 26039     4.487489E+07     7.921490E+00\n",
      "  977 26066     4.487489E+07     5.500000E+00\n",
      "  978 26092     4.487489E+07     5.000000E+00\n",
      "  979 26118     4.487489E+07     9.682458E+00\n",
      "  980 26144     4.487489E+07     6.442049E+00\n",
      "  981 26170     4.487488E+07     4.582576E+00\n",
      "  982 26196     4.487488E+07     6.819091E+00\n",
      "  983 26222     4.487487E+07     7.599342E+00\n",
      "  984 26248     4.487486E+07     1.932615E+01\n",
      "  985 26274     4.487485E+07     1.514100E+01\n",
      "  986 26300     4.487483E+07     1.173669E+01\n",
      "  987 26326     4.487482E+07     4.242641E+00\n",
      "  988 26352     4.487482E+07     4.415880E+00\n",
      "  989 26379     4.487482E+07     4.821825E+00\n",
      "  990 26407     4.487482E+07     4.444097E+00\n",
      "  991 26433     4.487482E+07     4.330127E+00\n",
      "  992 26461     4.487482E+07     4.062019E+00\n",
      "  993 26487     4.487482E+07     4.301163E+00\n",
      "  994 26514     4.487482E+07     3.391165E+00\n",
      "  995 26540     4.487482E+07     5.408327E+00\n",
      "  996 26567     4.487482E+07     5.123475E+00\n",
      "  997 26593     4.487481E+07     5.612486E+00\n",
      "  998 26619     4.487481E+07     4.358899E+00\n",
      "  999 26645     4.487481E+07     3.774917E+00\n",
      " 1000 26671     4.487481E+07     3.937004E+00\n",
      " 1001 26697     4.487481E+07     6.670832E+00\n",
      " 1002 26723     4.487480E+07     6.873864E+00\n",
      " 1003 26749     4.487480E+07     9.407444E+00\n",
      " 1004 26775     4.487479E+07     7.566373E+00\n",
      " 1005 26803     4.487479E+07     7.123903E+00\n",
      " 1006 26829     4.487479E+07     5.958188E+00\n",
      " 1007 26855     4.487479E+07     4.183300E+00\n",
      " 1008 26881     4.487479E+07     3.278719E+00\n",
      " 1009 26907     4.487479E+07     3.464102E+00\n",
      " 1010 26933     4.487479E+07     4.123106E+00\n",
      " 1011 26959     4.487479E+07     5.220153E+00\n",
      " 1012 26988     4.487479E+07     3.937004E+00\n",
      " 1013 27014     4.487479E+07     4.769696E+00\n",
      " 1014 27040     4.487478E+07     4.609772E+00\n",
      " 1015 27066     4.487478E+07     4.555217E+00\n",
      " 1016 27092     4.487478E+07     6.123724E+00\n",
      " 1017 27123     4.487478E+07     5.024938E+00\n",
      " 1018 27149     4.487478E+07     4.444097E+00\n",
      " 1019 27175     4.487478E+07     9.721111E+00\n",
      " 1020 27201     4.487478E+07     8.306624E+00\n",
      " 1021 27227     4.487475E+07     7.176350E+00\n",
      " 1022 27253     4.487468E+07     5.500000E+00\n",
      " 1023 27280     4.487466E+07     5.787918E+00\n",
      " 1024 27307     4.487466E+07     6.964194E+00\n",
      " 1025 27333     4.487466E+07     4.690416E+00\n",
      " 1026 27359     4.487463E+07     3.674235E+00\n",
      " 1027 27385     4.487459E+07     4.031129E+00\n",
      " 1028 27411     4.487439E+07     1.468843E+01\n",
      " 1029 27437     4.487436E+07     2.183461E+01\n",
      " 1030 27463     4.487432E+07     1.977372E+01\n",
      " 1031 27489     4.487426E+07     1.251998E+01\n",
      " 1032 27515     4.487421E+07     7.937254E+00\n",
      " 1033 27541     4.487419E+07     5.979130E+00\n",
      " 1034 27569     4.487419E+07     4.500000E+00\n",
      " 1035 27605     4.487419E+07     4.847680E+00\n",
      " 1036 27641     4.487419E+07     3.674235E+00\n",
      " 1037 27667     4.487419E+07     3.391165E+00\n",
      " 1038 27695     4.487419E+07     3.391165E+00\n",
      " 1039 27731     4.487419E+07     4.301163E+00\n",
      " 1040 27757     4.487419E+07     4.795832E+00\n",
      " 1041 27783     4.487419E+07     3.807887E+00\n",
      " 1042 27809     4.487419E+07     3.674235E+00\n",
      " 1043 27835     4.487419E+07     4.847680E+00\n",
      " 1044 27862     4.487418E+07     7.158911E+00\n",
      " 1045 27888     4.487418E+07     6.041523E+00\n",
      " 1046 27916     4.487418E+07     6.344289E+00\n",
      " 1047 27942     4.487418E+07     4.500000E+00\n",
      " 1048 27968     4.487418E+07     4.636809E+00\n",
      " 1049 27994     4.487418E+07     4.153312E+00\n",
      " 1050 28020     4.487418E+07     5.634714E+00\n",
      " 1051 28056     4.487418E+07     4.092676E+00\n",
      " 1052 28082     4.487418E+07     4.821825E+00\n",
      " 1053 28109     4.487418E+07     4.472136E+00\n",
      " 1054 28136     4.487418E+07     4.415880E+00\n",
      " 1055 28162     4.487418E+07     3.840573E+00\n",
      " 1056 28188     4.487418E+07     3.605551E+00\n",
      " 1057 28215     4.487418E+07     5.766281E+00\n",
      " 1058 28241     4.487418E+07     4.924429E+00\n",
      " 1059 28267     4.487418E+07     3.807887E+00\n",
      " 1060 28293     4.487418E+07     4.582576E+00\n",
      " 1061 28319     4.487417E+07     2.692582E+00\n",
      " 1062 28345     4.487416E+07     5.830952E+00\n",
      " 1063 28371     4.487411E+07     1.541104E+01\n",
      " 1064 28397     4.487410E+07     1.585087E+01\n",
      " 1065 28423     4.487409E+07     2.313007E+01\n",
      " 1066 28449     4.487408E+07     2.611992E+01\n",
      " 1067 28476     4.487407E+07     2.810694E+01\n",
      " 1068 28502     4.487407E+07     2.866182E+01\n",
      " 1069 28528     4.487401E+07     1.914419E+01\n",
      " 1070 28554     4.487389E+07     1.903943E+01\n",
      " 1071 28580     4.487388E+07     1.184272E+01\n",
      " 1072 28606     4.487385E+07     5.852350E+00\n",
      " 1073 28633     4.487382E+07     2.889204E+01\n",
      " 1074 28659     4.487379E+07     1.964052E+01\n",
      " 1075 28686     4.487373E+07     1.220656E+01\n",
      " 1076 28712     4.487371E+07     1.048809E+01\n",
      " 1077 28738     4.487344E+07     3.330165E+01\n",
      " 1078 28764     4.487312E+07     2.970269E+01\n",
      " 1079 28790     4.487261E+07     1.208305E+01\n",
      " 1080 28817     4.487170E+07     7.744676E+01\n",
      " 1081 28843     4.487156E+07     4.775720E+01\n",
      " 1082 28874     4.487156E+07     4.523549E+01\n",
      " 1083 28900     4.487152E+07     3.530581E+01\n",
      " 1084 28926     4.487148E+07     1.460308E+01\n",
      " 1085 28952     4.487148E+07     1.063015E+01\n",
      " 1086 28979     4.487146E+07     1.548386E+01\n",
      " 1087 29005     4.487143E+07     9.526279E+00\n",
      " 1088 29031     4.487140E+07     2.200000E+01\n",
      " 1089 29057     4.487139E+07     2.723509E+01\n",
      " 1090 29083     4.487136E+07     1.627882E+01\n",
      " 1091 29111     4.487134E+07     9.340771E+00\n",
      " 1092 29147     4.487134E+07     1.001249E+01\n",
      " 1093 29173     4.487134E+07     1.071214E+01\n",
      " 1094 29199     4.487133E+07     1.519046E+01\n",
      " 1095 29225     4.487133E+07     2.373289E+01\n",
      " 1096 29251     4.487132E+07     2.126029E+01\n",
      " 1097 29277     4.487132E+07     1.221679E+01\n",
      " 1098 29303     4.487130E+07     1.281601E+01\n",
      " 1099 29329     4.487125E+07     1.054751E+01\n",
      " 1100 29355     4.487097E+07     1.769887E+01\n",
      " 1101 29381     4.487090E+07     3.593745E+01\n",
      " 1102 29407     4.487074E+07     2.360614E+01\n",
      " 1103 29433     4.487068E+07     1.712454E+01\n",
      " 1104 29459     4.487059E+07     9.340771E+00\n",
      " 1105 29485     4.487059E+07     7.280110E+00\n",
      " 1106 29512     4.487059E+07     6.442049E+00\n",
      " 1107 29538     4.487059E+07     6.519202E+00\n",
      " 1108 29564     4.487059E+07     5.567764E+00\n",
      " 1109 29592     4.487059E+07     7.245688E+00\n",
      " 1110 29618     4.487059E+07     6.103278E+00\n",
      " 1111 29647     4.487059E+07     7.035624E+00\n",
      "Optimization terminated successfully.    (Exit mode 0)\n",
      "            Current function value: 44870588.95411448\n",
      "            Iterations: 1111\n",
      "            Function evaluations: 29658\n",
      "            Gradient evaluations: 1111\n"
     ]
    }
   ],
   "source": [
    "constrainted_results=minimize(f, ig, args=(testgrad,), method='SLSQP',options={'disp': True, 'maxiter' : 100000, 'iprint': 2})"
   ]
  },
  {
   "cell_type": "code",
   "execution_count": null,
   "metadata": {
    "collapsed": true
   },
   "outputs": [],
   "source": []
  },
  {
   "cell_type": "code",
   "execution_count": 1165,
   "metadata": {
    "collapsed": true
   },
   "outputs": [],
   "source": [
    "# finalparameters = parmresults[rterms]\n",
    "# finalparameters = ig\n",
    "# finalparameters = xopt\n",
    "finalparameters = constrainted_results.x"
   ]
  },
  {
   "cell_type": "code",
   "execution_count": 1166,
   "metadata": {
    "collapsed": true
   },
   "outputs": [],
   "source": [
    "finalexponenets = index[model_exp]"
   ]
  },
  {
   "cell_type": "markdown",
   "metadata": {},
   "source": [
    "## Examining the results"
   ]
  },
  {
   "cell_type": "markdown",
   "metadata": {},
   "source": [
    "### Final parameters"
   ]
  },
  {
   "cell_type": "markdown",
   "metadata": {},
   "source": [
    "### Quality of fit"
   ]
  },
  {
   "cell_type": "code",
   "execution_count": 1167,
   "metadata": {
    "collapsed": true
   },
   "outputs": [],
   "source": [
    "def set_range(g, n):\n",
    "    delta = (g.max() - g.min()) / n\n",
    "    return np.arange(g.min(), g.max() + delta/2, delta)"
   ]
  },
  {
   "cell_type": "code",
   "execution_count": 1168,
   "metadata": {
    "collapsed": false
   },
   "outputs": [
    {
     "name": "stderr",
     "output_type": "stream",
     "text": [
      "/Users/willwiz/anaconda/lib/python3.5/site-packages/ipykernel/__main__.py:27: RuntimeWarning: invalid value encountered in less\n"
     ]
    },
    {
     "data": {
      "image/png": "[encoded data removed]",
      "text/plain": [
       "<matplotlib.figure.Figure at 0x11ba9c8d0>"
      ]
     },
     "metadata": {},
     "output_type": "display_data"
    }
   ],
   "source": [
    "########################################\n",
    "# Select the data for plotting\n",
    "X = []\n",
    "Y = []\n",
    "Z = []\n",
    "for i in range(gamma1.size):\n",
    "    if abs(gamma3[i]) < np.finfo(float).eps:\n",
    "        X.append(gamma1[i])\n",
    "        Y.append(gamma2[i])\n",
    "        Z.append(W1[i])\n",
    "        \n",
    "        \n",
    "########################################\n",
    "# Compute the fitted surface\n",
    "Xsurf = set_range(gamma1, 40)\n",
    "Ysurf = set_range(gamma2, 40)\n",
    "Xsurf, Ysurf = np.meshgrid(Xsurf, Ysurf)\n",
    "Zsurf = np.zeros(Xsurf.shape)\n",
    "for i in range(Xsurf.shape[0]):\n",
    "    for j in range(Xsurf.shape[1]):\n",
    "        Zsurf[i][j] = responseW1(Xsurf[i][j], Ysurf[i][j], 0.0, \n",
    "                                 finalparameters, finalexponenets)\n",
    "        \n",
    "########################################\n",
    "# Truncate the surface \n",
    "Zsurf[Zsurf>max(Z)] = np.NaN\n",
    "Zsurf[Zsurf<min(Z)] = np.NaN\n",
    "\n",
    "fig = plt.figure()\n",
    "ax = fig.add_subplot(111, projection='3d')\n",
    "ax.scatter(X,Y,Z, c='r', marker='o')\n",
    "surf = ax.plot_wireframe(Xsurf, Ysurf, Zsurf, rstride=2, cstride=2, color='black')\n",
    "ax.view_init(elev=25., azim=240)\n",
    "plt.savefig(infiles[0][:-4]+'fitW1surf.png',dpi=500,bbox_inches='tight')\n",
    "plt.show()"
   ]
  },
  {
   "cell_type": "code",
   "execution_count": 1169,
   "metadata": {
    "collapsed": false
   },
   "outputs": [
    {
     "name": "stderr",
     "output_type": "stream",
     "text": [
      "/Users/willwiz/anaconda/lib/python3.5/site-packages/ipykernel/__main__.py:27: RuntimeWarning: invalid value encountered in less\n"
     ]
    },
    {
     "data": {
      "image/png": "[encoded data removed]",
      "text/plain": [
       "<matplotlib.figure.Figure at 0x119fb3be0>"
      ]
     },
     "metadata": {},
     "output_type": "display_data"
    }
   ],
   "source": [
    "########################################\n",
    "# Select the data for plotting\n",
    "X = []\n",
    "Y = []\n",
    "Z = []\n",
    "for i in range(gamma1.size):\n",
    "    if abs(gamma3[i]) < np.finfo(float).eps:\n",
    "        X.append(gamma1[i])\n",
    "        Y.append(gamma2[i])\n",
    "        Z.append(W2[i])\n",
    "        \n",
    "        \n",
    "########################################\n",
    "# Compute the fitted surface\n",
    "Xsurf = set_range(gamma1, 40)\n",
    "Ysurf = set_range(gamma2, 40)\n",
    "Xsurf, Ysurf = np.meshgrid(Xsurf, Ysurf)\n",
    "Zsurf = np.zeros(Xsurf.shape)\n",
    "for i in range(Xsurf.shape[0]):\n",
    "    for j in range(Xsurf.shape[1]):\n",
    "        Zsurf[i][j] = responseW2(Xsurf[i][j], Ysurf[i][j], 0.0, \n",
    "                                 finalparameters, finalexponenets)\n",
    "        \n",
    "########################################\n",
    "# Truncate the surface \n",
    "Zsurf[Zsurf>max(Z)] = np.NaN\n",
    "Zsurf[Zsurf<min(Z)] = np.NaN\n",
    "\n",
    "fig = plt.figure()\n",
    "ax = fig.add_subplot(111, projection='3d')\n",
    "ax.scatter(X,Y,Z, c='r', marker='o')\n",
    "surf = ax.plot_wireframe(Xsurf, Ysurf, Zsurf, rstride=2, cstride=2, color='black')\n",
    "ax.view_init(elev=25., azim=240)\n",
    "plt.savefig(infiles[0][:-4]+'fitW2surf.png',dpi=500,bbox_inches='tight')\n",
    "plt.show()"
   ]
  },
  {
   "cell_type": "code",
   "execution_count": 1170,
   "metadata": {
    "collapsed": false
   },
   "outputs": [
    {
     "name": "stderr",
     "output_type": "stream",
     "text": [
      "/Users/willwiz/anaconda/lib/python3.5/site-packages/ipykernel/__main__.py:27: RuntimeWarning: invalid value encountered in less\n"
     ]
    },
    {
     "data": {
      "image/png": "[encoded data removed]",
      "text/plain": [
       "<matplotlib.figure.Figure at 0x126a595c0>"
      ]
     },
     "metadata": {},
     "output_type": "display_data"
    }
   ],
   "source": [
    "########################################\n",
    "# Select the data for plotting\n",
    "X = []\n",
    "Y = []\n",
    "Z = []\n",
    "for i in range(gamma1.size):\n",
    "    if abs(gamma2[i]) < np.finfo(float).eps:\n",
    "        X.append(gamma1[i])\n",
    "        Y.append(gamma3[i])\n",
    "        Z.append(W3[i])\n",
    "        \n",
    "        \n",
    "########################################\n",
    "# Compute the fitted surface\n",
    "Xsurf = set_range(gamma1, 40)\n",
    "Ysurf = set_range(gamma3, 40)\n",
    "Xsurf, Ysurf = np.meshgrid(Xsurf, Ysurf)\n",
    "Zsurf = np.zeros(Xsurf.shape)\n",
    "for i in range(Xsurf.shape[0]):\n",
    "    for j in range(Xsurf.shape[1]):\n",
    "        Zsurf[i][j] = responseW3(Xsurf[i][j], 0.0, Ysurf[i][j],\n",
    "                                 finalparameters, finalexponenets)\n",
    "        \n",
    "########################################\n",
    "# Truncate the surface \n",
    "Zsurf[Zsurf>max(Z)] = np.NaN\n",
    "Zsurf[Zsurf<min(Z)] = np.NaN\n",
    "\n",
    "fig = plt.figure()\n",
    "ax = fig.add_subplot(111, projection='3d')\n",
    "ax.scatter(X,Y,Z, c='r', marker='o')\n",
    "surf = ax.plot_wireframe(Xsurf, Ysurf, Zsurf, rstride=2, cstride=2, color='black')\n",
    "ax.view_init(elev=25., azim=240)\n",
    "plt.savefig(infiles[0][:-4]+'fitW3surf.png',dpi=500,bbox_inches='tight')\n",
    "plt.show()"
   ]
  },
  {
   "cell_type": "code",
   "execution_count": null,
   "metadata": {
    "collapsed": true
   },
   "outputs": [],
   "source": []
  },
  {
   "cell_type": "code",
   "execution_count": 1171,
   "metadata": {
    "collapsed": false
   },
   "outputs": [],
   "source": [
    "# ########################################\n",
    "# # Select the data for plotting\n",
    "# X = []\n",
    "# Y = []\n",
    "# Z = []\n",
    "# for i in range(gamma1.size):\n",
    "#     if abs(gamma3[i]) < np.finfo(float).eps:\n",
    "#         X.append(gamma1[i])\n",
    "#         Y.append(gamma2[i])\n",
    "#         Z.append(W1[i])\n",
    "# ########################################\n",
    "# # Compute the fitted surface\n",
    "# Zfit = np.zeros(len(X))\n",
    "# for i in range(len(X)):\n",
    "#     Zfit[i] = responseW1(X[i], Y[i], 0.0, finalparameters, finalexponenets)\n",
    "\n",
    "    \n",
    "# ########################################\n",
    "# # Plot the results\n",
    "# fig_ls_data = plt.figure()\n",
    "# ax = fig_ls_data.add_subplot(111, projection='3d')\n",
    "# ax.scatter(X,Y,Z, c='r', marker='o')\n",
    "# ax.scatter(X,Y,Zfit, c='b', marker='^')\n",
    "# ax.view_init(elev=25., azim=240)\n",
    "# ax.set_title(r'$W_1 (kPa)$')\n",
    "# ax.set_xlabel(r'$\\gamma_1$')\n",
    "# ax.set_ylabel(r'$\\gamma_2$')\n",
    "# plt.savefig(infiles[0][:-4]+'W1scatter.png',dpi=500,bbox_inches='tight')\n",
    "# plt.show()\n"
   ]
  },
  {
   "cell_type": "code",
   "execution_count": 1172,
   "metadata": {
    "collapsed": false
   },
   "outputs": [],
   "source": [
    "# ########################################\n",
    "# # Select the data for plotting\n",
    "# X = []\n",
    "# Y = []\n",
    "# Z = []\n",
    "# for i in range(gamma1.size):\n",
    "#     if abs(gamma3[i]) < np.finfo(float).eps:\n",
    "#         X.append(gamma1[i])\n",
    "#         Y.append(gamma2[i])\n",
    "#         Z.append(W2[i])\n",
    "# ########################################\n",
    "# # Compute the fitted surface\n",
    "# Zfit = np.zeros(len(X))\n",
    "# for i in range(len(X)):\n",
    "#     Zfit[i] = responseW2(X[i], Y[i], 0.0, finalparameters, finalexponenets)\n",
    "\n",
    "    \n",
    "# ########################################\n",
    "# # Plot the results\n",
    "# fig_ls_data = plt.figure()\n",
    "# ax = fig_ls_data.add_subplot(111, projection='3d')\n",
    "# ax.scatter(X,Y,Z, c='r', marker='o')\n",
    "# ax.scatter(X,Y,Zfit, c='b', marker='^')\n",
    "# ax.view_init(elev=25., azim=240)\n",
    "# ax.set_title(r'$W_1 (kPa)$')\n",
    "# ax.set_xlabel(r'$\\gamma_1$')\n",
    "# ax.set_ylabel(r'$\\gamma_2$')\n",
    "# plt.savefig(infiles[0][:-4]+'W2scatter.png',dpi=500,bbox_inches='tight')\n",
    "# plt.show()\n"
   ]
  },
  {
   "cell_type": "code",
   "execution_count": 1173,
   "metadata": {
    "collapsed": false
   },
   "outputs": [],
   "source": [
    "# ########################################\n",
    "# # Select the data for plotting\n",
    "# X = []\n",
    "# Y = []\n",
    "# Z = []\n",
    "# for i in range(gamma1.size):\n",
    "#     if abs(gamma1[i]) < np.finfo(float).eps:\n",
    "#         X.append(gamma2[i])\n",
    "#         Y.append(gamma3[i])\n",
    "#         Z.append(W3[i])\n",
    "# ########################################\n",
    "# # Compute the fitted surface\n",
    "# Zfit = np.zeros(len(X))\n",
    "# for i in range(len(X)):\n",
    "#     Zfit[i] = responseW3(0.0, X[i], Y[i], finalparameters, finalexponenets)\n",
    "\n",
    "    \n",
    "# ########################################\n",
    "# # Plot the results\n",
    "# fig_ls_data = plt.figure()\n",
    "# ax = fig_ls_data.add_subplot(111, projection='3d')\n",
    "# ax.scatter(X,Y,Z, c='r', marker='o')\n",
    "# ax.scatter(X,Y,Zfit, c='b', marker='^')\n",
    "# ax.view_init(elev=25., azim=240)\n",
    "# ax.set_title(r'$W_1 (kPa)$')\n",
    "# ax.set_xlabel(r'$\\gamma_1$')\n",
    "# ax.set_ylabel(r'$\\gamma_2$')\n",
    "# plt.savefig(infiles[0][:-4]+'W3scatter.png',dpi=500,bbox_inches='tight')\n",
    "# plt.show()\n"
   ]
  },
  {
   "cell_type": "code",
   "execution_count": null,
   "metadata": {
    "collapsed": true
   },
   "outputs": [],
   "source": []
  },
  {
   "cell_type": "markdown",
   "metadata": {},
   "source": [
    "### Convexity"
   ]
  },
  {
   "cell_type": "code",
   "execution_count": 1174,
   "metadata": {
    "collapsed": false
   },
   "outputs": [
    {
     "name": "stderr",
     "output_type": "stream",
     "text": [
      "/Users/willwiz/anaconda/lib/python3.5/site-packages/matplotlib/contour.py:1518: UserWarning: Log scale: values of z <= 0 have been masked\n",
      "  warnings.warn('Log scale: values of z <= 0 have been masked')\n"
     ]
    },
    {
     "data": {
      "image/png": "[encoded data removed]",
      "text/plain": [
       "<matplotlib.figure.Figure at 0x119f8e390>"
      ]
     },
     "metadata": {},
     "output_type": "display_data"
    }
   ],
   "source": [
    "Xsurf = set_range(gamma1, 40)\n",
    "Ysurf = set_range(gamma2, 40)\n",
    "Xsurf, Ysurf = np.meshgrid(Xsurf, Ysurf)\n",
    "Zenergysurf = np.zeros(Xsurf.shape)\n",
    "for i in range(Xsurf.shape[0]):\n",
    "    for j in range(Xsurf.shape[1]):\n",
    "        Zenergysurf[i][j] = strainenergy(Xsurf[i][j], Ysurf[i][j], 0.0,\n",
    "                                         finalparameters, finalexponenets)   \n",
    "        \n",
    "        \n",
    "plt.figure()\n",
    "CS = plt.contour(Xsurf, Ysurf, Zenergysurf, 20,\n",
    "                 colors='k',locator=plt.LogLocator()# negative contours will be dashed by default\n",
    "                 )\n",
    "fmt = ticker.LogFormatterMathtext()\n",
    "fmt.create_dummy_axis()\n",
    "plt.clabel(CS, CS.levels, fontsize=9, inline=1)\n",
    "plt.savefig(infiles[0][:-4]+'fitenergylogcontourlog12.png',dpi=500,bbox_inches='tight')\n",
    "plt.show()"
   ]
  },
  {
   "cell_type": "code",
   "execution_count": 1175,
   "metadata": {
    "collapsed": false
   },
   "outputs": [
    {
     "name": "stderr",
     "output_type": "stream",
     "text": [
      "/Users/willwiz/anaconda/lib/python3.5/site-packages/matplotlib/contour.py:1518: UserWarning: Log scale: values of z <= 0 have been masked\n",
      "  warnings.warn('Log scale: values of z <= 0 have been masked')\n"
     ]
    },
    {
     "data": {
      "image/png": "[encoded data removed]",
      "text/plain": [
       "<matplotlib.figure.Figure at 0x12682ec88>"
      ]
     },
     "metadata": {},
     "output_type": "display_data"
    }
   ],
   "source": [
    "Xsurf = set_range(gamma1, 40)\n",
    "Ysurf = set_range(gamma3, 40)\n",
    "Xsurf, Ysurf = np.meshgrid(Xsurf, Ysurf)\n",
    "Zenergysurf = np.zeros(Xsurf.shape)\n",
    "for i in range(Xsurf.shape[0]):\n",
    "    for j in range(Xsurf.shape[1]):\n",
    "        Zenergysurf[i][j] = strainenergy(Xsurf[i][j], 0.0, Ysurf[i][j],\n",
    "                                         finalparameters, finalexponenets)   \n",
    "        \n",
    "        \n",
    "plt.figure()\n",
    "CS = plt.contour(Xsurf, Ysurf, Zenergysurf, 20,\n",
    "                 colors='k',locator=plt.LogLocator()# negative contours will be dashed by default\n",
    "                 )\n",
    "fmt = ticker.LogFormatterMathtext()\n",
    "fmt.create_dummy_axis()\n",
    "plt.clabel(CS, CS.levels, fontsize=9, inline=1)\n",
    "plt.savefig(infiles[0][:-4]+'fitenergylogcontourlog12.png',dpi=500,bbox_inches='tight')\n",
    "plt.show()"
   ]
  },
  {
   "cell_type": "code",
   "execution_count": 1176,
   "metadata": {
    "collapsed": false,
    "scrolled": true
   },
   "outputs": [
    {
     "name": "stderr",
     "output_type": "stream",
     "text": [
      "/Users/willwiz/anaconda/lib/python3.5/site-packages/matplotlib/contour.py:1518: UserWarning: Log scale: values of z <= 0 have been masked\n",
      "  warnings.warn('Log scale: values of z <= 0 have been masked')\n"
     ]
    },
    {
     "data": {
      "image/png": "[encoded data removed]",
      "text/plain": [
       "<matplotlib.figure.Figure at 0x119fa49e8>"
      ]
     },
     "metadata": {},
     "output_type": "display_data"
    }
   ],
   "source": [
    "Xsurf = set_range(gamma2, 40)\n",
    "Ysurf = set_range(gamma3, 40)\n",
    "Xsurf, Ysurf = np.meshgrid(Xsurf, Ysurf)\n",
    "Zenergysurf = np.zeros(Xsurf.shape)\n",
    "for i in range(Xsurf.shape[0]):\n",
    "    for j in range(Xsurf.shape[1]):\n",
    "        Zenergysurf[i][j] = strainenergy(0.0, Xsurf[i][j], Ysurf[i][j], \n",
    "                                         finalparameters, finalexponenets)   \n",
    "        \n",
    "        \n",
    "plt.figure()\n",
    "CS = plt.contour(Xsurf, Ysurf, Zenergysurf, 20,\n",
    "                 colors='k',locator=plt.LogLocator()# negative contours will be dashed by default\n",
    "                 )\n",
    "fmt = ticker.LogFormatterMathtext()\n",
    "fmt.create_dummy_axis()\n",
    "plt.clabel(CS, CS.levels, fontsize=9, inline=1)\n",
    "plt.savefig(infiles[0][:-4]+'fitenergylogcontourlog12.png',dpi=500,bbox_inches='tight')\n",
    "plt.show()"
   ]
  },
  {
   "cell_type": "markdown",
   "metadata": {},
   "source": [
    "### Advanced results"
   ]
  },
  {
   "cell_type": "code",
   "execution_count": 1177,
   "metadata": {
    "collapsed": false,
    "scrolled": true
   },
   "outputs": [
    {
     "name": "stdout",
     "output_type": "stream",
     "text": [
      "6938.1859332\n",
      "13737.5941439\n",
      "967.481214545\n",
      "842.981342399\n",
      "2402.39284766\n",
      "4093.88999877\n",
      "857.179409702\n",
      "537.150167746\n",
      "573.500783841\n",
      "1797.31431964\n",
      "6863.52450074\n",
      "967.481214545\n",
      "842.981342399\n",
      "2402.39284766\n",
      "4093.88999877\n",
      "-687.830293015\n",
      "205.097913595\n",
      "6938.1859332\n",
      "13737.5941439\n",
      "-25.2126725083\n",
      "-109.288979885\n",
      "-237.976356328\n",
      "-194.4366775\n",
      "-94.425967196\n",
      "-136.358008923\n",
      "-178.282209522\n",
      "-380.656889021\n",
      "62.1982633784\n",
      "0.0\n",
      "-53.4858692998\n",
      "-377.648260181\n",
      "-94.425967196\n",
      "-136.358008923\n",
      "-178.282209522\n",
      "-380.656889021\n",
      "-25.2126725083\n",
      "-109.288979885\n",
      "-237.976356328\n",
      "-194.4366775\n",
      "235.152130991\n",
      "187.797212063\n",
      "588.231033473\n",
      "248.262251493\n",
      "204.938425721\n",
      "340.245184439\n",
      "1093.86187196\n",
      "327.442118199\n",
      "234.181653099\n",
      "238.713004292\n",
      "515.559926235\n",
      "248.262251493\n",
      "204.938425721\n",
      "340.245184439\n",
      "1093.86187196\n",
      "235.152130991\n",
      "187.797212063\n",
      "588.231033473\n",
      "2124.2183029\n",
      "3173.77329461\n",
      "903.222867072\n",
      "1086.72901672\n",
      "1670.73377769\n",
      "686.317565787\n",
      "540.101065\n",
      "627.350744108\n",
      "1730.79414417\n",
      "903.222867072\n",
      "1086.72901672\n",
      "1670.73377769\n",
      "2124.2183029\n",
      "3173.77329461\n",
      "971.218240158\n"
     ]
    }
   ],
   "source": [
    "for i in range(ncons):\n",
    "    print(constraint1(i, finalexponenets, finalparameters))"
   ]
  },
  {
   "cell_type": "code",
   "execution_count": 1178,
   "metadata": {
    "collapsed": false,
    "scrolled": true
   },
   "outputs": [
    {
     "name": "stdout",
     "output_type": "stream",
     "text": [
      "3070303.99345\n",
      "9810822.61034\n",
      "-1637734.99423\n",
      "9080.1482718\n",
      "720842.675616\n",
      "1447610.25501\n",
      "-781214.875619\n",
      "21.7857228339\n",
      "140242.020891\n",
      "577821.908752\n",
      "1886950.88617\n",
      "-1637734.99423\n",
      "9080.1482718\n",
      "720842.675616\n",
      "1447610.25501\n",
      "-6632212.67494\n",
      "-470994.530273\n",
      "3070303.99345\n",
      "9810822.61034\n",
      "52889.8333414\n",
      "-59388.3902647\n",
      "-190597.988869\n",
      "-167464.716443\n",
      "118555.058122\n",
      "-231.985899471\n",
      "-78138.4881452\n",
      "-200116.623783\n",
      "-64072.6823317\n",
      "0.0\n",
      "-18655.7572168\n",
      "-162340.570042\n",
      "118555.058122\n",
      "-231.985899471\n",
      "-78138.4881452\n",
      "-200116.623783\n",
      "52889.8333414\n",
      "-59388.3902647\n",
      "-190597.988869\n",
      "-167464.716443\n",
      "-533456.092622\n",
      "-43570.5066016\n",
      "249251.826074\n",
      "-301582.852274\n",
      "251.662171834\n",
      "151096.146907\n",
      "571782.612152\n",
      "-306821.494973\n",
      "-0.304000331621\n",
      "81509.1899747\n",
      "230219.963023\n",
      "-301582.852274\n",
      "251.662171834\n",
      "151096.146907\n",
      "571782.612152\n",
      "-533456.092622\n",
      "-43570.5066016\n",
      "249251.826074\n",
      "-5353258.46917\n",
      "80600.6497216\n",
      "-589988.278732\n",
      "33976.5231185\n",
      "940784.093252\n",
      "-290516.620849\n",
      "-80.7161489537\n",
      "264522.562176\n",
      "622954.599774\n",
      "-589988.278732\n",
      "33976.5231185\n",
      "940784.093252\n",
      "-5353258.46917\n",
      "80600.6497216\n",
      "889873.448037\n"
     ]
    }
   ],
   "source": [
    "for i in range(ncons):\n",
    "    print(constraint4(i, finalexponenets, finalparameters))"
   ]
  },
  {
   "cell_type": "code",
   "execution_count": 1179,
   "metadata": {
    "collapsed": false,
    "scrolled": true
   },
   "outputs": [
    {
     "name": "stdout",
     "output_type": "stream",
     "text": [
      "93225046.2341\n",
      "-7481416778.53\n",
      "-141627279.479\n",
      "-7658938.43162\n",
      "-92003008.5718\n",
      "-147549654.593\n",
      "230609780.93\n",
      "-5589.80513377\n",
      "-19075827.5028\n",
      "75816629.9512\n",
      "1079333031.17\n",
      "-141627279.479\n",
      "-7658938.43162\n",
      "-92003008.5718\n",
      "-147549654.593\n",
      "-6181872814.54\n",
      "-386055912.637\n",
      "93225046.2341\n",
      "-7481416778.53\n",
      "74352576.9261\n",
      "-0.0\n",
      "-276615613.732\n",
      "-726011055.997\n",
      "-8800494.77043\n",
      "-0.0\n",
      "-1190238.20308\n",
      "2769360.08093\n",
      "6351265.32093\n",
      "0.0\n",
      "-495830.413835\n",
      "-44801171.4388\n",
      "-8800494.77043\n",
      "0.0\n",
      "-1190238.20308\n",
      "2769360.08093\n",
      "74352576.9261\n",
      "0.0\n",
      "-276615613.732\n",
      "-726011055.997\n",
      "-65449083.3082\n",
      "15818941.1783\n",
      "-143269045.883\n",
      "49425774.5636\n",
      "-388236.039595\n",
      "19878337.3243\n",
      "92083427.8772\n",
      "43283759.2896\n",
      "15.8247072537\n",
      "-1028502.51003\n",
      "63104689.6169\n",
      "49425774.5636\n",
      "-388236.039595\n",
      "19878337.3243\n",
      "92083427.8772\n",
      "-65449083.3082\n",
      "15818941.1783\n",
      "-143269045.883\n",
      "-4704883543.34\n",
      "-569471892.352\n",
      "-136704713.018\n",
      "-7159844.41745\n",
      "142207643.495\n",
      "72284714.453\n",
      "9253.05159921\n",
      "19955987.596\n",
      "498155838.894\n",
      "-136704713.018\n",
      "-7159844.41745\n",
      "142207643.495\n",
      "-4704883543.34\n",
      "-569471892.352\n",
      "-60997765.104\n"
     ]
    }
   ],
   "source": [
    "for i in range(ncons):\n",
    "    print(constraint7(i, finalexponenets, finalparameters))"
   ]
  },
  {
   "cell_type": "markdown",
   "metadata": {
    "collapsed": true
   },
   "source": [
    "## Auxilary code"
   ]
  },
  {
   "cell_type": "code",
   "execution_count": 1180,
   "metadata": {
    "collapsed": false,
    "scrolled": true
   },
   "outputs": [
    {
     "ename": "NameError",
     "evalue": "name 'sortedpositions' is not defined",
     "output_type": "error",
     "traceback": [
      "\u001b[0;31m--------------------------------------------------\u001b[0m",
      "\u001b[0;31mNameError\u001b[0m        Traceback (most recent call last)",
      "\u001b[0;32m<ipython-input-1180-b9f02b5b3862>\u001b[0m in \u001b[0;36m<module>\u001b[0;34m()\u001b[0m\n\u001b[1;32m      1\u001b[0m \u001b[0minitiallist\u001b[0m \u001b[0;34m=\u001b[0m \u001b[0msetunion\u001b[0m\u001b[0;34m\u001b[0m\u001b[0m\n\u001b[1;32m      2\u001b[0m \u001b[0mremovedlist\u001b[0m \u001b[0;34m=\u001b[0m \u001b[0;34m[\u001b[0m\u001b[0;34m]\u001b[0m\u001b[0;34m\u001b[0m\u001b[0m\n\u001b[0;32m----> 3\u001b[0;31m \u001b[0mcostlist\u001b[0m \u001b[0;34m=\u001b[0m \u001b[0mnp\u001b[0m\u001b[0;34m.\u001b[0m\u001b[0mfull\u001b[0m\u001b[0;34m(\u001b[0m\u001b[0msortedpositions\u001b[0m\u001b[0;34m.\u001b[0m\u001b[0msize\u001b[0m\u001b[0;34m,\u001b[0m \u001b[0mnp\u001b[0m\u001b[0;34m.\u001b[0m\u001b[0minf\u001b[0m\u001b[0;34m)\u001b[0m\u001b[0;34m\u001b[0m\u001b[0m\n\u001b[0m\u001b[1;32m      4\u001b[0m \u001b[0mcostresults\u001b[0m \u001b[0;34m=\u001b[0m \u001b[0;34m[\u001b[0m\u001b[0;34m]\u001b[0m\u001b[0;34m\u001b[0m\u001b[0m\n\u001b[1;32m      5\u001b[0m \u001b[0mparmresults\u001b[0m \u001b[0;34m=\u001b[0m \u001b[0;34m[\u001b[0m\u001b[0;34m]\u001b[0m\u001b[0;34m\u001b[0m\u001b[0m\n",
      "\u001b[0;31mNameError\u001b[0m: name 'sortedpositions' is not defined"
     ]
    }
   ],
   "source": [
    "initiallist = setunion\n",
    "removedlist = []\n",
    "costlist = np.full(sortedpositions.size, np.inf)\n",
    "costresults = []\n",
    "parmresults = []\n",
    "termresults = []\n",
    "initialguess = np.zeros(keypositions[nk])\n",
    "timecost = np.zeros((len(initiallist) - 4))\n",
    "res = [[0 for j in range(max(initiallist)+1)] for i in range(len(initiallist))]"
   ]
  },
  {
   "cell_type": "code",
   "execution_count": null,
   "metadata": {
    "collapsed": true
   },
   "outputs": [],
   "source": [
    "for i in range(len(initiallist) -4):\n",
    "    start = time.time()\n",
    "    for j in initiallist[4:]:\n",
    "        testlist = [k for k in initiallist if k!=j]\n",
    "        res[i][j] = lsq_linear(Wtensor[:,sortedpositions[testlist]], Wvector, lsmr_tol='auto', max_iter=10000, verbose=0)\n",
    "        costlist[j] = res[i][j].cost\n",
    "    besti = costlist.argmin()\n",
    "    initiallist.remove(besti)\n",
    "    removedlist.append(besti)\n",
    "    costresults.append(costlist[besti])\n",
    "    parmresults.append(res[i][besti].x)\n",
    "    termresults.append(np.array(initiallist))\n",
    "    costlist[besti] = np.inf\n",
    "    end = time.time()\n",
    "    timecost[i] = end - start\n",
    "    print(i)"
   ]
  },
  {
   "cell_type": "code",
   "execution_count": null,
   "metadata": {
    "collapsed": true
   },
   "outputs": [],
   "source": []
  },
  {
   "cell_type": "code",
   "execution_count": null,
   "metadata": {
    "collapsed": true
   },
   "outputs": [],
   "source": []
  }
 ],
 "metadata": {
  "kernelspec": {
   "display_name": "Python [default]",
   "language": "python",
   "name": "python3"
  },
  "language_info": {
   "codemirror_mode": {
    "name": "ipython",
    "version": 3
   },
   "file_extension": ".py",
   "mimetype": "text/x-python",
   "name": "python",
   "nbconvert_exporter": "python",
   "pygments_lexer": "ipython3",
   "version": "3.5.2"
  }
 },
 "nbformat": 4,
 "nbformat_minor": 2
}
